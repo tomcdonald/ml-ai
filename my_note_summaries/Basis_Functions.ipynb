{
 "cells": [
  {
   "cell_type": "markdown",
   "metadata": {
    "colab_type": "text",
    "id": "L3E3Ojv_Z9Pi"
   },
   "source": [
    "# Basis Functions\n",
    "\n",
    "## Machine Learning and Adaptive Intelligence\n",
    "\n",
    "### Mauricio Álvarez \n",
    "\n",
    "### Based on slides by Neil D. Lawrence\n"
   ]
  },
  {
   "cell_type": "code",
   "execution_count": 1,
   "metadata": {
    "colab": {
     "base_uri": "https://localhost:8080/",
     "height": 194
    },
    "colab_type": "code",
    "id": "8zQYBqvUaGdc",
    "outputId": "7beb3a36-9295-4ef3-bf67-f136422c490d"
   },
   "outputs": [
    {
     "name": "stdout",
     "output_type": "stream",
     "text": [
      "Collecting pods\n",
      "\u001b[?25l  Downloading https://files.pythonhosted.org/packages/2a/d0/662bffee2b0b9eb34bc5de1255aec46534343a7b2de8e04fd0e7936221f8/pods-v0.0.2-alpha.tar.gz (55kB)\n",
      "\u001b[K     |████████████████████████████████| 61kB 3.0MB/s \n",
      "\u001b[?25hBuilding wheels for collected packages: pods\n",
      "  Building wheel for pods (setup.py) ... \u001b[?25l\u001b[?25hdone\n",
      "  Created wheel for pods: filename=pods-0.0.2a0-cp36-none-any.whl size=60190 sha256=91c8f3c29447daa5d871fea7174dca95cd22c1a9ea1d97d03dc5a5646a14d9c0\n",
      "  Stored in directory: /root/.cache/pip/wheels/c0/9e/85/cee9ede6d0388b86a8ee717e4f265aa0dcf8a00b1c654e6ed4\n",
      "Successfully built pods\n",
      "Installing collected packages: pods\n",
      "Successfully installed pods-0.0.2a0\n"
     ]
    }
   ],
   "source": [
    "! pip install pods\n",
    "import pods"
   ]
  },
  {
   "cell_type": "code",
   "execution_count": null,
   "metadata": {
    "colab": {},
    "colab_type": "code",
    "id": "5up9jffoZ9Pj"
   },
   "outputs": [],
   "source": [
    "import pods\n",
    "import mlai\n",
    "from matplotlib import pyplot as plt\n",
    "import numpy as np\n",
    "import scipy as sp\n",
    "import teaching_plots as plot\n",
    "%matplotlib inline"
   ]
  },
  {
   "cell_type": "markdown",
   "metadata": {
    "colab_type": "text",
    "id": "-vGclY09Z9Pn"
   },
   "source": [
    "### Review\n",
    "- Last time: explored least squares for univariate and multivariate regression.\n",
    "- Introduced matrices, linear algebra and derivatives.\n",
    "- This time: introduce *basis functions* for non-linear regression models."
   ]
  },
  {
   "cell_type": "markdown",
   "metadata": {
    "colab_type": "text",
    "id": "z3yFKVpWZ9Po"
   },
   "source": [
    "### Nonlinear Regression\n",
    "\n",
    "-   Problem with Linear Regression: $\\mathbf{x}$ may not be linearly related to $\\mathbf{y}$.\n",
    "\n",
    "-   Potential solution: create a feature space: define $\\phi(\\mathbf{x})$ where $\\phi(\\cdot)$ is a nonlinear function of $\\mathbf{x}$.\n",
    "\n",
    "-   Model for target is a linear combination of these nonlinear\n",
    "    functions\n",
    "    $$f(\\mathbf{x}) = \\sum_{j=0}^m w_j \\phi_j(\\mathbf{x})$$"
   ]
  },
  {
   "cell_type": "markdown",
   "metadata": {
    "colab_type": "text",
    "id": "u10zFirqZ9Pp"
   },
   "source": [
    "### Quadratic Basis\n",
    "\n",
    "-   Basis functions can be global. E.g. quadratic basis:\n",
    "    $$\\boldsymbol{\\phi} = [1, x, x^2]$$"
   ]
  },
  {
   "cell_type": "code",
   "execution_count": null,
   "metadata": {
    "colab": {},
    "colab_type": "code",
    "id": "VL8UC37YZ9Pq",
    "outputId": "a170144a-68fc-40d4-9ff3-a76e028c5017"
   },
   "outputs": [
    {
     "data": {
      "image/png": "[encoded data removed]",
      "text/plain": [
       "<Figure size 504x504 with 1 Axes>"
      ]
     },
     "metadata": {
      "needs_background": "light",
      "tags": []
     },
     "output_type": "display_data"
    }
   ],
   "source": [
    "f, ax = plt.subplots(figsize=(7, 7))\n",
    "import os\n",
    "\n",
    "loc =[[0, 1.4,],\n",
    "      [0, -0.7],\n",
    "      [0.75, -0.2]]\n",
    "text =['$\\phi(x) = 1$',\n",
    "       '$\\phi(x) = x$',\n",
    "       '$\\phi(x) = x^2$']\n",
    "mlai.plot_basis(mlai.polynomial, x_min=-1.3, x_max=1.3, fig=f, ax=ax, loc=loc, text=text)    \n"
   ]
  },
  {
   "cell_type": "code",
   "execution_count": null,
   "metadata": {
    "colab": {},
    "colab_type": "code",
    "id": "urzPjbYYZ9Pt"
   },
   "outputs": [],
   "source": [
    "from ipywidgets import *\n",
    "def display_plots(filebase, directory=None, width=700, height=500, **kwargs):\n",
    "    \"\"\"Display a series of plots controlled by sliders. The function relies on Python string format functionality to index through a series of plots.\"\"\"\n",
    "    def show_figure(filebase, directory, **kwargs):\n",
    "        \"\"\"Helper function to load in the relevant plot for display.\"\"\"\n",
    "        filename = filebase.format(**kwargs)\n",
    "        if directory is not None:\n",
    "            filename = directory + '/' + filename           \n",
    "        display(HTML(\"<img src='{filename}'>\".format(filename=filename)))\n",
    "        \n",
    "    interact(show_figure, filebase=fixed(filebase), directory=fixed(directory), **kwargs)"
   ]
  },
  {
   "cell_type": "code",
   "execution_count": null,
   "metadata": {
    "colab": {},
    "colab_type": "code",
    "id": "Rj3i42u7Z9Pw",
    "outputId": "8e5ef63c-4472-4a11-eddc-701b27277ce1"
   },
   "outputs": [
    {
     "data": {
      "application/vnd.jupyter.widget-view+json": {
       "model_id": "ec62ab8c5a3e48caae42f6a6fead9d64",
       "version_major": 2,
       "version_minor": 0
      },
      "text/plain": [
       "HTML(value=\"<img src='./diagrams/polynomial_basis002.svg'>\")"
      ]
     },
     "metadata": {
      "tags": []
     },
     "output_type": "display_data"
    }
   ],
   "source": [
    "display_plots('polynomial_basis{num_basis:0>3}.svg', directory='./diagrams', num_basis=(1,3))"
   ]
  },
  {
   "cell_type": "markdown",
   "metadata": {
    "colab_type": "text",
    "id": "cM6DFPwzZ9P0"
   },
   "source": [
    "<img src=\"diagrams/polynomial_basis001.svg\" width=\"500\" height=\"40\" align=center>\n",
    "<img src=\"diagrams/polynomial_basis002.svg\" width=\"500\" height=\"40\" align=center>\n",
    "<img src=\"diagrams/polynomial_basis003.svg\" width=\"500\" height=\"40\" align=center>"
   ]
  },
  {
   "cell_type": "markdown",
   "metadata": {
    "colab_type": "text",
    "id": "6WaFCdGuZ9P1"
   },
   "source": [
    "### Functions Derived from Quadratic Basis\n",
    "\n",
    "\\begin{align}\n",
    "    f(x) &= {\\color{\\redColor}w_0}\\phi_0(x) + {\\color{\\magentaColor}w_1 \\phi_1(x)} + {\\color{\\blueColor}w_2          \n",
    "                                                                                 \\phi_2(x)}\\\\\n",
    "         &= {\\color{\\redColor}w_0} \\quad\\;\\;\\;\\,+ {\\color{\\magentaColor}w_1x} \\quad\\;\\,+ {\\color{\\blueColor}w_2 x^2}\n",
    "\\end{align}"
   ]
  },
  {
   "cell_type": "code",
   "execution_count": null,
   "metadata": {
    "colab": {},
    "colab_type": "code",
    "id": "iWuxNZCVZ9P2",
    "outputId": "6543fba8-f466-47bc-ed8b-f1b7d818bb6b"
   },
   "outputs": [
    {
     "data": {
      "application/vnd.jupyter.widget-view+json": {
       "model_id": "fe20990679d744809fb3920a27be7f3e",
       "version_major": 2,
       "version_minor": 0
      },
      "text/plain": [
       "HTML(value=\"<img src='./diagrams/polynomial_function002.svg'>\")"
      ]
     },
     "metadata": {
      "tags": []
     },
     "output_type": "display_data"
    }
   ],
   "source": [
    "display_plots('polynomial_function{func_num:0>3}.svg', directory='./diagrams', func_num=(1,3))"
   ]
  },
  {
   "cell_type": "markdown",
   "metadata": {
    "colab_type": "text",
    "id": "QUEywYsJZ9P5"
   },
   "source": [
    "<img src=\"diagrams/polynomial_function001.svg\" width=\"500\" height=\"40\" align=center>\n",
    "<img src=\"diagrams/polynomial_function002.svg\" width=\"500\" height=\"40\" align=center>\n",
    "<img src=\"diagrams/polynomial_function003.svg\" width=\"500\" height=\"40\" align=center>"
   ]
  },
  {
   "cell_type": "markdown",
   "metadata": {
    "colab_type": "text",
    "id": "TjMKDfbeZ9P6"
   },
   "source": [
    "### Radial Basis Functions\n",
    "\n",
    "-   Or they can be local. E.g. radial (or Gaussian) basis\n",
    "\n",
    "    $$\\phi_j(x) = \\exp\\left(-\\frac{(x-\\mu_j)^2}{\\ell^2}\\right)$$\n"
   ]
  },
  {
   "cell_type": "code",
   "execution_count": null,
   "metadata": {
    "colab": {},
    "colab_type": "code",
    "id": "0crPnhgSZ9P7",
    "outputId": "de761219-cee5-450c-d143-248bb89224ee"
   },
   "outputs": [
    {
     "data": {
      "image/png": "[encoded data removed]",
      "text/plain": [
       "<Figure size 504x504 with 1 Axes>"
      ]
     },
     "metadata": {
      "needs_background": "light",
      "tags": []
     },
     "output_type": "display_data"
    }
   ],
   "source": [
    "f, ax = plt.subplots(figsize=(7, 7))\n",
    "\n",
    "loc = [[-1.25, -0.4],\n",
    "       [0., 1.25],\n",
    "       [1.25, -0.4]]\n",
    "text = ['$\\phi_1(x) = e^{-2(x + 1)^2}$',\n",
    "        '$\\phi_2(x) = e^{-2x^2}$', \n",
    "        '$\\phi_3(x) = e^{-2(x-1)^2}$']\n",
    "mlai.plot_basis(mlai.radial, x_min=-2, x_max=2, fig=f, ax=ax, loc=loc, text=text)   "
   ]
  },
  {
   "cell_type": "code",
   "execution_count": null,
   "metadata": {
    "colab": {},
    "colab_type": "code",
    "id": "aBoW9TWqZ9P-",
    "outputId": "3a3db33a-0668-4169-85fd-fb3efd107847"
   },
   "outputs": [
    {
     "data": {
      "application/vnd.jupyter.widget-view+json": {
       "model_id": "dcae4a60f6e441d193c42a6603c77f78",
       "version_major": 2,
       "version_minor": 0
      },
      "text/plain": [
       "HTML(value=\"<img src='./diagrams/radial_basis002.svg'>\")"
      ]
     },
     "metadata": {
      "tags": []
     },
     "output_type": "display_data"
    }
   ],
   "source": [
    "display_plots('radial_basis{num_basis:0>3}.svg', directory='./diagrams', num_basis=(1, 3))"
   ]
  },
  {
   "cell_type": "markdown",
   "metadata": {
    "colab_type": "text",
    "id": "MJiQAiznZ9QC"
   },
   "source": [
    "<img src=\"diagrams/radial_basis001.svg\" width=\"500\" height=\"40\" align=center>\n",
    "<img src=\"diagrams/radial_basis002.svg\" width=\"500\" height=\"40\" align=center>\n",
    "<img src=\"diagrams/radial_basis003.svg\" width=\"500\" height=\"40\" align=center>\n"
   ]
  },
  {
   "cell_type": "markdown",
   "metadata": {
    "colab_type": "text",
    "id": "Ep9TQRYuZ9QE"
   },
   "source": [
    "### Functions Derived from Radial Basis\n",
    "\n",
    "$$f(x) = {\\color{\\redColor}w_0 e^{-2(x+1)^2}}  + {\\color{\\magentaColor}w_1e^{-2x^2}} + {\\color{\\blueColor}w_2 e^{-2(x-1)^2}}$$"
   ]
  },
  {
   "cell_type": "code",
   "execution_count": null,
   "metadata": {
    "colab": {},
    "colab_type": "code",
    "id": "PpKKBniTZ9QF",
    "outputId": "b3139c23-3739-4e64-d04d-6afbc00141e9"
   },
   "outputs": [
    {
     "data": {
      "application/vnd.jupyter.widget-view+json": {
       "model_id": "0505e8b306ec481fae012d0740c039e5",
       "version_major": 2,
       "version_minor": 0
      },
      "text/plain": [
       "HTML(value=\"<img src='./diagrams/radial_function002.svg'>\")"
      ]
     },
     "metadata": {
      "tags": []
     },
     "output_type": "display_data"
    }
   ],
   "source": [
    "display_plots('radial_function{func_num:0>3}.svg', directory='./diagrams', func_num=(1,3))"
   ]
  },
  {
   "cell_type": "markdown",
   "metadata": {
    "colab_type": "text",
    "id": "XnDRGX_kZ9QK"
   },
   "source": [
    "<img src=\"diagrams/radial_function001.svg\" width=\"500\" height=\"40\" align=center>\n",
    "<img src=\"diagrams/radial_function002.svg\" width=\"500\" height=\"40\" align=center>\n",
    "<img src=\"diagrams/radial_function003.svg\" width=\"500\" height=\"40\" align=center>\n"
   ]
  },
  {
   "cell_type": "markdown",
   "metadata": {
    "colab_type": "text",
    "id": "zMC6mCy4Z9QK"
   },
   "source": [
    "### Basis Function Models\n",
    "\n",
    "-   The *prediction function* is now defined as\n",
    "    $$f(\\mathbf{x}_i) = \\sum_{j=0}^m w_j \\phi_{i, j},$$\n",
    "\n",
    "where we have used $\\phi_{i, j} = \\phi_{j}(\\mathbf{x}_i)$."
   ]
  },
  {
   "cell_type": "markdown",
   "metadata": {
    "colab_type": "text",
    "id": "lPcaeKtUZ9QL"
   },
   "source": [
    "## Vector Notation\n",
    "\n",
    "-   Write in vector notation,\n",
    "    $$f(\\mathbf{x}_i) = \\mathbf{w}^\\top \\boldsymbol{\\phi}_i$$\n",
    "    \n",
    "-   This is, we joint the scalar functions $\\phi_{ij}$ into a vector $\\boldsymbol{\\phi}_i$\n",
    "\n",
    "\\begin{align*}\n",
    "    \\boldsymbol{\\phi}_i =\n",
    "                \\begin{bmatrix}\n",
    "                    \\phi_0(\\mathbf{x}_i)\\\\\n",
    "                    \\phi_1(\\mathbf{x}_i)\\\\\n",
    "                    \\vdots\\\\\n",
    "                    \\phi_m(\\mathbf{x}_i)\n",
    "                \\end{bmatrix}.\n",
    "\\end{align*}"
   ]
  },
  {
   "cell_type": "markdown",
   "metadata": {
    "colab_type": "text",
    "id": "f35FeH5BZ9QM"
   },
   "source": [
    "### Log Likelihood for Basis Function Model\n",
    "\n",
    "-   The likelihood of a single data point is\n",
    "    $$p\\left(y_i|\\mathbf{x}_i\\right)=\\frac{1}{\\sqrt{2\\pi\\sigma^2}}\\exp\n",
    "        \\left(-\\frac{\\left(y_i-\\mathbf{w}^{\\top}\\boldsymbol{\\phi}_i\\right)^{2}}{2\\sigma^2}\\right).$$\n",
    "       \n",
    "-   Using the i.i.d. assumption on the whole dataset\n",
    "\\begin{align*}\n",
    "   p(\\mathbf{y}|\\mathbf{X})&= \\prod_{i=1}^n p(y_i|\\mathbf{x}_i)\\\\\n",
    "   p(\\mathbf{y}|\\mathbf{X})&= \\prod_{i=1}^n \\frac{1}{\\sqrt{2\\pi \\sigma^2}}\\exp \\left(-  \n",
    "                              \\frac{\\left(y_i-\\mathbf{w}^{\\top}\\boldsymbol{\\phi}_i\\right)^{2}}{2\\sigma^2}\\right)\\\\\n",
    "   p(\\mathbf{y}|\\mathbf{X})&= \\frac{1}{\\left(2\\pi \\sigma^2\\right)^{\\frac{n}{2}}}\\exp\\left(-\n",
    "                               \\frac{\\sum_{i=1}^n\\left(y_i-\\mathbf{w}^{\\top}\\boldsymbol{\\phi}_i\\right)^{2}} \n",
    "                                      {2\\sigma^2}\\right).\n",
    " \\end{align*}"
   ]
  },
  {
   "cell_type": "markdown",
   "metadata": {
    "colab_type": "text",
    "id": "qmJjzQkuZ9QN"
   },
   "source": [
    "### Log Likelihood for Basis Function Model\n",
    "\n",
    "-   Leading to a log likelihood for the data set of\n",
    "    $$L(\\mathbf{w},\\sigma^2)= -\\frac{n}{2}\\log \\sigma^2\n",
    "          -\\frac{n}{2}\\log 2\\pi -\\frac{\\sum\n",
    "            _{i=1}^{n}\\left(y_i-\\mathbf{w}^{\\top}\\boldsymbol{\\phi}_i\\right)^{2}}{2\\sigma^2}.$$\n",
    "\n",
    " "
   ]
  },
  {
   "cell_type": "markdown",
   "metadata": {
    "colab_type": "text",
    "id": "0kUNpmkCZ9QO"
   },
   "source": [
    "### Objective Function\n",
    "\n",
    "- And a corresponding *objective function* of the form\n",
    "    $$E(\\mathbf{w},\\sigma^2)= \\frac{n}{2}\\log\n",
    "          \\sigma^2 + \\frac{\\sum\n",
    "            _{i=1}^{n}\\left(y_i-\\mathbf{w}^{\\top}\\boldsymbol{\\phi}_i\\right)^{2}}{2\\sigma^2}.$$"
   ]
  },
  {
   "cell_type": "markdown",
   "metadata": {
    "colab_type": "text",
    "id": "ZQayGi2AZ9QQ"
   },
   "source": [
    "### Expand the Brackets\n",
    "\n",
    "\\begin{align}\n",
    "  E(\\mathbf{w},\\sigma^2) =  &\\frac{n}{2}\\log \\sigma^2 + \\frac{1}{2\\sigma^2}\\sum _{i=1}^{n}y_i^{2}-\\frac{1}\n",
    "                                {\\sigma^2}\\sum _{i=1}^{n}y_i\\mathbf{w}^{\\top}\\boldsymbol{\\phi}_i\\\\ \n",
    "                           &+\\frac{1}{2\\sigma^2}\\sum_{i=1}^{n}\n",
    "                           \\mathbf{w}^{\\top}\\boldsymbol{\\phi}_i\\boldsymbol{\\phi}_i^{\\top}\\mathbf{w}.                   \n",
    "\\end{align}\n",
    " "
   ]
  },
  {
   "cell_type": "markdown",
   "metadata": {
    "colab_type": "text",
    "id": "MaRwtAM3Z9QR"
   },
   "source": [
    " ### Expand the Brackets\n",
    " $$ \\begin{align} E(\\mathbf{w}, \\sigma^2) = & \\frac{n}{2}\\log \\sigma^2 + \\frac{1}{2\\sigma^2}\\sum _{i=1}^{n}y_i^{2}-\\frac{1}{\\sigma^2}\n",
    "  \\mathbf{w}^\\top\\sum_{i=1}^{n}\\boldsymbol{\\phi}_i y_i\\\\ & +\\frac{1}{2\\sigma^2} \\mathbf{w}^{\\top}\\left[\\sum\n",
    "    _{i=1}^{n}\\boldsymbol{\\phi}_i\\boldsymbol{\\phi}_i^{\\top}\\right]\\mathbf{w}.\\end{align}$$"
   ]
  },
  {
   "cell_type": "markdown",
   "metadata": {
    "colab_type": "text",
    "id": "HU8qOD7aZ9QT"
   },
   "source": [
    "### Multivariate Derivatives Reminder\n",
    "\n",
    "-   We will need some multivariate calculus.\n",
    "    $$\\frac{\\text{d}\\mathbf{a}^{\\top}\\mathbf{w}}{\\text{d}\\mathbf{w}}=\\frac{\\text{d}\\mathbf{w}^{\\top}\\mathbf{a}}{\\text{d}\\mathbf{w}}=\\mathbf{a}$$\n",
    "    and\n",
    "    $$\\frac{\\text{d}\\mathbf{w}^{\\top}\\mathbf{A}\\mathbf{w}}{\\text{d}\\mathbf{w}}=\\left(\\mathbf{A}+\\mathbf{A}^{\\top}\\right)\\mathbf{w}$$\n",
    "    or if $\\mathbf{A}$ is symmetric (*i.e.*\n",
    "    $\\mathbf{A}=\\mathbf{A}^{\\top}$)\n",
    "    $$\\frac{\\text{d}\\mathbf{w}^{\\top}\\mathbf{A}\\mathbf{w}}{\\text{d}\\mathbf{w}}=2\\mathbf{A}\\mathbf{w}.$$"
   ]
  },
  {
   "cell_type": "markdown",
   "metadata": {
    "colab_type": "text",
    "id": "vA5-lermZ9QU"
   },
   "source": [
    "### Differentiate\n",
    "\n",
    "Differentiating with respect to the vector $\\mathbf{w}$ we obtain\n",
    "$$\\frac{\\text{d} E\\left(\\mathbf{w},\\sigma^2 \\right)}{\\text{d} \\mathbf{w}}=-\\frac{1}{\\sigma^2} \\sum _{i=1}^{n}\\boldsymbol{\\phi}_iy_i+\\frac{1}{\\sigma^2} \\left[\\sum _{i=1}^{n}\\boldsymbol{\\phi}_i\\boldsymbol{\\phi}_i^{\\top}\\right]\\mathbf{w}$$\n",
    "Leading to\n",
    "$$\\mathbf{w}^{*}=\\left[\\sum _{i=1}^{n}\\boldsymbol{\\phi}_i\\boldsymbol{\\phi}_i^{\\top}\\right]^{-1}\\sum _{i=1}^{n}\\boldsymbol{\\phi}_iy_i,$$"
   ]
  },
  {
   "cell_type": "markdown",
   "metadata": {
    "colab_type": "text",
    "id": "BdR1Kx5JZ9QV"
   },
   "source": [
    "### Matrix Notation\n",
    "\n",
    "Rewrite in matrix notation:\n",
    "$$\\sum _{i=1}^{n}\\boldsymbol{\\phi}_i\\boldsymbol{\\phi}_i^\\top = \\boldsymbol{\\Phi}^\\top \\boldsymbol{\\Phi}$$\n",
    "$$\\sum _{i=1}^{n}\\boldsymbol{\\phi}_iy_i = \\boldsymbol{\\Phi}^\\top \\mathbf{y}$$"
   ]
  },
  {
   "cell_type": "markdown",
   "metadata": {
    "colab_type": "text",
    "id": "EtCAkfgEZ9QW"
   },
   "source": [
    "### $\\sum _{i=1}^{n}\\boldsymbol{\\phi}_i\\boldsymbol{\\phi}_i^\\top=\\boldsymbol{\\Phi}^{\\top}\\boldsymbol{\\Phi}$\n",
    "\n",
    "Let us write \n",
    "\n",
    "\\begin{align*}\n",
    "    \\boldsymbol{\\Phi} =\n",
    "                \\begin{bmatrix}\n",
    "                    \\boldsymbol{\\phi}^{\\top}_1\\\\\n",
    "                    \\boldsymbol{\\phi}^{\\top}_2\\\\\n",
    "                    \\vdots\\\\\n",
    "                    \\boldsymbol{\\phi}^{\\top}_n\n",
    "                \\end{bmatrix},\n",
    "     \\quad\n",
    "     \\boldsymbol{\\Phi}^{\\top} =\n",
    "                \\begin{bmatrix}\n",
    "                    \\boldsymbol{\\phi}_1\\; \\boldsymbol{\\phi}_2\\; \\cdots \\; \\boldsymbol{\\phi}_n\\\\               \n",
    "                \\end{bmatrix}.\n",
    "\\end{align*}\n",
    "\n",
    "We can then say that\n",
    "\n",
    "\\begin{align*}\n",
    "    \\boldsymbol{\\Phi}^{\\top}\\boldsymbol{\\Phi} =\n",
    "                \\begin{bmatrix}\n",
    "                    \\boldsymbol{\\phi}_1\\; \\boldsymbol{\\phi}_2\\; \\cdots \\; \\boldsymbol{\\phi}_n\\\\               \n",
    "                \\end{bmatrix} \n",
    "                \\begin{bmatrix}\n",
    "                    \\boldsymbol{\\phi}^{\\top}_1\\\\\n",
    "                    \\boldsymbol{\\phi}^{\\top}_2\\\\\n",
    "                    \\vdots\\\\\n",
    "                    \\boldsymbol{\\phi}^{\\top}_n\n",
    "                \\end{bmatrix} =    \n",
    "\\boldsymbol{\\phi}_1\\boldsymbol{\\phi}^{\\top}_1+\\boldsymbol{\\phi}_2\\mathbf{x}^{\\top}_2+\\cdots+\\boldsymbol{\\phi}_n\n",
    "                \\boldsymbol{\\phi}^{\\top}_n = \\sum _{i=1}^{n}\\boldsymbol{\\phi}_i\\boldsymbol{\\phi}_i^\\top.\n",
    "\\end{align*}"
   ]
  },
  {
   "cell_type": "markdown",
   "metadata": {
    "colab_type": "text",
    "id": "Mn0LTKHZZ9QX"
   },
   "source": [
    "### Update Equations\n",
    "\n",
    "-   Update for $\\mathbf{w}^{*}$.\n",
    "    $$\\mathbf{w}^{*} = \\left(\\boldsymbol{\\Phi}^\\top \\boldsymbol{\\Phi}\\right)^{-1} \\boldsymbol{\\Phi}^\\top \\mathbf{y}$$\n",
    "\n",
    "\n",
    "-   The solution for $\\mathbf{w}^{*}$ exists if we can compute $\\left(\\boldsymbol{\\Phi}^\\top \\boldsymbol{\\Phi}\\right)^{-1}$. The inverse can be computed as long as $\\boldsymbol{\\Phi}^\\top \\boldsymbol{\\Phi}$ is non-singular (e.g. determinat different from zero, or has full-rank).\n",
    "\n",
    "\n",
    "-   The equation for $\\left.\\sigma^2\\right.^{*}$ may also be found\n",
    "    $$\\left.\\sigma^2\\right.^{{*}}=\\frac{\\sum _{i=1}^{n}\\left(y_i-\\left.\\mathbf{w}^{*}\\right.^{\\top}\\boldsymbol{\\phi}_i\\right)^{2}}{n}.$$"
   ]
  },
  {
   "cell_type": "markdown",
   "metadata": {
    "colab_type": "text",
    "id": "cOT8W29GZ9QY"
   },
   "source": [
    "### Avoid Direct Inverse\n",
    "\n",
    "- E.g. Solve for $\\mathbf{w}$\n",
    "  $$\\left(\\boldsymbol{\\Phi}^\\top \\boldsymbol{\\Phi}\\right)\\mathbf{w} = \\boldsymbol{\\Phi}^\\top \\mathbf{y}$$\n",
    "  \n",
    "- See `np.linalg.solve`\n",
    "\n",
    "- In practice use $\\mathbf{Q}\\mathbf{R}$ decomposition (see lab class notes)."
   ]
  },
  {
   "cell_type": "markdown",
   "metadata": {
    "colab_type": "text",
    "id": "7H1ItDAJZ9QY"
   },
   "source": [
    "### Polynomial Fits to Olympic Data"
   ]
  },
  {
   "cell_type": "code",
   "execution_count": null,
   "metadata": {
    "colab": {},
    "colab_type": "code",
    "id": "WkbIHTl2Z9QZ"
   },
   "outputs": [],
   "source": [
    "basis = mlai.polynomial\n",
    "\n",
    "data = pods.datasets.olympic_marathon_men()\n",
    "#f, ax = plt.subplots(1, 2, figsize=(10,5))\n",
    "f, ax = plt.subplots(figsize=(10,5))\n",
    "x = data['X']\n",
    "y = data['Y']\n",
    "\n",
    "data_limits = [1892, 2020]\n",
    "max_basis = 10\n",
    "\n",
    "ll = np.array([np.nan]*(max_basis))\n",
    "sum_squares = np.array([np.nan]*(max_basis))\n",
    "\n",
    "for num_basis in range(1,max_basis):\n",
    "    model = mlai.LM(x, y, basis, num_basis=num_basis, data_limits=data_limits)\n",
    "    model.fit()\n",
    "    sum_squares[num_basis-1] = model.objective() \n",
    "    ll[num_basis-1] = model.log_likelihood()   \n",
    "    plot.marathon_fit(model=model, value = num_basis, param_name='', param_range=(1, max_basis+1), \n",
    "                      xlim= data_limits, objective_ylim=[0,8],\n",
    "                      title='Root Mean Square Training Error',\n",
    "                      fig=f, ax=ax)\n",
    "    \n"
   ]
  },
  {
   "cell_type": "code",
   "execution_count": null,
   "metadata": {
    "colab": {},
    "colab_type": "code",
    "id": "50XrsouwZ9Qd"
   },
   "outputs": [],
   "source": [
    "display_plots('olympic_LM_polynomial_{num_basis:0>3}.svg', directory='./diagrams', num_basis=(1, max_basis-1))"
   ]
  },
  {
   "cell_type": "markdown",
   "metadata": {
    "colab_type": "text",
    "id": "0fjEP2a-bOKy"
   },
   "source": [
    "<img src=\"diagrams/olympic_LM_polynomial_001.svg\" width=\"500\" height=\"40\" align=center>\n",
    "<img src=\"diagrams/olympic_LM_polynomial_002.svg\" width=\"500\" height=\"40\" align=center>\n",
    "<img src=\"diagrams/olympic_LM_polynomial_003.svg\" width=\"500\" height=\"40\" align=center>\n"
   ]
  },
  {
   "cell_type": "markdown",
   "metadata": {
    "colab_type": "text",
    "id": "Xeq4R_KqZ9Qh"
   },
   "source": [
    "#### Reading\n",
    "\n",
    "- Section 1.4 of Rogers and Girolami (2016).\n",
    "- Chapter 1, pg 1-6 of Bishop (2006).\n",
    "- Chapter 3, Section 3.1 of Bishop (2006) up to pg 143.\n",
    "\n",
    " "
   ]
  }
 ],
 "metadata": {
  "celltoolbar": "Slideshow",
  "colab": {
   "name": "Basis_Functions.ipynb",
   "provenance": []
  },
  "kernelspec": {
   "display_name": "Python 3",
   "language": "python",
   "name": "python3"
  },
  "language_info": {
   "codemirror_mode": {
    "name": "ipython",
    "version": 3
   },
   "file_extension": ".py",
   "mimetype": "text/x-python",
   "name": "python",
   "nbconvert_exporter": "python",
   "pygments_lexer": "ipython3",
   "version": "3.7.3"
  }
 },
 "nbformat": 4,
 "nbformat_minor": 4
}
