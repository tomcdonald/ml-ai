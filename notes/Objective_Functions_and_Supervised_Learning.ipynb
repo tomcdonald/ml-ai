{
  "nbformat": 4,
  "nbformat_minor": 0,
  "metadata": {
    "colab": {
      "name": "Objective Functions and Supervised Learning.ipynb",
      "provenance": [],
      "include_colab_link": true
    },
    "kernelspec": {
      "name": "python3",
      "display_name": "Python 3"
    }
  },
  "cells": [
    {
      "cell_type": "markdown",
      "metadata": {
        "id": "view-in-github",
        "colab_type": "text"
      },
      "source": [
        "<a href=\"https://colab.research.google.com/github/tomcdonald/ml-ai/blob/master/notes/Objective_Functions_and_Supervised_Learning.ipynb\" target=\"_parent\"><img src=\"https://colab.research.google.com/assets/colab-badge.svg\" alt=\"Open In Colab\"/></a>"
      ]
    },
    {
      "cell_type": "markdown",
      "metadata": {
        "id": "PH2lTBmSpBWD",
        "colab_type": "text"
      },
      "source": [
        "# Objective Functions & Supervised Learning"
      ]
    },
    {
      "cell_type": "code",
      "metadata": {
        "id": "Z71xW_typLqr",
        "colab_type": "code",
        "colab": {}
      },
      "source": [
        "import numpy as np\n",
        "import matplotlib.pyplot as plt\n",
        "from IPython import display\n",
        "import time\n",
        "\n",
        "%matplotlib inline"
      ],
      "execution_count": 0,
      "outputs": []
    },
    {
      "cell_type": "markdown",
      "metadata": {
        "id": "V5MMrs4FpKje",
        "colab_type": "text"
      },
      "source": [
        "This week, we move away from probability to further discuss the objective function. We will look at a classification example here, using a Perceptron algorithm.\n",
        "\n",
        "* Our feature matrices are $\\mathbf{x_i}$ for the $i$th instance\n",
        "* This is a binary classification, so the labels $y_i$ take the value -1 or +1\n",
        "\n",
        "Our prediction function is given as follows:\n",
        "\n",
        "\\begin{equation}f(\\mathbf{x_i})=g(z)=sign(z)=sign(\\mathbf{w^Tx_i}+b)=\\begin{cases}+1 \\quad z>0 \\\\ -1 \\quad z<0 \\end{cases} \\end{equation}\n",
        "\n",
        "The decision boundary which determines the class of an instance is given by a hyperplane, where the vector $\\mathbf{w}$ is the normal vector to the hyperplane.\n",
        "\n",
        "The hyperplane is given by $\\mathbf{w^Tx}=-b$, although sometimes we use $b=w_0$"
      ]
    },
    {
      "cell_type": "code",
      "metadata": {
        "id": "j8SXeMofpJsP",
        "colab_type": "code",
        "colab": {
          "base_uri": "https://localhost:8080/",
          "height": 393
        },
        "outputId": "2817013e-3467-4dcd-e153-2f45fff3538e"
      },
      "source": [
        "n_data_per_class = 30\n",
        "np.random.seed(seed=1000001)\n",
        "x_plus = np.random.normal(loc=1.3, size=(n_data_per_class, 2))\n",
        "x_minus = np.random.normal(loc=-1.3, size=(n_data_per_class, 2))\n",
        "\n",
        "# plot data\n",
        "plt.figure(figsize=(5, 5), dpi=80)\n",
        "xlim = np.array([-3.5, 3.5])\n",
        "ylim = xlim\n",
        "plt.plot(x_plus[:, 0], x_plus[:, 1], 'rx')\n",
        "plt.plot(x_minus[:, 0], x_minus[:, 1], 'go')\n",
        "plt.xlim(xlim[0], xlim[1])\n",
        "plt.ylim(ylim[0], ylim[1]) \n",
        "plt.xlabel(r'$x_1$', fontsize=14)\n",
        "plt.ylabel(r'$x_2$', fontsize=14)"
      ],
      "execution_count": 3,
      "outputs": [
        {
          "output_type": "execute_result",
          "data": {
            "text/plain": [
              "Text(0, 0.5, '$x_2$')"
            ]
          },
          "metadata": {
            "tags": []
          },
          "execution_count": 3
        },
        {
          "output_type": "display_data",
          "data": {
            "image/png": "[encoded data removed]",
            "text/plain": [
              "<Figure size 400x400 with 1 Axes>"
            ]
          },
          "metadata": {
            "tags": []
          }
        }
      ]
    },
    {
      "cell_type": "markdown",
      "metadata": {
        "id": "vC0m0wo4uU8T",
        "colab_type": "text"
      },
      "source": [
        "We can draw a hyperplane at the decision boundary to show where a point moves from being classified as -1 to +1. If we expand the prediction function:\n",
        "\n",
        "\\begin{equation} sign(\\mathbf{w^Tx_i}+b)=sign(w_1x_{i,1} + w_2x_{i,2}+b) \\end{equation}\n",
        "\n",
        "The equation of the plane defining the decision boundary is given by $w_1x_{i,1} + w_2x_{i,2}+b = 0$ **which can be written as:** \n",
        "\n",
        "\\begin{equation}w_1x_{i,1} + w_2x_{i,2} = -b\\end{equation}\n",
        "\n",
        "If we select a random data point $\\mathbf{x_i}$ from the data, we can check if the current $\\mathbf{w}$ and b provide a correct prediction by applying the prediction function, and comparing the output $f(\\mathbf{x_i})$ and the true label $y_i$."
      ]
    },
    {
      "cell_type": "code",
      "metadata": {
        "id": "nPT1uP7pwxDO",
        "colab_type": "code",
        "colab": {}
      },
      "source": [
        "# Routine to keep the margins of the drawing box fixed and get the correct margin points for computing the mid points\n",
        "# later\n",
        "def margins_plot(x2, xlim, ylim, w, b):\n",
        "    if (- w[0]/w[1])>0:# cases for a positive slope                \n",
        "        #xlim = np.flip(xlim, 0)\n",
        "        #ylim = np.flip(ylim, 0)\n",
        "        if np.max(x2)>ylim[1] and np.min(x2)<ylim[0]: \n",
        "            x_margin_neg = (ylim[1] + (b/w[1]))/(- w[0]/w[1])\n",
        "            x_margin_pos = (ylim[0] + (b/w[1]))/(- w[0]/w[1])\n",
        "            y_margin_neg = ylim[1]\n",
        "            y_margin_pos = ylim[0]\n",
        "        if np.max(x2)<ylim[1] and np.min(x2)>ylim[0]:\n",
        "            x_margin_neg = xlim[1]\n",
        "            x_margin_pos = xlim[0]\n",
        "            y_margin_neg = (- w[0]/w[1])*xlim[1] - (b/w[1])\n",
        "            y_margin_pos = (- w[0]/w[1])*xlim[0] - (b/w[1])            \n",
        "        if np.max(x2)>ylim[1] and np.min(x2)>ylim[0]:\n",
        "            x_margin_neg = (ylim[1] + (b/w[1]))/(- w[0]/w[1])\n",
        "            x_margin_pos = xlim[0]\n",
        "            y_margin_neg = ylim[1]\n",
        "            y_margin_pos = (- w[0]/w[1])*xlim[0] - (b/w[1])\n",
        "        if np.max(x2)<ylim[1] and np.min(x2)<ylim[0]:\n",
        "            x_margin_neg = xlim[1]\n",
        "            x_margin_pos = (ylim[0] + (b/w[1]))/(- w[0]/w[1])\n",
        "            y_margin_neg = (- w[0]/w[1])*xlim[1] - (b/w[1]) \n",
        "            y_margin_pos =  ylim[0]                  \n",
        "    else:    \n",
        "        if np.max(x2)>ylim[1] and np.min(x2)<ylim[0]: \n",
        "            x_margin_neg = (ylim[0] + (b/w[1]))/(- w[0]/w[1])\n",
        "            x_margin_pos = (ylim[1] + (b/w[1]))/(- w[0]/w[1])\n",
        "            y_margin_neg = ylim[0]\n",
        "            y_margin_pos = ylim[1]            \n",
        "        if np.max(x2)<ylim[1] and np.min(x2)>ylim[0]:         \n",
        "            x_margin_neg = xlim[1]\n",
        "            x_margin_pos = xlim[0]\n",
        "            y_margin_neg = (- w[0]/w[1])*xlim[1] - (b/w[1])\n",
        "            y_margin_pos = (- w[0]/w[1])*xlim[0] - (b/w[1])\n",
        "        if np.max(x2)>ylim[1] and np.min(x2)>ylim[0]:\n",
        "            x_margin_neg = xlim[1]\n",
        "            x_margin_pos = (ylim[1] + (b/w[1]))/(- w[0]/w[1])\n",
        "            y_margin_neg = (- w[0]/w[1])*xlim[1] - (b/w[1])\n",
        "            y_margin_pos = ylim[1]   \n",
        "        if np.max(x2)<ylim[1] and np.min(x2)<ylim[0]:\n",
        "            x_margin_neg = (ylim[0] + (b/w[1]))/(- w[0]/w[1])\n",
        "            x_margin_pos = xlim[0]\n",
        "            y_margin_neg = ylim[0]\n",
        "            y_margin_pos = (- w[0]/w[1])*xlim[0] - (b/w[1]) \n",
        "    return x_margin_neg, x_margin_pos, y_margin_neg, y_margin_pos \n",
        "\n",
        "# Routine for plotting\n",
        "def plot_perceptron(w, b):\n",
        "    npoints = 100\n",
        "    xlim = np.array([-3.5, 3.5])\n",
        "    ylim = xlim\n",
        "    x1 = np.linspace(xlim[0], xlim[1], npoints)\n",
        "    x2 = (- w[0]/w[1])*x1 - (b/w[1])\n",
        "    x_margin_neg, x_margin_pos, y_margin_neg, y_margin_pos = margins_plot(x2, xlim, ylim, w, b)\n",
        "    x1c = (x_margin_neg + x_margin_pos)/2\n",
        "    x2c = (y_margin_neg + y_margin_pos)/2\n",
        "    x2per = (w[1]/w[0])*x1 - (w[1]/w[0])*x1c + x2c\n",
        "    #plt.axes()\n",
        "    display.clear_output(wait=True)\n",
        "    plt.figure(figsize=(5, 5), dpi=80)\n",
        "    plt.plot(x_plus[:, 0], x_plus[:, 1], 'rx')\n",
        "    plt.plot(x_minus[:, 0], x_minus[:, 1], 'go')    \n",
        "    plt.xlabel(r'$x_1$', fontsize=14)\n",
        "    plt.ylabel(r'$x_2$', fontsize=14)\n",
        "    plt.plot(x1, x2, 'b')\n",
        "    #plt.plot(x1, x2per, '--k', color='whitesmoke')\n",
        "    plt.xlim(xlim[0], xlim[1])\n",
        "    plt.ylim(ylim[0], ylim[1])    \n",
        "    plt.arrow(x1c, x2c, w[0], w[1], width=0.03, head_width=0.3, head_length=0.3, fc='k', ec='k') \n",
        "    #display.display(plt.gcf())"
      ],
      "execution_count": 0,
      "outputs": []
    },
    {
      "cell_type": "markdown",
      "metadata": {
        "id": "gTRDC7e3w1Sk",
        "colab_type": "text"
      },
      "source": [
        "Now we can initialise the decision boundary:"
      ]
    },
    {
      "cell_type": "code",
      "metadata": {
        "id": "4SmafZRFw3nw",
        "colab_type": "code",
        "colab": {
          "base_uri": "https://localhost:8080/",
          "height": 393
        },
        "outputId": "993c2937-f11e-40cb-a19e-3ce62bd3af34"
      },
      "source": [
        "#np.random.seed(seed=1001)\n",
        "w = 0.5*np.random.randn(2)\n",
        "b = 0.5*np.random.randn()\n",
        "plot_perceptron(w, b)\n",
        "x_selected = x_plus[1]\n",
        "plt.plot(x_selected[0], x_selected[1], 'o', mfc='none', mec='k', ms=15, lw=5)\n",
        "print(\"The sign for the selected value is \", np.sign(np.dot(w, x_selected)+b))"
      ],
      "execution_count": 5,
      "outputs": [
        {
          "output_type": "stream",
          "text": [
            "The sign for the selected value is  1.0\n"
          ],
          "name": "stdout"
        },
        {
          "output_type": "display_data",
          "data": {
            "image/png": "[encoded data removed]",
            "text/plain": [
              "<Figure size 400x400 with 1 Axes>"
            ]
          },
          "metadata": {
            "tags": []
          }
        }
      ]
    },
    {
      "cell_type": "markdown",
      "metadata": {
        "id": "_rEIiXqYxAXz",
        "colab_type": "text"
      },
      "source": [
        "#### Drawing the Decision Boundary\n",
        "\n",
        "As mentioned previously, the decision boundary is where the prediction function output flips from -1 to +1, representing the location at which the sign function argument is zero. As this dataset is two dimensional, the boundary is a straight line, but in 3D or higher dimensional datasets, the decision boundary is actually a hyperplane, hence why the decision boundary is often known as the *separating hyperplane*.\n",
        "\n",
        "Plotting the boundary in 2D is relatively simple, as for each value of $x_1$ on the boundary, we simply find the corresponding value of $x_2$ by rearranging the hyperplane formula to give:\n",
        "\n",
        "\\begin{equation}x_2 = -\\frac{(b+x_1w_1)}{w_2} \\end{equation}\n",
        "\n",
        "Or alternatively we can choose to specify $x_2$ and calculate $x_1$:\n",
        "\n",
        "\\begin{equation}x_1 = -\\frac{(b+x_2w_2)}{w_1} \\end{equation}\n",
        "\n",
        "Which equation we use depends on how the separating hyperplane leaves the plot; if the hyperplane leaves the top and bottom of the plot we'll want to plot a line for all values in the $y$ direction (given by $x_2$), computing $x_1$ for each of these, so that the boundary covers the entire plot. If the line leaves the sides of the plot, then we'll do the opposite, using all values of $x_1$ and calculating $x_2$ for each.\n",
        "\n",
        "#### Perceptron Algorithm"
      ]
    },
    {
      "cell_type": "code",
      "metadata": {
        "id": "wtevKxE-zHdn",
        "colab_type": "code",
        "colab": {}
      },
      "source": [
        "def update_perceptron(w, b, x_plus, x_minus, learn_rate):\n",
        "    \"Update the perceptron.\"\n",
        "    # select a point at random from the data\n",
        "    choose_plus = np.random.uniform(size=1)>0.5\n",
        "    updated=False\n",
        "    if choose_plus:\n",
        "        # choose a point from the positive data\n",
        "        index = np.random.randint(x_plus.shape[0])\n",
        "        x_select = x_plus[index, :]\n",
        "        if np.dot(w, x_select)+b <= 0.:\n",
        "            # point is currently incorrectly classified\n",
        "            w += learn_rate*x_select\n",
        "            b += learn_rate\n",
        "            updated=True\n",
        "    else:\n",
        "        # choose a point from the negative data\n",
        "        index = np.random.randint(x_minus.shape[0])\n",
        "        x_select = x_minus[index, :]\n",
        "        if np.dot(w, x_select)+b > 0.:\n",
        "            # point is currently incorrectly classified\n",
        "            w -= learn_rate*x_select\n",
        "            b -= learn_rate\n",
        "            updated=True\n",
        "    return w, b, x_select, updated"
      ],
      "execution_count": 0,
      "outputs": []
    },
    {
      "cell_type": "markdown",
      "metadata": {
        "id": "pWaZt7wC1T5M",
        "colab_type": "text"
      },
      "source": [
        "We want to find the parameters $\\mathbf{w}$ and b which allow a correct prediction for a datapoint $\\mathbf{x_i}$. This can be achieved by writing an algorithm whereby, if the vector $\\mathbf{x_i}$ is classified correctly, we don't change the parameters, but if the vector is incorrectly classified, we change those parameters by adding a correction term, with the hope that this will improve the model.\n",
        "\n",
        "Specifically:\n",
        "\n",
        "* If $\\mathbf{x_i}$ is incorrectly classified as negative when it's actually positive, we add $\\eta\\mathbf{x_i}$ to $\\mathbf{w}$ and $\\eta$ to b.\n",
        "\n",
        "* If $\\mathbf{x_i}$ is incorrectly classified as positive when it's actually negative, we subtract $\\eta\\mathbf{x_i}$ from $\\mathbf{w}$ and $\\eta$ from b.\n",
        "\n",
        "* $\\eta$ is called the learning rate; increasing this will result in larger correction 'jumps'."
      ]
    },
    {
      "cell_type": "code",
      "metadata": {
        "id": "iP28cmNZ22wU",
        "colab_type": "code",
        "colab": {}
      },
      "source": [
        ""
      ],
      "execution_count": 0,
      "outputs": []
    }
  ]
}