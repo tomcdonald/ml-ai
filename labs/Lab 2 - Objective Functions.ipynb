{
  "nbformat": 4,
  "nbformat_minor": 0,
  "metadata": {
    "kernelspec": {
      "name": "python3",
      "display_name": "Python 3"
    },
    "language_info": {
      "codemirror_mode": {
        "name": "ipython",
        "version": 3
      },
      "file_extension": ".py",
      "mimetype": "text/x-python",
      "name": "python",
      "nbconvert_exporter": "python",
      "pygments_lexer": "ipython3",
      "version": "3.6.8"
    },
    "colab": {
      "name": "Copy of Lab 2 - Objective Functions.ipynb",
      "provenance": [],
      "collapsed_sections": [],
      "include_colab_link": true
    },
    "accelerator": "GPU"
  },
  "cells": [
    {
      "cell_type": "markdown",
      "metadata": {
        "id": "view-in-github",
        "colab_type": "text"
      },
      "source": [
        "<a href=\"https://colab.research.google.com/github/tomcdonald/ml-ai/blob/master/labs/Lab%202%20-%20Objective%20Functions.ipynb\" target=\"_parent\"><img src=\"https://colab.research.google.com/assets/colab-badge.svg\" alt=\"Open In Colab\"/></a>"
      ]
    },
    {
      "cell_type": "markdown",
      "metadata": {
        "id": "vzQGDbyXmCWF",
        "colab_type": "text"
      },
      "source": [
        "# Objective Functions: A Simple Example with Matrix Factorisation.\n",
        "\n",
        "### Modified by Mauricio A Álvarez, October 2018, 2019\n",
        "\n",
        "### 6th October 2015 Neil D. Lawrence\n",
        "\n",
        "In last week's class we saw how we could load in a data set to pandas and use it for some simple data processing. We computed various probabilities on the data and I encouraged you to think about what sort of probabilities you need for prediction. This week we are going to take a slightly different tack. \n",
        "\n",
        "Broadly speaking there are two dominating approaches to machine learning problems. We started to consider the first approach last week: constructing models based on defining the relationship between variables using probabilities. This week we will consider the second approach: which involves defining an *objective function* and optimizing it. \n",
        "\n",
        "What do we mean by an objective function? An objective function could be an *error function*, a *cost function* or a *benefit* function. In evolutionary computing they are called *fitness* functions. But the idea is always the same. We write down a mathematical equation which is then optimized to do the learning. The equation should be a function of the *data* and our model *parameters*. We have a choice when optimizing, either minimize or maximize. To avoid confusion, in the optimization field, we always choose to minimize the function. If we have a function that we would like to maximize, we simply choose to minimize the negative of that function. \n",
        "\n",
        "So for this lab session, we are going to ignore probabilities, but don't worry, they will return! \n",
        "\n",
        "This week we are going to try and build a simple movie recommender system using an objective function. To do this, the first thing I'd like you to do is to install some software we've written for sharing information across google documents.\n",
        "\n",
        "## Open Data Science Software\n",
        "\n",
        "In Sheffield we have written a suite of software tools for 'Open Data Science'. Open data science is an approach to sharing code, models and data that should make it easier for companies, health professionals and scientists to gain access to data science techniques. For some background on open data science you can read [this blog post](http://inverseprobability.com/2014/07/01/open-data-science/). The first thing we will do this week is to download that suite of software. \n",
        "\n",
        "The software can be installed using\n",
        "\n",
        "```python\n",
        "pip install pods\n",
        "```\n",
        "\n",
        "from the command prompt where you can access your python installation.\n",
        "\n",
        "\n",
        "## Download the MovieLens 100k Data\n",
        "\n",
        "We are going to download the [MovieLens 100k](http://files.grouplens.org/datasets/movielens/ml-latest-small-README.html) Data. This is a public dataset that contains 100,000 ratings and 3,600 tag applications applied to 9,000 movies by 600 users. When you use a data set that someone has prepared you should always reference the data source to acknowledge the work that's been placed in. This particular dataset was collected by the [Grouplens Research group](https://grouplens.org/),  at the University of Minnesota. For example, if you were to use this dataset for writing a paper, the authors ask you that you acknowledge their work by citing the following paper:\n",
        "\n",
        "F. Maxwell Harper and Joseph A. Konstan. 2015. The MovieLens Datasets: History and Context. ACM Transactions on Interactive Intelligent Systems (TiiS) 5 (4):1-19 [https://doi.org/10.1145/2827872](https://doi.org/10.1145/2827872)"
      ]
    },
    {
      "cell_type": "code",
      "metadata": {
        "id": "7qu8-GF0n4g0",
        "colab_type": "code",
        "outputId": "550e4791-b030-4839-dae1-cd2ccebfe144",
        "colab": {
          "base_uri": "https://localhost:8080/",
          "height": 34
        }
      },
      "source": [
        "!pip install pods"
      ],
      "execution_count": 1,
      "outputs": [
        {
          "output_type": "stream",
          "text": [
            "Requirement already satisfied: pods in /usr/local/lib/python3.6/dist-packages (0.0.2a0)\n"
          ],
          "name": "stdout"
        }
      ]
    },
    {
      "cell_type": "code",
      "metadata": {
        "id": "gQ8Zk8n6mCWH",
        "colab_type": "code",
        "outputId": "e360c869-fa35-4b65-dfa3-9d81f98b3871",
        "colab": {
          "base_uri": "https://localhost:8080/",
          "height": 51
        }
      },
      "source": [
        "import pods\n",
        "import zipfile\n",
        "import sys\n",
        "import pandas as pd\n",
        "import numpy as np\n",
        "\n",
        "pods.util.download_url(\"http://files.grouplens.org/datasets/movielens/ml-latest-small.zip\")\n",
        "zip_console = zipfile.ZipFile('ml-latest-small.zip', 'r')\n",
        "for name in zip_console.namelist():\n",
        "           zip_console.extract(name, './')"
      ],
      "execution_count": 2,
      "outputs": [
        {
          "output_type": "stream",
          "text": [
            "Downloading  http://files.grouplens.org/datasets/movielens/ml-latest-small.zip -> ./ml-latest-small.zip\n",
            "[==============================]   0.933/0.933MB\n"
          ],
          "name": "stdout"
        }
      ]
    },
    {
      "cell_type": "markdown",
      "metadata": {
        "id": "pgIACiRbmCWL",
        "colab_type": "text"
      },
      "source": [
        "### Question 1\n",
        "\n",
        "Data ethics. If you find data available on the internet, can you simply use it without consequence? If you are given data by a fellow researcher can you publish that data on line? "
      ]
    },
    {
      "cell_type": "markdown",
      "metadata": {
        "id": "t2EDshcamCWM",
        "colab_type": "text"
      },
      "source": [
        "#### Question 1 Answer\n",
        "\n",
        "No. When using data found online you should always reference it's origin (even just as a matter of courtesy), and also you must check if there is a specific licence attached to it. Some licences will specify that the data cannot be reused for commercial purposes, whereas some licences may specify that the data is open and is free to use, although it's still good practice to reference your sources.\n",
        "\n",
        "If given data by a fellow researcher, you should only publish it online with their permission, if you know it's source and if you correctly reference said source/your fellow researcher."
      ]
    },
    {
      "cell_type": "markdown",
      "metadata": {
        "id": "WLYaJw8DmCWN",
        "colab_type": "text"
      },
      "source": [
        "## Recommender Systems\n",
        "\n",
        "A recommender system aims to make suggestions for items (films, books, other commercial products) given what it knows about users' tastes. The recommendation engine needs to represent the *taste* of all the users and the *characteristics* of each object. \n",
        "\n",
        "A common way for organizing objects is to place related objects spatially close together. For example in a library we try and put books that are on related topics near to each other on the shelves. One system for doing this is known as [Dewey Decimal Classification](http://en.wikipedia.org/wiki/Dewey_Decimal_Classification). In the Dewey Decimal Classification system (which dates from 1876) each subject is given a number (in fact it's a decimal number). For example, the field of Natural Sciences and Mathematics is given numbers which start with 500. Subjects based on Computer Science are given numbers which start 004 and works on the 'mathematical principles' of Computer science are given the series 004.0151 (which we might store as 4.0151 on a Computer). Whilst it's a classification system, the books in the library are typically laid out in the same order as the numbers, so we might expect that neighbouring numbers represent books that are related in subject. That seems to be exactly what we want when also representing films. Could we somehow represent each film's subject according to a number? In a similar way we could then imagine representing users with a list of numbers that represent things that each user is interested in.\n",
        "\n",
        "Actually a one dimensional representation of a subject can be very awkward. To see this, let's have a look at the Dewey Decimal Classification numbers for the 900s, which is listed as 'History and Geography'. We will focus on subjects in the 940s which can be found in this list from [Wikipedia](https://en.wikipedia.org/wiki/List_of_Dewey_Decimal_classes#Class_900_%E2%80%93_History_&_geography). Whilst the ordering for places is somewhat sensible, it is also rather arbitrary. In the 940s we have Europe listed from 940-949, Asia listed from 950-959 and Africa listed from 960-969. Whilst it's true that Asia borders Europe, Africa is also very close, and the history of the Roman Empire spreads into [Carthage](http://en.wikipedia.org/wiki/Carthage) and later on Egypt. This image from Wikipedia shows a map of the Cathaginian Empire which fell after fighting with Rome. \n",
        "\n",
        "\n",
        "<a title=\"By Javierfv1212 [Public domain], from Wikimedia Commons\" href=\"https://commons.wikimedia.org/wiki/File:Carthaginianempire.PNG\"><img width=\"512\" alt=\"Carthaginianempire\" src=\"https://upload.wikimedia.org/wikipedia/commons/thumb/9/9b/Carthaginianempire.PNG/512px-Carthaginianempire.PNG\"></a>\n",
        "\n",
        "We now need to make a decision about whether Roman Histories are European or African, ideally we'd like them to be somewhere between the two, but we can't place them there in the Dewey Decimal system because between Europe and Africa is Asia, which has less to do with the Roman Empire than either Europe or Africa. Of course the fact that we've used a map provides a clue as to what to do next. Libraries are actually laid out on floors, so what if we were to use the spatial lay out to organise the sujbects of the books in two dimensions. Books on Geography could be laid out according to where in the world they are referring to. \n",
        "\n",
        "Such complexities are very hard to encapsulate in one number, but inspired by the map examples we can start considering how we might lay out films in two dimensions. Similarly, we can consider laying out a map of people's interests. If the two maps correspond to one another, the map of people could reflect where they might want to live in 'subject space'. We can think of representing people's tastes as where they might best like to sit in the library to access easily the books they are most interested in.\n",
        "\n",
        "\n",
        "## Inner Products for Representing Similarity\n",
        "\n",
        "Ideas like the above are good for gaining intuitions about what we might want, but the one of the skills of data science is representing those ideas mathematically. Mathematical abstraction of a problem is one of the key ways in which we've been able to progress as a society. Understanding planetary motions, as well as those of the smallest molecule (to quote Laplace's [Philosophical Essay on Probabilities](http://books.google.co.uk/books?id=1YQPAAAAQAAJ&printsec=frontcover&source=gbs_ge_summary_r&cad=0#v=onepage&q&f=false)) needed to be done mathematically. The right mathematical model in machine learning can be slightly more elusive, because constructing it is a two stage process. \n",
        "\n",
        "1. We have to determine the right intuition for the system we want to represent. Notions such as 'subject' and 'interest' are not mathematically well defined, and even when we create a new interpretation of what they might mean, each interpretation may have its own weaknesses. \n",
        "\n",
        "2. Once we have our interpretation we can attempt to mathematically formalize it. In our library interpretation, that's what we need to do next. \n",
        "\n",
        "### The Library on an Infinite Plane\n",
        "\n",
        "Let's imagine a library which stores all the items  we are interested in, not just books, but films and shopping items too. Such a library is likely to be very large, so we'll create it on an infinite two dimensional plane. This means we can use all the real numbers to represent the location of each item on the plane. For a two dimensional plane, we need to store the locations in a vector of numbers: we can decide that the $j$th item's location in the library is given by \n",
        "$$\n",
        "\\mathbf{v}_j = \\begin{bmatrix} v_{j,1} \\\\ v_{j,2}\\end{bmatrix},\n",
        "$$\n",
        "where $v_{j,1}$ represents the $j$th item's location in the East-West direction (or the $x$-axis) and $v_{j,2}$ represents the $j$th item's location in the North-South direction (or the $y$-axis). Now we need to specify the location where each user sits so that all the items that interest them are nearby: we can also represent the $i$th user's location with a vector \n",
        "$$\n",
        "\\mathbf{u}_i = \\begin{bmatrix} u_{i,1} \\\\ u_{i,2}\\end{bmatrix}.\n",
        "$$\n",
        "Finally, we need some way of recording a given user's affinity for a given item. This affinity might be the rating that the user gives the film. We can use $y_{i,j}$ to represent user $i$'s affinity for item $j$. \n",
        "\n",
        "For our film example we might imagine wanting to order films in a few ways. We could imagine organising films in the North-South direction as to how romantic they are. We could place the more romantic films further North and the less romantic films further South. For the East-West direction we could imagine ordering them according to how historic they are: we can imagine placing science fiction films to the East and historical drama to the West. In this case, fans of historical romances would be based in the North-West location, whilst fans of Science Fiction Action films might be located in the South-East (if we assume that 'Action' is the opposite of 'Romance', which is not necessarily the case). How do we lay out all these films? Have we got the right axes? In machine learning the answer is to 'let the data speak'. Use the data to try and obtain such a lay out. To do this we first need to obtain the data."
      ]
    },
    {
      "cell_type": "markdown",
      "metadata": {
        "id": "ElF6KzTUmCWO",
        "colab_type": "text"
      },
      "source": [
        "## Obtaining the Data\n",
        "\n",
        "As mentioned before, the MovieLens dataset that we'll use has 100,000 ratings to 9,000 movies by 600 users. For now, we will only work with a subset of the dataset. In particular, we will randomly chose a particular number of users and extract the movies and ratings that the users gave to those movies. Read the code below and understand what it is doing.\n",
        "\n",
        "**Before you run the code**, notice that `YourStudentID` in the first line is a variable that will specify the seed for the random number generator that will select a particular set of `nUsersInExample` users. Change the number that has been assigned by default to `YourStudentID` to the last three digits of your UCard number. All of you will have a different subset of users."
      ]
    },
    {
      "cell_type": "code",
      "metadata": {
        "id": "fci3dyVjmCWP",
        "colab_type": "code",
        "colab": {}
      },
      "source": [
        "YourStudentID = 999  # Include here the last three digits of your UCard number\n",
        "nUsersInExample = 10 # The maximum number of Users we're going to analyse at one time\n",
        "\n",
        "ratings = pd.read_csv(\"./ml-latest-small/ratings.csv\") \n",
        "\"\"\"\n",
        "ratings is a DataFrame with four columns: userId, movieId, rating and tags. We\n",
        "first want to identify how many unique users there are. We can use the unique \n",
        "method in pandas\n",
        "\"\"\"\n",
        "indexes_unique_users = ratings['userId'].unique()\n",
        "n_users = indexes_unique_users.shape[0]\n",
        "\"\"\" \n",
        "We randomly select 'nUsers' users with their ratings. We first fix the seed\n",
        "of the random generator to make sure that we always get the same 'nUsers'\n",
        "\"\"\"\n",
        "np.random.seed(YourStudentID)\n",
        "indexes_users = np.random.permutation(n_users)\n",
        "my_batch_users = indexes_users[0:nUsersInExample]\n",
        "\"\"\"\n",
        "We will use now the list of 'my_batch_users' to create a matrix Y. \n",
        "\"\"\"\n",
        "# We need to make a list of the movies that these users have watched\n",
        "list_movies_each_user = [[] for _ in range(nUsersInExample)]\n",
        "list_ratings_each_user = [[] for _ in range(nUsersInExample)]\n",
        "# Movies\n",
        "list_movies = ratings['movieId'][ratings['userId'] == my_batch_users[0]].values\n",
        "list_movies_each_user[0] = list_movies                    \n",
        "# Ratings                      \n",
        "list_ratings = ratings['rating'][ratings['userId'] == my_batch_users[0]].values\n",
        "list_ratings_each_user[0] = list_ratings\n",
        "# Users\n",
        "n_each_user = list_movies.shape[0]\n",
        "list_users = my_batch_users[0]*np.ones((1, n_each_user))\n",
        "\n",
        "for i in range(1, nUsersInExample):\n",
        "    # Movies\n",
        "    local_list_per_user_movies = ratings['movieId'][ratings['userId'] == my_batch_users[i]].values\n",
        "    list_movies_each_user[i] = local_list_per_user_movies\n",
        "    list_movies = np.append(list_movies,local_list_per_user_movies)\n",
        "    # Ratings                                 \n",
        "    local_list_per_user_ratings = ratings['rating'][ratings['userId'] == my_batch_users[i]].values\n",
        "    list_ratings_each_user[i] = local_list_per_user_ratings\n",
        "    list_ratings = np.append(list_ratings, local_list_per_user_ratings)  \n",
        "    # Users                                   \n",
        "    n_each_user = local_list_per_user_movies.shape[0]                                                                               \n",
        "    local_rep_user =  my_batch_users[i]*np.ones((1, n_each_user))    \n",
        "    list_users = np.append(list_users, local_rep_user)\n",
        "\n",
        "# Let us first see how many unique movies have been rated\n",
        "indexes_unique_movies = np.unique(list_movies)\n",
        "n_movies = indexes_unique_movies.shape[0]\n",
        "# As it is expected no all users have rated all movies. We will build a matrix Y \n",
        "# with NaN inputs and fill according to the data for each user \n",
        "temp = np.empty((n_movies,nUsersInExample,))\n",
        "temp[:] = np.nan\n",
        "Y_with_NaNs = pd.DataFrame(temp)\n",
        "for i in range(nUsersInExample):\n",
        " local_movies = list_movies_each_user[i]\n",
        " ixs = np.in1d(indexes_unique_movies, local_movies)\n",
        " Y_with_NaNs.loc[ixs, i] = list_ratings_each_user[i]\n",
        "\n",
        "Y_with_NaNs.index = indexes_unique_movies.tolist()\n",
        "Y_with_NaNs.columns = my_batch_users.tolist()"
      ],
      "execution_count": 0,
      "outputs": []
    },
    {
      "cell_type": "code",
      "metadata": {
        "id": "Esh36fwwtH1m",
        "colab_type": "code",
        "outputId": "44724869-2183-459f-88f4-88cfaacc4e02",
        "colab": {
          "base_uri": "https://localhost:8080/",
          "height": 514
        }
      },
      "source": [
        "Y_with_NaNs.head(15)"
      ],
      "execution_count": 4,
      "outputs": [
        {
          "output_type": "execute_result",
          "data": {
            "text/html": [
              "<div>\n",
              "<style scoped>\n",
              "    .dataframe tbody tr th:only-of-type {\n",
              "        vertical-align: middle;\n",
              "    }\n",
              "\n",
              "    .dataframe tbody tr th {\n",
              "        vertical-align: top;\n",
              "    }\n",
              "\n",
              "    .dataframe thead th {\n",
              "        text-align: right;\n",
              "    }\n",
              "</style>\n",
              "<table border=\"1\" class=\"dataframe\">\n",
              "  <thead>\n",
              "    <tr style=\"text-align: right;\">\n",
              "      <th></th>\n",
              "      <th>165</th>\n",
              "      <th>393</th>\n",
              "      <th>75</th>\n",
              "      <th>180</th>\n",
              "      <th>550</th>\n",
              "      <th>140</th>\n",
              "      <th>326</th>\n",
              "      <th>315</th>\n",
              "      <th>197</th>\n",
              "      <th>35</th>\n",
              "    </tr>\n",
              "  </thead>\n",
              "  <tbody>\n",
              "    <tr>\n",
              "      <th>1</th>\n",
              "      <td>NaN</td>\n",
              "      <td>NaN</td>\n",
              "      <td>NaN</td>\n",
              "      <td>NaN</td>\n",
              "      <td>4.0</td>\n",
              "      <td>3.0</td>\n",
              "      <td>NaN</td>\n",
              "      <td>NaN</td>\n",
              "      <td>NaN</td>\n",
              "      <td>NaN</td>\n",
              "    </tr>\n",
              "    <tr>\n",
              "      <th>2</th>\n",
              "      <td>NaN</td>\n",
              "      <td>NaN</td>\n",
              "      <td>NaN</td>\n",
              "      <td>NaN</td>\n",
              "      <td>NaN</td>\n",
              "      <td>3.5</td>\n",
              "      <td>NaN</td>\n",
              "      <td>NaN</td>\n",
              "      <td>NaN</td>\n",
              "      <td>NaN</td>\n",
              "    </tr>\n",
              "    <tr>\n",
              "      <th>6</th>\n",
              "      <td>NaN</td>\n",
              "      <td>NaN</td>\n",
              "      <td>NaN</td>\n",
              "      <td>NaN</td>\n",
              "      <td>NaN</td>\n",
              "      <td>5.0</td>\n",
              "      <td>NaN</td>\n",
              "      <td>NaN</td>\n",
              "      <td>NaN</td>\n",
              "      <td>NaN</td>\n",
              "    </tr>\n",
              "    <tr>\n",
              "      <th>11</th>\n",
              "      <td>NaN</td>\n",
              "      <td>NaN</td>\n",
              "      <td>NaN</td>\n",
              "      <td>NaN</td>\n",
              "      <td>NaN</td>\n",
              "      <td>4.0</td>\n",
              "      <td>NaN</td>\n",
              "      <td>NaN</td>\n",
              "      <td>NaN</td>\n",
              "      <td>4.0</td>\n",
              "    </tr>\n",
              "    <tr>\n",
              "      <th>20</th>\n",
              "      <td>NaN</td>\n",
              "      <td>NaN</td>\n",
              "      <td>NaN</td>\n",
              "      <td>NaN</td>\n",
              "      <td>NaN</td>\n",
              "      <td>NaN</td>\n",
              "      <td>3.5</td>\n",
              "      <td>NaN</td>\n",
              "      <td>NaN</td>\n",
              "      <td>NaN</td>\n",
              "    </tr>\n",
              "    <tr>\n",
              "      <th>21</th>\n",
              "      <td>NaN</td>\n",
              "      <td>NaN</td>\n",
              "      <td>NaN</td>\n",
              "      <td>NaN</td>\n",
              "      <td>NaN</td>\n",
              "      <td>4.0</td>\n",
              "      <td>NaN</td>\n",
              "      <td>NaN</td>\n",
              "      <td>NaN</td>\n",
              "      <td>5.0</td>\n",
              "    </tr>\n",
              "    <tr>\n",
              "      <th>22</th>\n",
              "      <td>NaN</td>\n",
              "      <td>NaN</td>\n",
              "      <td>NaN</td>\n",
              "      <td>NaN</td>\n",
              "      <td>NaN</td>\n",
              "      <td>3.0</td>\n",
              "      <td>NaN</td>\n",
              "      <td>NaN</td>\n",
              "      <td>NaN</td>\n",
              "      <td>NaN</td>\n",
              "    </tr>\n",
              "    <tr>\n",
              "      <th>23</th>\n",
              "      <td>NaN</td>\n",
              "      <td>NaN</td>\n",
              "      <td>NaN</td>\n",
              "      <td>NaN</td>\n",
              "      <td>NaN</td>\n",
              "      <td>3.0</td>\n",
              "      <td>NaN</td>\n",
              "      <td>NaN</td>\n",
              "      <td>NaN</td>\n",
              "      <td>NaN</td>\n",
              "    </tr>\n",
              "    <tr>\n",
              "      <th>34</th>\n",
              "      <td>NaN</td>\n",
              "      <td>NaN</td>\n",
              "      <td>NaN</td>\n",
              "      <td>NaN</td>\n",
              "      <td>NaN</td>\n",
              "      <td>4.0</td>\n",
              "      <td>NaN</td>\n",
              "      <td>NaN</td>\n",
              "      <td>NaN</td>\n",
              "      <td>NaN</td>\n",
              "    </tr>\n",
              "    <tr>\n",
              "      <th>39</th>\n",
              "      <td>NaN</td>\n",
              "      <td>NaN</td>\n",
              "      <td>NaN</td>\n",
              "      <td>NaN</td>\n",
              "      <td>NaN</td>\n",
              "      <td>NaN</td>\n",
              "      <td>NaN</td>\n",
              "      <td>NaN</td>\n",
              "      <td>NaN</td>\n",
              "      <td>3.0</td>\n",
              "    </tr>\n",
              "    <tr>\n",
              "      <th>47</th>\n",
              "      <td>NaN</td>\n",
              "      <td>NaN</td>\n",
              "      <td>2.0</td>\n",
              "      <td>NaN</td>\n",
              "      <td>NaN</td>\n",
              "      <td>4.0</td>\n",
              "      <td>4.0</td>\n",
              "      <td>NaN</td>\n",
              "      <td>NaN</td>\n",
              "      <td>NaN</td>\n",
              "    </tr>\n",
              "    <tr>\n",
              "      <th>50</th>\n",
              "      <td>NaN</td>\n",
              "      <td>NaN</td>\n",
              "      <td>NaN</td>\n",
              "      <td>NaN</td>\n",
              "      <td>NaN</td>\n",
              "      <td>3.0</td>\n",
              "      <td>2.0</td>\n",
              "      <td>NaN</td>\n",
              "      <td>3.0</td>\n",
              "      <td>5.0</td>\n",
              "    </tr>\n",
              "    <tr>\n",
              "      <th>60</th>\n",
              "      <td>NaN</td>\n",
              "      <td>NaN</td>\n",
              "      <td>NaN</td>\n",
              "      <td>NaN</td>\n",
              "      <td>NaN</td>\n",
              "      <td>NaN</td>\n",
              "      <td>NaN</td>\n",
              "      <td>NaN</td>\n",
              "      <td>NaN</td>\n",
              "      <td>5.0</td>\n",
              "    </tr>\n",
              "    <tr>\n",
              "      <th>62</th>\n",
              "      <td>NaN</td>\n",
              "      <td>NaN</td>\n",
              "      <td>NaN</td>\n",
              "      <td>NaN</td>\n",
              "      <td>NaN</td>\n",
              "      <td>4.5</td>\n",
              "      <td>NaN</td>\n",
              "      <td>NaN</td>\n",
              "      <td>NaN</td>\n",
              "      <td>5.0</td>\n",
              "    </tr>\n",
              "    <tr>\n",
              "      <th>86</th>\n",
              "      <td>NaN</td>\n",
              "      <td>NaN</td>\n",
              "      <td>NaN</td>\n",
              "      <td>NaN</td>\n",
              "      <td>NaN</td>\n",
              "      <td>4.0</td>\n",
              "      <td>NaN</td>\n",
              "      <td>NaN</td>\n",
              "      <td>NaN</td>\n",
              "      <td>NaN</td>\n",
              "    </tr>\n",
              "  </tbody>\n",
              "</table>\n",
              "</div>"
            ],
            "text/plain": [
              "    165  393  75   180  550  140  326  315  197  35 \n",
              "1   NaN  NaN  NaN  NaN  4.0  3.0  NaN  NaN  NaN  NaN\n",
              "2   NaN  NaN  NaN  NaN  NaN  3.5  NaN  NaN  NaN  NaN\n",
              "6   NaN  NaN  NaN  NaN  NaN  5.0  NaN  NaN  NaN  NaN\n",
              "11  NaN  NaN  NaN  NaN  NaN  4.0  NaN  NaN  NaN  4.0\n",
              "20  NaN  NaN  NaN  NaN  NaN  NaN  3.5  NaN  NaN  NaN\n",
              "21  NaN  NaN  NaN  NaN  NaN  4.0  NaN  NaN  NaN  5.0\n",
              "22  NaN  NaN  NaN  NaN  NaN  3.0  NaN  NaN  NaN  NaN\n",
              "23  NaN  NaN  NaN  NaN  NaN  3.0  NaN  NaN  NaN  NaN\n",
              "34  NaN  NaN  NaN  NaN  NaN  4.0  NaN  NaN  NaN  NaN\n",
              "39  NaN  NaN  NaN  NaN  NaN  NaN  NaN  NaN  NaN  3.0\n",
              "47  NaN  NaN  2.0  NaN  NaN  4.0  4.0  NaN  NaN  NaN\n",
              "50  NaN  NaN  NaN  NaN  NaN  3.0  2.0  NaN  3.0  5.0\n",
              "60  NaN  NaN  NaN  NaN  NaN  NaN  NaN  NaN  NaN  5.0\n",
              "62  NaN  NaN  NaN  NaN  NaN  4.5  NaN  NaN  NaN  5.0\n",
              "86  NaN  NaN  NaN  NaN  NaN  4.0  NaN  NaN  NaN  NaN"
            ]
          },
          "metadata": {
            "tags": []
          },
          "execution_count": 4
        }
      ]
    },
    {
      "cell_type": "markdown",
      "metadata": {
        "id": "TKOdWicumCWS",
        "colab_type": "text"
      },
      "source": [
        "### Question 2\n",
        "\n",
        "Have a look at the matrix `Y_with_NaNs`. The movies data is now in a data frame which contains one column for each user rating the movie. There are some entries that contain 'NaN'. What does the 'NaN' mean in this context?"
      ]
    },
    {
      "cell_type": "markdown",
      "metadata": {
        "id": "Bs7iMdd3mCWT",
        "colab_type": "text"
      },
      "source": [
        "#### Answer Question 2\n",
        "\n",
        "In this context, the NaN values mean that the user has not rated that film."
      ]
    },
    {
      "cell_type": "markdown",
      "metadata": {
        "id": "yB2yau3imCWU",
        "colab_type": "text"
      },
      "source": [
        "Now we will convert our data structure into a form that is appropriate for processing. We will convert the `Y_with_NaNs` dataframe into a new dataframe which contains the user, the movie, and the rating using the following code"
      ]
    },
    {
      "cell_type": "code",
      "metadata": {
        "id": "fGLkLYrFmCWV",
        "colab_type": "code",
        "colab": {}
      },
      "source": [
        "p_list_ratings = np.concatenate(list_ratings_each_user).ravel()\n",
        "p_list_ratings_original = p_list_ratings.tolist()\n",
        "mean_ratings_train = np.mean(p_list_ratings)\n",
        "p_list_ratings =  p_list_ratings - mean_ratings_train # remove the mean\n",
        "p_list_movies = np.concatenate(list_movies_each_user).ravel().tolist()\n",
        "p_list_users = list_users.tolist()\n",
        "Y = pd.DataFrame({'users': p_list_users, 'movies': p_list_movies, 'ratingsorig': p_list_ratings_original,'ratings':p_list_ratings.tolist()})"
      ],
      "execution_count": 0,
      "outputs": []
    },
    {
      "cell_type": "code",
      "metadata": {
        "id": "3f-78Kl_uKP0",
        "colab_type": "code",
        "outputId": "3e9591dd-a772-4fe0-a821-77600d5eea98",
        "colab": {
          "base_uri": "https://localhost:8080/",
          "height": 514
        }
      },
      "source": [
        "Y.head(15)"
      ],
      "execution_count": 6,
      "outputs": [
        {
          "output_type": "execute_result",
          "data": {
            "text/html": [
              "<div>\n",
              "<style scoped>\n",
              "    .dataframe tbody tr th:only-of-type {\n",
              "        vertical-align: middle;\n",
              "    }\n",
              "\n",
              "    .dataframe tbody tr th {\n",
              "        vertical-align: top;\n",
              "    }\n",
              "\n",
              "    .dataframe thead th {\n",
              "        text-align: right;\n",
              "    }\n",
              "</style>\n",
              "<table border=\"1\" class=\"dataframe\">\n",
              "  <thead>\n",
              "    <tr style=\"text-align: right;\">\n",
              "      <th></th>\n",
              "      <th>users</th>\n",
              "      <th>movies</th>\n",
              "      <th>ratingsorig</th>\n",
              "      <th>ratings</th>\n",
              "    </tr>\n",
              "  </thead>\n",
              "  <tbody>\n",
              "    <tr>\n",
              "      <th>0</th>\n",
              "      <td>165.0</td>\n",
              "      <td>110</td>\n",
              "      <td>4.0</td>\n",
              "      <td>0.375862</td>\n",
              "    </tr>\n",
              "    <tr>\n",
              "      <th>1</th>\n",
              "      <td>165.0</td>\n",
              "      <td>249</td>\n",
              "      <td>4.0</td>\n",
              "      <td>0.375862</td>\n",
              "    </tr>\n",
              "    <tr>\n",
              "      <th>2</th>\n",
              "      <td>165.0</td>\n",
              "      <td>368</td>\n",
              "      <td>4.0</td>\n",
              "      <td>0.375862</td>\n",
              "    </tr>\n",
              "    <tr>\n",
              "      <th>3</th>\n",
              "      <td>165.0</td>\n",
              "      <td>377</td>\n",
              "      <td>4.0</td>\n",
              "      <td>0.375862</td>\n",
              "    </tr>\n",
              "    <tr>\n",
              "      <th>4</th>\n",
              "      <td>165.0</td>\n",
              "      <td>441</td>\n",
              "      <td>3.0</td>\n",
              "      <td>-0.624138</td>\n",
              "    </tr>\n",
              "    <tr>\n",
              "      <th>5</th>\n",
              "      <td>165.0</td>\n",
              "      <td>480</td>\n",
              "      <td>4.0</td>\n",
              "      <td>0.375862</td>\n",
              "    </tr>\n",
              "    <tr>\n",
              "      <th>6</th>\n",
              "      <td>165.0</td>\n",
              "      <td>592</td>\n",
              "      <td>4.0</td>\n",
              "      <td>0.375862</td>\n",
              "    </tr>\n",
              "    <tr>\n",
              "      <th>7</th>\n",
              "      <td>165.0</td>\n",
              "      <td>858</td>\n",
              "      <td>3.0</td>\n",
              "      <td>-0.624138</td>\n",
              "    </tr>\n",
              "    <tr>\n",
              "      <th>8</th>\n",
              "      <td>165.0</td>\n",
              "      <td>908</td>\n",
              "      <td>4.0</td>\n",
              "      <td>0.375862</td>\n",
              "    </tr>\n",
              "    <tr>\n",
              "      <th>9</th>\n",
              "      <td>165.0</td>\n",
              "      <td>1127</td>\n",
              "      <td>4.0</td>\n",
              "      <td>0.375862</td>\n",
              "    </tr>\n",
              "    <tr>\n",
              "      <th>10</th>\n",
              "      <td>165.0</td>\n",
              "      <td>1196</td>\n",
              "      <td>4.0</td>\n",
              "      <td>0.375862</td>\n",
              "    </tr>\n",
              "    <tr>\n",
              "      <th>11</th>\n",
              "      <td>165.0</td>\n",
              "      <td>1197</td>\n",
              "      <td>5.0</td>\n",
              "      <td>1.375862</td>\n",
              "    </tr>\n",
              "    <tr>\n",
              "      <th>12</th>\n",
              "      <td>165.0</td>\n",
              "      <td>1198</td>\n",
              "      <td>5.0</td>\n",
              "      <td>1.375862</td>\n",
              "    </tr>\n",
              "    <tr>\n",
              "      <th>13</th>\n",
              "      <td>165.0</td>\n",
              "      <td>1210</td>\n",
              "      <td>3.0</td>\n",
              "      <td>-0.624138</td>\n",
              "    </tr>\n",
              "    <tr>\n",
              "      <th>14</th>\n",
              "      <td>165.0</td>\n",
              "      <td>1221</td>\n",
              "      <td>3.0</td>\n",
              "      <td>-0.624138</td>\n",
              "    </tr>\n",
              "  </tbody>\n",
              "</table>\n",
              "</div>"
            ],
            "text/plain": [
              "    users  movies  ratingsorig   ratings\n",
              "0   165.0     110          4.0  0.375862\n",
              "1   165.0     249          4.0  0.375862\n",
              "2   165.0     368          4.0  0.375862\n",
              "3   165.0     377          4.0  0.375862\n",
              "4   165.0     441          3.0 -0.624138\n",
              "5   165.0     480          4.0  0.375862\n",
              "6   165.0     592          4.0  0.375862\n",
              "7   165.0     858          3.0 -0.624138\n",
              "8   165.0     908          4.0  0.375862\n",
              "9   165.0    1127          4.0  0.375862\n",
              "10  165.0    1196          4.0  0.375862\n",
              "11  165.0    1197          5.0  1.375862\n",
              "12  165.0    1198          5.0  1.375862\n",
              "13  165.0    1210          3.0 -0.624138\n",
              "14  165.0    1221          3.0 -0.624138"
            ]
          },
          "metadata": {
            "tags": []
          },
          "execution_count": 6
        }
      ]
    },
    {
      "cell_type": "markdown",
      "metadata": {
        "id": "5-QSB0fHmCWY",
        "colab_type": "text"
      },
      "source": [
        "### Question 3\n",
        "\n",
        "The dataframes `Y_with_NaNs` and `Y` contain the same information but organised in a different way. Explain what is the difference. We have also included two columns for ratings in dataframe `Y`, `ratingsorig` and `ratings`. Explain\n",
        "the difference. "
      ]
    },
    {
      "cell_type": "markdown",
      "metadata": {
        "id": "MhlkdrhmmCWZ",
        "colab_type": "text"
      },
      "source": [
        "#### Question 3 Answer\n",
        "\n",
        "Whereas Y_with_NaNs has a column for each user and a row for each film, resulting in a large number of NaN values in the DataFrame, Y contains a row for each rating instance, including the relevant information about each rating (which user rated the film, which film was rated, the rating given etc.). This approach is slightly more compact as there's now no NaNs in the DataFrame.\n",
        "\n",
        "`ratingsorig` is the original rating given to the film by the user, whereas `ratings` represents the rating given, minus the mean of all ratings given, which shows whether the rating assigned to the film is below or above average."
      ]
    },
    {
      "cell_type": "markdown",
      "metadata": {
        "id": "UPrX6kBQmCWa",
        "colab_type": "text"
      },
      "source": [
        "## Measuring Similarity\n",
        "\n",
        "We now need a measure for determining the similarity between the item and the user: how close the user is sitting to the item in the room if you like. We are going to use the inner product between the vector representing the item and the vector representing the user. \n",
        "\n",
        "An inner product (or [dot product](http://en.wikipedia.org/wiki/Dot_product)) between two vectors $\\mathbf{a}$ and $\\mathbf{b}$ is written as $\\mathbf{a}\\cdot\\mathbf{b}$. Or in vector notation we sometimes write it as $\\mathbf{a}^\\top\\mathbf{b}$. An inner product is simply the sum of the products of each element of the vector,\n",
        "$$\n",
        "\\mathbf{a}^\\top\\mathbf{b} = \\sum_{i} a_i b_i\n",
        "$$\n",
        "The inner product can be seen as a measure of similarity. The inner product gives us the cosine of the angle between the two vectors multiplied by their length. The smaller the angle between two vectors the larger the inner product. \n",
        "$$\n",
        "\\mathbf{a}^\\top\\mathbf{b} = |\\mathbf{a}||\\mathbf{b}| \\cos(\\theta)\n",
        "$$\n",
        "where $\\theta$ is the angle between two vectors and $|\\mathbf{a}|$ and $|\\mathbf{b}|$ are the respective lengths of the two vectors.\n",
        "\n",
        "Since we want each user to be sitting near each item, then we want the inner product to be large for any two items which are rated highly by that user. We can do this by trying to force the inner product $\\mathbf{u}_i^\\top\\mathbf{v}_j$ to be similar to the rating given by the user, $y_{i,j}$. To ensure this we will use a least squares objective function for all user ratings."
      ]
    },
    {
      "cell_type": "markdown",
      "metadata": {
        "id": "NuauhQzYmCWb",
        "colab_type": "text"
      },
      "source": [
        "## Objective Function\n",
        "\n",
        "The error function (or objective function, or cost function) we will choose is known as 'sum of squares', we will aim to minimize the sum of squared squared error between the inner product of $\\mathbf{u}_i$ and $\\mathbf{v}_i$ and the observed score for the user/item pairing, given by $y_{i, j}$. \n",
        "\n",
        "The total objective function can be written as\n",
        "$$\n",
        "E(\\mathbf{U}, \\mathbf{V}) = \\sum_{i,j} s_{i,j} (y_{i,j} - \\mathbf{u}_i^\\top \\mathbf{v}_j)^2\n",
        "$$\n",
        "where $s_{i,j}$ is an *indicator* variable that is 1 if user $i$ has rated item $j$ and is zero otherwise. Here $\\mathbf{U}$ is the matrix made up of all the vectors $\\mathbf{u}$,\n",
        "$$\n",
        "\\mathbf{U} = \\begin{bmatrix} \\mathbf{u}_1 \\dots \\mathbf{u}_n\\end{bmatrix}^\\top\n",
        "$$\n",
        "where we note that $i$th *row* of $\\mathbf{U}$ contains the vector associated with the $i$th user and $n$ is the total number of users. This form of matrix is known as a *design matrix*. Similarly, we define the matrix\n",
        "$$\n",
        "\\mathbf{V} = \\begin{bmatrix} \\mathbf{v}_1 \\dots \\mathbf{v}_m\\end{bmatrix}^\\top\n",
        "$$\n",
        "where again the $j$th row of $\\mathbf{V}$ contains the vector associated with the $j$th item and $m$ is the total number of items in the data set.\n",
        "\n",
        "## Objective Optimization\n",
        "\n",
        "The idea is to mimimize this objective. A standard, simple, technique for minimizing an objective is *gradient descent* or *steepest descent*. In gradient descent we simply choose to update each parameter in the model by subtracting a multiple of the objective function's gradient with respect to the parameters. So for a parameter $u_{i,j}$ from the matrix $\\mathbf{U}$ we would have an update as follows:\n",
        "$$\n",
        "u_{k,\\ell} \\leftarrow u_{k,\\ell} - \\eta \\frac{\\text{d} E(\\mathbf{U}, \\mathbf{V})}{\\text{d}u_{k,\\ell}} \n",
        "$$\n",
        "where $\\eta$ (which is pronounced *eta* in English) is a Greek letter representing the *learning rate*.  \n",
        "\n",
        "We can compute the gradient of the objective function with respect to $u_{k,\\ell}$ as\n",
        "$$\n",
        "\\frac{\\text{d}E(\\mathbf{U}, \\mathbf{V})}{\\text{d}u_{k,\\ell}} = -2 \\sum_j s_{k,j}v_{j,\\ell}(y_{k, j} - \\mathbf{u}_k^\\top\\mathbf{v}_{j}). \n",
        "$$\n",
        "Similarly each parameter $v_{i,j}$ needs to be updated according to its gradient. \n"
      ]
    },
    {
      "cell_type": "markdown",
      "metadata": {
        "id": "teIGcjwrmCWc",
        "colab_type": "text"
      },
      "source": [
        "### Question 4\n",
        "\n",
        "What is the gradient of the objective function with respect to $v_{k, \\ell}$? Write your answer in the box below, and explain which differentiation techniques you used to get there. "
      ]
    },
    {
      "cell_type": "markdown",
      "metadata": {
        "id": "2CQuouTwmCWd",
        "colab_type": "text"
      },
      "source": [
        "#### Question 4 Answer\n",
        "\n",
        "\\begin{equation} \\frac{dE(\\mathbf{U, V})}{dv_{k,l}}=-2\\sum_j s_{k,l}u_{j,l}(y_{k,j}-\\mathbf{u}_k^T\\mathbf{v}_j) \\end{equation}\n",
        "<br>\n",
        "This is obtained by using the chain rule. The derviative of the outer expression is taken (giving the factor of 2 and removing the power of 2) and this is multiplied by the derivative of the expression within the brackets, which gives the factor of -1 and the factor of $u_{j,l}$."
      ]
    },
    {
      "cell_type": "markdown",
      "metadata": {
        "id": "hwlDs2qSmCWh",
        "colab_type": "text"
      },
      "source": [
        "## Steepest Descent Algorithm\n",
        "\n",
        "In the steepest descent algorithm we aim to minimize the objective function by subtacting the gradient of the objective function from the parameters. \n",
        "\n",
        "### Initialisation\n",
        "\n",
        "To start with though, we need initial values for the matrix $\\mathbf{U}$ and the matrix $\\mathbf{V}$. Let's create them as `pandas` data frames and initialise them randomly with small values."
      ]
    },
    {
      "cell_type": "code",
      "metadata": {
        "id": "izhHFPkZmCWi",
        "colab_type": "code",
        "colab": {}
      },
      "source": [
        "q = 2 # the dimension of our map of the 'library'\n",
        "learn_rate = 0.01\n",
        "U = pd.DataFrame(np.random.normal(size=(nUsersInExample, q))*0.001, index=my_batch_users)\n",
        "V = pd.DataFrame(np.random.normal(size=(n_movies, q))*0.001, index=indexes_unique_movies)"
      ],
      "execution_count": 0,
      "outputs": []
    },
    {
      "cell_type": "markdown",
      "metadata": {
        "id": "bfCaOkH0mCWn",
        "colab_type": "text"
      },
      "source": [
        "Now that we have the initial values set, we can start the optimization. First we define a function for the gradient of the objective and the objective function itself."
      ]
    },
    {
      "cell_type": "code",
      "metadata": {
        "id": "4Q0HIxKkmCWo",
        "colab_type": "code",
        "colab": {}
      },
      "source": [
        "def objective_gradient(Y, U, V):\n",
        "    gU = pd.DataFrame(np.zeros((U.shape)), index=U.index)\n",
        "    gV = pd.DataFrame(np.zeros((V.shape)), index=V.index)\n",
        "    obj = 0.\n",
        "    nrows = Y.shape[0]\n",
        "    for i in range(nrows):\n",
        "        row = Y.iloc[i]\n",
        "        user = row['users']\n",
        "        film = row['movies']\n",
        "        rating = row['ratings']\n",
        "        prediction = np.dot(U.loc[user], V.loc[film]) # vTu\n",
        "        diff = prediction - rating # vTu - y\n",
        "        obj += diff*diff\n",
        "        gU.loc[user] += 2*diff*V.loc[film]\n",
        "        gV.loc[film] += 2*diff*U.loc[user]\n",
        "    return obj, gU, gV"
      ],
      "execution_count": 0,
      "outputs": []
    },
    {
      "cell_type": "markdown",
      "metadata": {
        "id": "AyhATjkgmCWs",
        "colab_type": "text"
      },
      "source": [
        "Now we can write our simple optimisation route. This allows us to observe the objective function as the optimization proceeds."
      ]
    },
    {
      "cell_type": "code",
      "metadata": {
        "id": "Q-quWBlRmCWt",
        "colab_type": "code",
        "colab": {
          "base_uri": "https://localhost:8080/",
          "height": 357
        },
        "outputId": "af2f60f7-834e-4902-ffcb-96b490c7a5ce"
      },
      "source": [
        "iterations = 20\n",
        "for i in range(iterations):\n",
        "    obj, gU, gV = objective_gradient(Y, U, V)\n",
        "    print(\"Iteration\", i, \"Objective function: \", obj)\n",
        "    U -= learn_rate*gU\n",
        "    V -= learn_rate*gV    "
      ],
      "execution_count": 9,
      "outputs": [
        {
          "output_type": "stream",
          "text": [
            "Iteration 0 Objective function:  1159.1241491857415\n",
            "Iteration 1 Objective function:  1159.1240396476132\n",
            "Iteration 2 Objective function:  1159.123920339925\n",
            "Iteration 3 Objective function:  1159.1237484770427\n",
            "Iteration 4 Objective function:  1159.1234663500807\n",
            "Iteration 5 Objective function:  1159.122975818163\n",
            "Iteration 6 Objective function:  1159.1220982598068\n",
            "Iteration 7 Objective function:  1159.1205023520936\n",
            "Iteration 8 Objective function:  1159.11756940713\n",
            "Iteration 9 Objective function:  1159.1121402223268\n",
            "Iteration 10 Objective function:  1159.102037928917\n",
            "Iteration 11 Objective function:  1159.0831673821904\n",
            "Iteration 12 Objective function:  1159.0478135807055\n",
            "Iteration 13 Objective function:  1158.9814242533134\n",
            "Iteration 14 Objective function:  1158.8565230943102\n",
            "Iteration 15 Objective function:  1158.6211934838252\n",
            "Iteration 16 Objective function:  1158.1773030814165\n",
            "Iteration 17 Objective function:  1157.3394112480473\n",
            "Iteration 18 Objective function:  1155.7575718298222\n",
            "Iteration 19 Objective function:  1152.7736620450437\n"
          ],
          "name": "stdout"
        }
      ]
    },
    {
      "cell_type": "markdown",
      "metadata": {
        "id": "TkjhA4LZmCWw",
        "colab_type": "text"
      },
      "source": [
        "### Question 5\n",
        "\n",
        "What happens as you increase the number of iterations? What happens if you increase the learning rate?"
      ]
    },
    {
      "cell_type": "markdown",
      "metadata": {
        "id": "LD34bNuGmCWx",
        "colab_type": "text"
      },
      "source": [
        "#### Question 5 Answer\n",
        "\n",
        "With an increased learning rate, we see much larger jumps in the value of the objective function, as we are taking larger steps in the direction of the gradient.\n",
        "\n",
        "As we increase the number of iterations, we get closer to the optimal parameters as we are allowing the gradient descent algorithm to take more steps towards the global minimum. We know that this is happening as the value of the objective function is an order of magnitude lower by iteration 40 than it was at the start of the training process."
      ]
    },
    {
      "cell_type": "code",
      "metadata": {
        "id": "LVN0D58SmCWy",
        "colab_type": "code",
        "colab": {
          "base_uri": "https://localhost:8080/",
          "height": 323
        },
        "outputId": "a6d34f1c-01d7-41c8-b37d-dadc8d3935a6"
      },
      "source": [
        "# Question 5 Code Answer\n",
        "\n",
        "print('10 iterations w/ LR increased up to 0.03\\n')\n",
        "\n",
        "q = 2 # the dimension of our map of the 'library'\n",
        "learn_rate = 0.03\n",
        "U = pd.DataFrame(np.random.normal(size=(nUsersInExample, q))*0.001, index=my_batch_users)\n",
        "V = pd.DataFrame(np.random.normal(size=(n_movies, q))*0.001, index=indexes_unique_movies)\n",
        "\n",
        "iterations = 10\n",
        "for i in range(iterations):\n",
        "    obj, gU, gV = objective_gradient(Y, U, V)\n",
        "    if i%2:\n",
        "        print(\"Iteration\", i, \"Objective function: \", obj)\n",
        "    U -= learn_rate*gU\n",
        "    V -= learn_rate*gV  \n",
        "    \n",
        "print('\\nIncreased no. of iterations w/ LR = 0.02:\\n')\n",
        "\n",
        "q = 2 # the dimension of our map of the 'library'\n",
        "learn_rate = 0.02\n",
        "U = pd.DataFrame(np.random.normal(size=(nUsersInExample, q))*0.001, index=my_batch_users)\n",
        "V = pd.DataFrame(np.random.normal(size=(n_movies, q))*0.001, index=indexes_unique_movies)\n",
        "\n",
        "iterations = 40\n",
        "for i in range(iterations):\n",
        "    obj, gU, gV = objective_gradient(Y, U, V)\n",
        "    if i%5 == 0:\n",
        "        print(\"Iteration\", i, \"Objective function: \", obj)\n",
        "    U -= learn_rate*gU\n",
        "    V -= learn_rate*gV  "
      ],
      "execution_count": 12,
      "outputs": [
        {
          "output_type": "stream",
          "text": [
            "10 iterations w/ LR increased up to 0.03\n",
            "\n",
            "Iteration 1 Objective function:  1159.1238349469306\n",
            "Iteration 3 Objective function:  1159.1207916116114\n",
            "Iteration 5 Objective function:  1159.0698659619197\n",
            "Iteration 7 Objective function:  1158.021974065427\n",
            "Iteration 9 Objective function:  1135.035269065849\n",
            "\n",
            "Increased no. of iterations w/ LR = 0.02:\n",
            "\n",
            "Iteration 0 Objective function:  1159.124262427179\n",
            "Iteration 5 Objective function:  1159.1137727837317\n",
            "Iteration 10 Objective function:  1156.5123274299274\n",
            "Iteration 15 Objective function:  694.292325399805\n",
            "Iteration 20 Objective function:  369.87690586388743\n",
            "Iteration 25 Objective function:  209.84068868220916\n",
            "Iteration 30 Objective function:  149.70153795664146\n",
            "Iteration 35 Objective function:  102.92072664316326\n"
          ],
          "name": "stdout"
        }
      ]
    },
    {
      "cell_type": "markdown",
      "metadata": {
        "id": "JnAm8hQZmCW1",
        "colab_type": "text"
      },
      "source": [
        "## Making Predictions\n",
        "\n",
        "Predictions can be made from the model of the appropriate rating for a given user, $i$, for a given film, $j$, by simply taking the inner product between their vectors $\\mathbf{u}_i$ and $\\mathbf{v}_j$. "
      ]
    },
    {
      "cell_type": "markdown",
      "metadata": {
        "id": "PH-IjzSpmCW2",
        "colab_type": "text"
      },
      "source": [
        "### Question 6\n",
        "\n",
        "Create a function that provides the prediction of the ratings for the users in the dataset. Is the quality of the predictions affected by the number of iterations or the learning rate? The function should receive `Y`, `U` and `V` and return the predictions and the absolute error between the predictions and the actual rating given by the users. The predictions and the absolute error should be added as additional columns to the dataframe `Y`."
      ]
    },
    {
      "cell_type": "code",
      "metadata": {
        "id": "vCDbrts3mCW3",
        "colab_type": "code",
        "colab": {}
      },
      "source": [
        "# Question 6 Code Answer"
      ],
      "execution_count": 0,
      "outputs": []
    },
    {
      "cell_type": "markdown",
      "metadata": {
        "id": "Pkx4aSNBmCW5",
        "colab_type": "text"
      },
      "source": [
        "## Stochastic Gradient Descent or Robbins Monroe Algorithm\n",
        "\n",
        "Stochastic gradient descent involves updating separating each gradient update according to each separate observation, rather than summing over them all. It is an approximate optimization method, but it has proven convergence under certain conditions and can be much faster in practice. It is used widely by internet companies for doing machine learning in practice. For example, Facebook's ad ranking algorithm uses stochastic gradient descent. "
      ]
    },
    {
      "cell_type": "markdown",
      "metadata": {
        "id": "VV4gBjv5mCW6",
        "colab_type": "text"
      },
      "source": [
        "### Question 7\n",
        "\n",
        "Create a stochastic gradient descent version of the algorithm. Monitor the objective function after every 1000 updates to ensure that it is decreasing. When you have finished, plot the movie map and the user map in two dimensions (you can use the columns of the matrices $\\mathbf{U}$ for the user map and the columns of $\\mathbf{V}$ for the movie map). Provide three observations about these maps."
      ]
    },
    {
      "cell_type": "code",
      "metadata": {
        "id": "yd_l1JtkmCW7",
        "colab_type": "code",
        "colab": {}
      },
      "source": [
        "# Question 7 Code Answer"
      ],
      "execution_count": 0,
      "outputs": []
    },
    {
      "cell_type": "markdown",
      "metadata": {
        "id": "vYqyjbqdmCW-",
        "colab_type": "text"
      },
      "source": [
        "## Is Our Map Enough? Are Our Data Enough?\n",
        "\n",
        "Is two dimensions really enough to capture the complexity of humans and their artforms? Perhaps we need even more dimensions to capture that complexity. Extending our books analogy further, consider how we should place books that have a historical timeframe as well as some geographical location. Do we really want books from the 2nd World War to sit alongside books from the Roman Empire? Books on the American invasion of Sicily in 1943 are perhaps less related to books about Carthage than those that study the Jewish Revolt from 66-70 (in the Roman Province of Judaea). So books that relate to subjects which are closer in time should be stored together. However, a student of rebellion against empire may also be interested in the relationship between the Jewish Revolt of 66-70 and the Indian Rebellion of 1857, nearly 1800 years later. Whilst the technologies are different, the psychology of the people is shared: a rebellious nation angainst their imperial masters, triggered by misrule with a religious and cultural background. To capture such complexities we would need further dimensions in our latent representation. But are further dimensions justified by the amount of data we have? Can we really understand the facets of a film that only has at most three or four ratings?"
      ]
    },
    {
      "cell_type": "markdown",
      "metadata": {
        "id": "KDf_qIQtmCW_",
        "colab_type": "text"
      },
      "source": [
        "## Going Further\n",
        "\n",
        "If you want to take this model further then you'll need more data. You can use again the MovieLens 100k data but increasing the number of users (for example, for the Steepest Descent Algorithm you can do this by modifying the variable `nUsersInExample` that was set as 10 before)."
      ]
    },
    {
      "cell_type": "markdown",
      "metadata": {
        "id": "TcQf3nUDmCXA",
        "colab_type": "text"
      },
      "source": [
        "### Question 8\n",
        "\n",
        "Use stochastic gradient descent to make a movie map for the MovieLens 100k data. Plot the map of the movies when you are finished."
      ]
    },
    {
      "cell_type": "code",
      "metadata": {
        "id": "bpK6HkTlmCXB",
        "colab_type": "code",
        "colab": {}
      },
      "source": [
        "# Code for question 8 here."
      ],
      "execution_count": 0,
      "outputs": []
    }
  ]
}