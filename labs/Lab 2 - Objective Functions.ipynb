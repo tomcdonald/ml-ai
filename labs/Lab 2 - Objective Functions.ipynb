{
  "nbformat": 4,
  "nbformat_minor": 0,
  "metadata": {
    "kernelspec": {
      "name": "python3",
      "display_name": "Python 3"
    },
    "language_info": {
      "codemirror_mode": {
        "name": "ipython",
        "version": 3
      },
      "file_extension": ".py",
      "mimetype": "text/x-python",
      "name": "python",
      "nbconvert_exporter": "python",
      "pygments_lexer": "ipython3",
      "version": "3.6.8"
    },
    "colab": {
      "name": "Copy of Copy of Lab 2 - Objective Functions.ipynb",
      "provenance": [],
      "collapsed_sections": [],
      "include_colab_link": true
    },
    "accelerator": "GPU"
  },
  "cells": [
    {
      "cell_type": "markdown",
      "metadata": {
        "id": "view-in-github",
        "colab_type": "text"
      },
      "source": [
        "<a href=\"https://colab.research.google.com/github/tomcdonald/ml-ai/blob/master/labs/Lab%202%20-%20Objective%20Functions.ipynb\" target=\"_parent\"><img src=\"https://colab.research.google.com/assets/colab-badge.svg\" alt=\"Open In Colab\"/></a>"
      ]
    },
    {
      "cell_type": "markdown",
      "metadata": {
        "id": "vzQGDbyXmCWF",
        "colab_type": "text"
      },
      "source": [
        "# Objective Functions: A Simple Example with Matrix Factorisation.\n",
        "\n",
        "### Modified by Mauricio A Álvarez, October 2018, 2019\n",
        "\n",
        "### 6th October 2015 Neil D. Lawrence\n",
        "\n",
        "In last week's class we saw how we could load in a data set to pandas and use it for some simple data processing. We computed various probabilities on the data and I encouraged you to think about what sort of probabilities you need for prediction. This week we are going to take a slightly different tack. \n",
        "\n",
        "Broadly speaking there are two dominating approaches to machine learning problems. We started to consider the first approach last week: constructing models based on defining the relationship between variables using probabilities. This week we will consider the second approach: which involves defining an *objective function* and optimizing it. \n",
        "\n",
        "What do we mean by an objective function? An objective function could be an *error function*, a *cost function* or a *benefit* function. In evolutionary computing they are called *fitness* functions. But the idea is always the same. We write down a mathematical equation which is then optimized to do the learning. The equation should be a function of the *data* and our model *parameters*. We have a choice when optimizing, either minimize or maximize. To avoid confusion, in the optimization field, we always choose to minimize the function. If we have a function that we would like to maximize, we simply choose to minimize the negative of that function. \n",
        "\n",
        "So for this lab session, we are going to ignore probabilities, but don't worry, they will return! \n",
        "\n",
        "This week we are going to try and build a simple movie recommender system using an objective function. To do this, the first thing I'd like you to do is to install some software we've written for sharing information across google documents.\n",
        "\n",
        "## Open Data Science Software\n",
        "\n",
        "In Sheffield we have written a suite of software tools for 'Open Data Science'. Open data science is an approach to sharing code, models and data that should make it easier for companies, health professionals and scientists to gain access to data science techniques. For some background on open data science you can read [this blog post](http://inverseprobability.com/2014/07/01/open-data-science/). The first thing we will do this week is to download that suite of software. \n",
        "\n",
        "The software can be installed using\n",
        "\n",
        "```python\n",
        "pip install pods\n",
        "```\n",
        "\n",
        "from the command prompt where you can access your python installation.\n",
        "\n",
        "\n",
        "## Download the MovieLens 100k Data\n",
        "\n",
        "We are going to download the [MovieLens 100k](http://files.grouplens.org/datasets/movielens/ml-latest-small-README.html) Data. This is a public dataset that contains 100,000 ratings and 3,600 tag applications applied to 9,000 movies by 600 users. When you use a data set that someone has prepared you should always reference the data source to acknowledge the work that's been placed in. This particular dataset was collected by the [Grouplens Research group](https://grouplens.org/),  at the University of Minnesota. For example, if you were to use this dataset for writing a paper, the authors ask you that you acknowledge their work by citing the following paper:\n",
        "\n",
        "F. Maxwell Harper and Joseph A. Konstan. 2015. The MovieLens Datasets: History and Context. ACM Transactions on Interactive Intelligent Systems (TiiS) 5 (4):1-19 [https://doi.org/10.1145/2827872](https://doi.org/10.1145/2827872)"
      ]
    },
    {
      "cell_type": "code",
      "metadata": {
        "id": "7qu8-GF0n4g0",
        "colab_type": "code",
        "outputId": "33b9253a-370f-41c5-d357-bc9b0e5ba8e5",
        "colab": {
          "base_uri": "https://localhost:8080/",
          "height": 34
        }
      },
      "source": [
        "!pip install pods"
      ],
      "execution_count": 0,
      "outputs": [
        {
          "output_type": "stream",
          "text": [
            "Requirement already satisfied: pods in /usr/local/lib/python3.6/dist-packages (0.0.2a0)\n"
          ],
          "name": "stdout"
        }
      ]
    },
    {
      "cell_type": "code",
      "metadata": {
        "id": "gQ8Zk8n6mCWH",
        "colab_type": "code",
        "outputId": "e0edbed4-08a7-4e79-cb77-49bed06b7dea",
        "colab": {
          "base_uri": "https://localhost:8080/",
          "height": 51
        }
      },
      "source": [
        "import pods\n",
        "import zipfile\n",
        "import sys\n",
        "import pandas as pd\n",
        "import numpy as np\n",
        "\n",
        "pods.util.download_url(\"http://files.grouplens.org/datasets/movielens/ml-latest-small.zip\")\n",
        "zip_console = zipfile.ZipFile('ml-latest-small.zip', 'r')\n",
        "for name in zip_console.namelist():\n",
        "           zip_console.extract(name, './')"
      ],
      "execution_count": 0,
      "outputs": [
        {
          "output_type": "stream",
          "text": [
            "Downloading  http://files.grouplens.org/datasets/movielens/ml-latest-small.zip -> ./ml-latest-small.zip\n",
            "[==============================]   0.933/0.933MB\n"
          ],
          "name": "stdout"
        }
      ]
    },
    {
      "cell_type": "markdown",
      "metadata": {
        "id": "pgIACiRbmCWL",
        "colab_type": "text"
      },
      "source": [
        "### Question 1\n",
        "\n",
        "Data ethics. If you find data available on the internet, can you simply use it without consequence? If you are given data by a fellow researcher can you publish that data on line? "
      ]
    },
    {
      "cell_type": "markdown",
      "metadata": {
        "id": "t2EDshcamCWM",
        "colab_type": "text"
      },
      "source": [
        "#### Question 1 Answer\n",
        "\n",
        "No. When using data found online you should always reference it's origin (even just as a matter of courtesy), and also you must check if there is a specific licence attached to it. Some licences will specify that the data cannot be reused for commercial purposes, whereas some licences may specify that the data is open and is free to use, although it's still good practice to reference your sources.\n",
        "\n",
        "If given data by a fellow researcher, you should only publish it online with their permission, if you know it's source and if you correctly reference said source/your fellow researcher."
      ]
    },
    {
      "cell_type": "markdown",
      "metadata": {
        "id": "WLYaJw8DmCWN",
        "colab_type": "text"
      },
      "source": [
        "## Recommender Systems\n",
        "\n",
        "A recommender system aims to make suggestions for items (films, books, other commercial products) given what it knows about users' tastes. The recommendation engine needs to represent the *taste* of all the users and the *characteristics* of each object. \n",
        "\n",
        "A common way for organizing objects is to place related objects spatially close together. For example in a library we try and put books that are on related topics near to each other on the shelves. One system for doing this is known as [Dewey Decimal Classification](http://en.wikipedia.org/wiki/Dewey_Decimal_Classification). In the Dewey Decimal Classification system (which dates from 1876) each subject is given a number (in fact it's a decimal number). For example, the field of Natural Sciences and Mathematics is given numbers which start with 500. Subjects based on Computer Science are given numbers which start 004 and works on the 'mathematical principles' of Computer science are given the series 004.0151 (which we might store as 4.0151 on a Computer). Whilst it's a classification system, the books in the library are typically laid out in the same order as the numbers, so we might expect that neighbouring numbers represent books that are related in subject. That seems to be exactly what we want when also representing films. Could we somehow represent each film's subject according to a number? In a similar way we could then imagine representing users with a list of numbers that represent things that each user is interested in.\n",
        "\n",
        "Actually a one dimensional representation of a subject can be very awkward. To see this, let's have a look at the Dewey Decimal Classification numbers for the 900s, which is listed as 'History and Geography'. We will focus on subjects in the 940s which can be found in this list from [Wikipedia](https://en.wikipedia.org/wiki/List_of_Dewey_Decimal_classes#Class_900_%E2%80%93_History_&_geography). Whilst the ordering for places is somewhat sensible, it is also rather arbitrary. In the 940s we have Europe listed from 940-949, Asia listed from 950-959 and Africa listed from 960-969. Whilst it's true that Asia borders Europe, Africa is also very close, and the history of the Roman Empire spreads into [Carthage](http://en.wikipedia.org/wiki/Carthage) and later on Egypt. This image from Wikipedia shows a map of the Cathaginian Empire which fell after fighting with Rome. \n",
        "\n",
        "\n",
        "<a title=\"By Javierfv1212 [Public domain], from Wikimedia Commons\" href=\"https://commons.wikimedia.org/wiki/File:Carthaginianempire.PNG\"><img width=\"512\" alt=\"Carthaginianempire\" src=\"https://upload.wikimedia.org/wikipedia/commons/thumb/9/9b/Carthaginianempire.PNG/512px-Carthaginianempire.PNG\"></a>\n",
        "\n",
        "We now need to make a decision about whether Roman Histories are European or African, ideally we'd like them to be somewhere between the two, but we can't place them there in the Dewey Decimal system because between Europe and Africa is Asia, which has less to do with the Roman Empire than either Europe or Africa. Of course the fact that we've used a map provides a clue as to what to do next. Libraries are actually laid out on floors, so what if we were to use the spatial lay out to organise the sujbects of the books in two dimensions. Books on Geography could be laid out according to where in the world they are referring to. \n",
        "\n",
        "Such complexities are very hard to encapsulate in one number, but inspired by the map examples we can start considering how we might lay out films in two dimensions. Similarly, we can consider laying out a map of people's interests. If the two maps correspond to one another, the map of people could reflect where they might want to live in 'subject space'. We can think of representing people's tastes as where they might best like to sit in the library to access easily the books they are most interested in.\n",
        "\n",
        "\n",
        "## Inner Products for Representing Similarity\n",
        "\n",
        "Ideas like the above are good for gaining intuitions about what we might want, but the one of the skills of data science is representing those ideas mathematically. Mathematical abstraction of a problem is one of the key ways in which we've been able to progress as a society. Understanding planetary motions, as well as those of the smallest molecule (to quote Laplace's [Philosophical Essay on Probabilities](http://books.google.co.uk/books?id=1YQPAAAAQAAJ&printsec=frontcover&source=gbs_ge_summary_r&cad=0#v=onepage&q&f=false)) needed to be done mathematically. The right mathematical model in machine learning can be slightly more elusive, because constructing it is a two stage process. \n",
        "\n",
        "1. We have to determine the right intuition for the system we want to represent. Notions such as 'subject' and 'interest' are not mathematically well defined, and even when we create a new interpretation of what they might mean, each interpretation may have its own weaknesses. \n",
        "\n",
        "2. Once we have our interpretation we can attempt to mathematically formalize it. In our library interpretation, that's what we need to do next. \n",
        "\n",
        "### The Library on an Infinite Plane\n",
        "\n",
        "Let's imagine a library which stores all the items  we are interested in, not just books, but films and shopping items too. Such a library is likely to be very large, so we'll create it on an infinite two dimensional plane. This means we can use all the real numbers to represent the location of each item on the plane. For a two dimensional plane, we need to store the locations in a vector of numbers: we can decide that the $j$th item's location in the library is given by \n",
        "$$\n",
        "\\mathbf{v}_j = \\begin{bmatrix} v_{j,1} \\\\ v_{j,2}\\end{bmatrix},\n",
        "$$\n",
        "where $v_{j,1}$ represents the $j$th item's location in the East-West direction (or the $x$-axis) and $v_{j,2}$ represents the $j$th item's location in the North-South direction (or the $y$-axis). Now we need to specify the location where each user sits so that all the items that interest them are nearby: we can also represent the $i$th user's location with a vector \n",
        "$$\n",
        "\\mathbf{u}_i = \\begin{bmatrix} u_{i,1} \\\\ u_{i,2}\\end{bmatrix}.\n",
        "$$\n",
        "Finally, we need some way of recording a given user's affinity for a given item. This affinity might be the rating that the user gives the film. We can use $y_{i,j}$ to represent user $i$'s affinity for item $j$. \n",
        "\n",
        "For our film example we might imagine wanting to order films in a few ways. We could imagine organising films in the North-South direction as to how romantic they are. We could place the more romantic films further North and the less romantic films further South. For the East-West direction we could imagine ordering them according to how historic they are: we can imagine placing science fiction films to the East and historical drama to the West. In this case, fans of historical romances would be based in the North-West location, whilst fans of Science Fiction Action films might be located in the South-East (if we assume that 'Action' is the opposite of 'Romance', which is not necessarily the case). How do we lay out all these films? Have we got the right axes? In machine learning the answer is to 'let the data speak'. Use the data to try and obtain such a lay out. To do this we first need to obtain the data."
      ]
    },
    {
      "cell_type": "markdown",
      "metadata": {
        "id": "ElF6KzTUmCWO",
        "colab_type": "text"
      },
      "source": [
        "## Obtaining the Data\n",
        "\n",
        "As mentioned before, the MovieLens dataset that we'll use has 100,000 ratings to 9,000 movies by 600 users. For now, we will only work with a subset of the dataset. In particular, we will randomly chose a particular number of users and extract the movies and ratings that the users gave to those movies. Read the code below and understand what it is doing.\n",
        "\n",
        "**Before you run the code**, notice that `YourStudentID` in the first line is a variable that will specify the seed for the random number generator that will select a particular set of `nUsersInExample` users. Change the number that has been assigned by default to `YourStudentID` to the last three digits of your UCard number. All of you will have a different subset of users."
      ]
    },
    {
      "cell_type": "code",
      "metadata": {
        "id": "fci3dyVjmCWP",
        "colab_type": "code",
        "colab": {}
      },
      "source": [
        "YourStudentID = 999  # Include here the last three digits of your UCard number\n",
        "nUsersInExample = 10 # The maximum number of Users we're going to analyse at one time\n",
        "\n",
        "ratings = pd.read_csv(\"./ml-latest-small/ratings.csv\") \n",
        "\"\"\"\n",
        "ratings is a DataFrame with four columns: userId, movieId, rating and tags. We\n",
        "first want to identify how many unique users there are. We can use the unique \n",
        "method in pandas\n",
        "\"\"\"\n",
        "indexes_unique_users = ratings['userId'].unique()\n",
        "n_users = indexes_unique_users.shape[0]\n",
        "\"\"\" \n",
        "We randomly select 'nUsers' users with their ratings. We first fix the seed\n",
        "of the random generator to make sure that we always get the same 'nUsers'\n",
        "\"\"\"\n",
        "np.random.seed(YourStudentID)\n",
        "indexes_users = np.random.permutation(n_users)\n",
        "my_batch_users = indexes_users[0:nUsersInExample]\n",
        "\"\"\"\n",
        "We will use now the list of 'my_batch_users' to create a matrix Y. \n",
        "\"\"\"\n",
        "# We need to make a list of the movies that these users have watched\n",
        "list_movies_each_user = [[] for _ in range(nUsersInExample)]\n",
        "list_ratings_each_user = [[] for _ in range(nUsersInExample)]\n",
        "# Movies\n",
        "list_movies = ratings['movieId'][ratings['userId'] == my_batch_users[0]].values\n",
        "list_movies_each_user[0] = list_movies                    \n",
        "# Ratings                      \n",
        "list_ratings = ratings['rating'][ratings['userId'] == my_batch_users[0]].values\n",
        "list_ratings_each_user[0] = list_ratings\n",
        "# Users\n",
        "n_each_user = list_movies.shape[0]\n",
        "list_users = my_batch_users[0]*np.ones((1, n_each_user))\n",
        "\n",
        "for i in range(1, nUsersInExample):\n",
        "    # Movies\n",
        "    local_list_per_user_movies = ratings['movieId'][ratings['userId'] == my_batch_users[i]].values\n",
        "    list_movies_each_user[i] = local_list_per_user_movies\n",
        "    list_movies = np.append(list_movies,local_list_per_user_movies)\n",
        "    # Ratings                                 \n",
        "    local_list_per_user_ratings = ratings['rating'][ratings['userId'] == my_batch_users[i]].values\n",
        "    list_ratings_each_user[i] = local_list_per_user_ratings\n",
        "    list_ratings = np.append(list_ratings, local_list_per_user_ratings)  \n",
        "    # Users                                   \n",
        "    n_each_user = local_list_per_user_movies.shape[0]                                                                               \n",
        "    local_rep_user =  my_batch_users[i]*np.ones((1, n_each_user))    \n",
        "    list_users = np.append(list_users, local_rep_user)\n",
        "\n",
        "# Let us first see how many unique movies have been rated\n",
        "indexes_unique_movies = np.unique(list_movies)\n",
        "n_movies = indexes_unique_movies.shape[0]\n",
        "# As it is expected no all users have rated all movies. We will build a matrix Y \n",
        "# with NaN inputs and fill according to the data for each user \n",
        "temp = np.empty((n_movies,nUsersInExample,))\n",
        "temp[:] = np.nan\n",
        "Y_with_NaNs = pd.DataFrame(temp)\n",
        "for i in range(nUsersInExample):\n",
        " local_movies = list_movies_each_user[i]\n",
        " ixs = np.in1d(indexes_unique_movies, local_movies)\n",
        " Y_with_NaNs.loc[ixs, i] = list_ratings_each_user[i]\n",
        "\n",
        "Y_with_NaNs.index = indexes_unique_movies.tolist()\n",
        "Y_with_NaNs.columns = my_batch_users.tolist()"
      ],
      "execution_count": 0,
      "outputs": []
    },
    {
      "cell_type": "code",
      "metadata": {
        "id": "Esh36fwwtH1m",
        "colab_type": "code",
        "outputId": "238667f9-7f86-4859-fd41-55c9008f27e8",
        "colab": {
          "base_uri": "https://localhost:8080/",
          "height": 514
        }
      },
      "source": [
        "Y_with_NaNs.head(15)"
      ],
      "execution_count": 0,
      "outputs": [
        {
          "output_type": "execute_result",
          "data": {
            "text/html": [
              "<div>\n",
              "<style scoped>\n",
              "    .dataframe tbody tr th:only-of-type {\n",
              "        vertical-align: middle;\n",
              "    }\n",
              "\n",
              "    .dataframe tbody tr th {\n",
              "        vertical-align: top;\n",
              "    }\n",
              "\n",
              "    .dataframe thead th {\n",
              "        text-align: right;\n",
              "    }\n",
              "</style>\n",
              "<table border=\"1\" class=\"dataframe\">\n",
              "  <thead>\n",
              "    <tr style=\"text-align: right;\">\n",
              "      <th></th>\n",
              "      <th>165</th>\n",
              "      <th>393</th>\n",
              "      <th>75</th>\n",
              "      <th>180</th>\n",
              "      <th>550</th>\n",
              "      <th>140</th>\n",
              "      <th>326</th>\n",
              "      <th>315</th>\n",
              "      <th>197</th>\n",
              "      <th>35</th>\n",
              "    </tr>\n",
              "  </thead>\n",
              "  <tbody>\n",
              "    <tr>\n",
              "      <th>1</th>\n",
              "      <td>NaN</td>\n",
              "      <td>NaN</td>\n",
              "      <td>NaN</td>\n",
              "      <td>NaN</td>\n",
              "      <td>4.0</td>\n",
              "      <td>3.0</td>\n",
              "      <td>NaN</td>\n",
              "      <td>NaN</td>\n",
              "      <td>NaN</td>\n",
              "      <td>NaN</td>\n",
              "    </tr>\n",
              "    <tr>\n",
              "      <th>2</th>\n",
              "      <td>NaN</td>\n",
              "      <td>NaN</td>\n",
              "      <td>NaN</td>\n",
              "      <td>NaN</td>\n",
              "      <td>NaN</td>\n",
              "      <td>3.5</td>\n",
              "      <td>NaN</td>\n",
              "      <td>NaN</td>\n",
              "      <td>NaN</td>\n",
              "      <td>NaN</td>\n",
              "    </tr>\n",
              "    <tr>\n",
              "      <th>6</th>\n",
              "      <td>NaN</td>\n",
              "      <td>NaN</td>\n",
              "      <td>NaN</td>\n",
              "      <td>NaN</td>\n",
              "      <td>NaN</td>\n",
              "      <td>5.0</td>\n",
              "      <td>NaN</td>\n",
              "      <td>NaN</td>\n",
              "      <td>NaN</td>\n",
              "      <td>NaN</td>\n",
              "    </tr>\n",
              "    <tr>\n",
              "      <th>11</th>\n",
              "      <td>NaN</td>\n",
              "      <td>NaN</td>\n",
              "      <td>NaN</td>\n",
              "      <td>NaN</td>\n",
              "      <td>NaN</td>\n",
              "      <td>4.0</td>\n",
              "      <td>NaN</td>\n",
              "      <td>NaN</td>\n",
              "      <td>NaN</td>\n",
              "      <td>4.0</td>\n",
              "    </tr>\n",
              "    <tr>\n",
              "      <th>20</th>\n",
              "      <td>NaN</td>\n",
              "      <td>NaN</td>\n",
              "      <td>NaN</td>\n",
              "      <td>NaN</td>\n",
              "      <td>NaN</td>\n",
              "      <td>NaN</td>\n",
              "      <td>3.5</td>\n",
              "      <td>NaN</td>\n",
              "      <td>NaN</td>\n",
              "      <td>NaN</td>\n",
              "    </tr>\n",
              "    <tr>\n",
              "      <th>21</th>\n",
              "      <td>NaN</td>\n",
              "      <td>NaN</td>\n",
              "      <td>NaN</td>\n",
              "      <td>NaN</td>\n",
              "      <td>NaN</td>\n",
              "      <td>4.0</td>\n",
              "      <td>NaN</td>\n",
              "      <td>NaN</td>\n",
              "      <td>NaN</td>\n",
              "      <td>5.0</td>\n",
              "    </tr>\n",
              "    <tr>\n",
              "      <th>22</th>\n",
              "      <td>NaN</td>\n",
              "      <td>NaN</td>\n",
              "      <td>NaN</td>\n",
              "      <td>NaN</td>\n",
              "      <td>NaN</td>\n",
              "      <td>3.0</td>\n",
              "      <td>NaN</td>\n",
              "      <td>NaN</td>\n",
              "      <td>NaN</td>\n",
              "      <td>NaN</td>\n",
              "    </tr>\n",
              "    <tr>\n",
              "      <th>23</th>\n",
              "      <td>NaN</td>\n",
              "      <td>NaN</td>\n",
              "      <td>NaN</td>\n",
              "      <td>NaN</td>\n",
              "      <td>NaN</td>\n",
              "      <td>3.0</td>\n",
              "      <td>NaN</td>\n",
              "      <td>NaN</td>\n",
              "      <td>NaN</td>\n",
              "      <td>NaN</td>\n",
              "    </tr>\n",
              "    <tr>\n",
              "      <th>34</th>\n",
              "      <td>NaN</td>\n",
              "      <td>NaN</td>\n",
              "      <td>NaN</td>\n",
              "      <td>NaN</td>\n",
              "      <td>NaN</td>\n",
              "      <td>4.0</td>\n",
              "      <td>NaN</td>\n",
              "      <td>NaN</td>\n",
              "      <td>NaN</td>\n",
              "      <td>NaN</td>\n",
              "    </tr>\n",
              "    <tr>\n",
              "      <th>39</th>\n",
              "      <td>NaN</td>\n",
              "      <td>NaN</td>\n",
              "      <td>NaN</td>\n",
              "      <td>NaN</td>\n",
              "      <td>NaN</td>\n",
              "      <td>NaN</td>\n",
              "      <td>NaN</td>\n",
              "      <td>NaN</td>\n",
              "      <td>NaN</td>\n",
              "      <td>3.0</td>\n",
              "    </tr>\n",
              "    <tr>\n",
              "      <th>47</th>\n",
              "      <td>NaN</td>\n",
              "      <td>NaN</td>\n",
              "      <td>2.0</td>\n",
              "      <td>NaN</td>\n",
              "      <td>NaN</td>\n",
              "      <td>4.0</td>\n",
              "      <td>4.0</td>\n",
              "      <td>NaN</td>\n",
              "      <td>NaN</td>\n",
              "      <td>NaN</td>\n",
              "    </tr>\n",
              "    <tr>\n",
              "      <th>50</th>\n",
              "      <td>NaN</td>\n",
              "      <td>NaN</td>\n",
              "      <td>NaN</td>\n",
              "      <td>NaN</td>\n",
              "      <td>NaN</td>\n",
              "      <td>3.0</td>\n",
              "      <td>2.0</td>\n",
              "      <td>NaN</td>\n",
              "      <td>3.0</td>\n",
              "      <td>5.0</td>\n",
              "    </tr>\n",
              "    <tr>\n",
              "      <th>60</th>\n",
              "      <td>NaN</td>\n",
              "      <td>NaN</td>\n",
              "      <td>NaN</td>\n",
              "      <td>NaN</td>\n",
              "      <td>NaN</td>\n",
              "      <td>NaN</td>\n",
              "      <td>NaN</td>\n",
              "      <td>NaN</td>\n",
              "      <td>NaN</td>\n",
              "      <td>5.0</td>\n",
              "    </tr>\n",
              "    <tr>\n",
              "      <th>62</th>\n",
              "      <td>NaN</td>\n",
              "      <td>NaN</td>\n",
              "      <td>NaN</td>\n",
              "      <td>NaN</td>\n",
              "      <td>NaN</td>\n",
              "      <td>4.5</td>\n",
              "      <td>NaN</td>\n",
              "      <td>NaN</td>\n",
              "      <td>NaN</td>\n",
              "      <td>5.0</td>\n",
              "    </tr>\n",
              "    <tr>\n",
              "      <th>86</th>\n",
              "      <td>NaN</td>\n",
              "      <td>NaN</td>\n",
              "      <td>NaN</td>\n",
              "      <td>NaN</td>\n",
              "      <td>NaN</td>\n",
              "      <td>4.0</td>\n",
              "      <td>NaN</td>\n",
              "      <td>NaN</td>\n",
              "      <td>NaN</td>\n",
              "      <td>NaN</td>\n",
              "    </tr>\n",
              "  </tbody>\n",
              "</table>\n",
              "</div>"
            ],
            "text/plain": [
              "    165  393  75   180  550  140  326  315  197  35 \n",
              "1   NaN  NaN  NaN  NaN  4.0  3.0  NaN  NaN  NaN  NaN\n",
              "2   NaN  NaN  NaN  NaN  NaN  3.5  NaN  NaN  NaN  NaN\n",
              "6   NaN  NaN  NaN  NaN  NaN  5.0  NaN  NaN  NaN  NaN\n",
              "11  NaN  NaN  NaN  NaN  NaN  4.0  NaN  NaN  NaN  4.0\n",
              "20  NaN  NaN  NaN  NaN  NaN  NaN  3.5  NaN  NaN  NaN\n",
              "21  NaN  NaN  NaN  NaN  NaN  4.0  NaN  NaN  NaN  5.0\n",
              "22  NaN  NaN  NaN  NaN  NaN  3.0  NaN  NaN  NaN  NaN\n",
              "23  NaN  NaN  NaN  NaN  NaN  3.0  NaN  NaN  NaN  NaN\n",
              "34  NaN  NaN  NaN  NaN  NaN  4.0  NaN  NaN  NaN  NaN\n",
              "39  NaN  NaN  NaN  NaN  NaN  NaN  NaN  NaN  NaN  3.0\n",
              "47  NaN  NaN  2.0  NaN  NaN  4.0  4.0  NaN  NaN  NaN\n",
              "50  NaN  NaN  NaN  NaN  NaN  3.0  2.0  NaN  3.0  5.0\n",
              "60  NaN  NaN  NaN  NaN  NaN  NaN  NaN  NaN  NaN  5.0\n",
              "62  NaN  NaN  NaN  NaN  NaN  4.5  NaN  NaN  NaN  5.0\n",
              "86  NaN  NaN  NaN  NaN  NaN  4.0  NaN  NaN  NaN  NaN"
            ]
          },
          "metadata": {
            "tags": []
          },
          "execution_count": 4
        }
      ]
    },
    {
      "cell_type": "markdown",
      "metadata": {
        "id": "TKOdWicumCWS",
        "colab_type": "text"
      },
      "source": [
        "### Question 2\n",
        "\n",
        "Have a look at the matrix `Y_with_NaNs`. The movies data is now in a data frame which contains one column for each user rating the movie. There are some entries that contain 'NaN'. What does the 'NaN' mean in this context?"
      ]
    },
    {
      "cell_type": "markdown",
      "metadata": {
        "id": "Bs7iMdd3mCWT",
        "colab_type": "text"
      },
      "source": [
        "#### Answer Question 2\n",
        "\n",
        "In this context, the NaN values mean that the user has not rated that film."
      ]
    },
    {
      "cell_type": "markdown",
      "metadata": {
        "id": "yB2yau3imCWU",
        "colab_type": "text"
      },
      "source": [
        "Now we will convert our data structure into a form that is appropriate for processing. We will convert the `Y_with_NaNs` dataframe into a new dataframe which contains the user, the movie, and the rating using the following code"
      ]
    },
    {
      "cell_type": "code",
      "metadata": {
        "id": "fGLkLYrFmCWV",
        "colab_type": "code",
        "colab": {}
      },
      "source": [
        "p_list_ratings = np.concatenate(list_ratings_each_user).ravel()\n",
        "p_list_ratings_original = p_list_ratings.tolist()\n",
        "mean_ratings_train = np.mean(p_list_ratings)\n",
        "p_list_ratings =  p_list_ratings - mean_ratings_train # remove the mean\n",
        "p_list_movies = np.concatenate(list_movies_each_user).ravel().tolist()\n",
        "p_list_users = list_users.tolist()\n",
        "Y = pd.DataFrame({'users': p_list_users, 'movies': p_list_movies, 'ratingsorig': p_list_ratings_original,'ratings':p_list_ratings.tolist()})"
      ],
      "execution_count": 0,
      "outputs": []
    },
    {
      "cell_type": "code",
      "metadata": {
        "id": "3f-78Kl_uKP0",
        "colab_type": "code",
        "outputId": "7286d40d-e4f5-4927-b74a-b1d49b664115",
        "colab": {
          "base_uri": "https://localhost:8080/",
          "height": 514
        }
      },
      "source": [
        "Y.head(15)"
      ],
      "execution_count": 0,
      "outputs": [
        {
          "output_type": "execute_result",
          "data": {
            "text/html": [
              "<div>\n",
              "<style scoped>\n",
              "    .dataframe tbody tr th:only-of-type {\n",
              "        vertical-align: middle;\n",
              "    }\n",
              "\n",
              "    .dataframe tbody tr th {\n",
              "        vertical-align: top;\n",
              "    }\n",
              "\n",
              "    .dataframe thead th {\n",
              "        text-align: right;\n",
              "    }\n",
              "</style>\n",
              "<table border=\"1\" class=\"dataframe\">\n",
              "  <thead>\n",
              "    <tr style=\"text-align: right;\">\n",
              "      <th></th>\n",
              "      <th>users</th>\n",
              "      <th>movies</th>\n",
              "      <th>ratingsorig</th>\n",
              "      <th>ratings</th>\n",
              "    </tr>\n",
              "  </thead>\n",
              "  <tbody>\n",
              "    <tr>\n",
              "      <th>0</th>\n",
              "      <td>165.0</td>\n",
              "      <td>110</td>\n",
              "      <td>4.0</td>\n",
              "      <td>0.375862</td>\n",
              "    </tr>\n",
              "    <tr>\n",
              "      <th>1</th>\n",
              "      <td>165.0</td>\n",
              "      <td>249</td>\n",
              "      <td>4.0</td>\n",
              "      <td>0.375862</td>\n",
              "    </tr>\n",
              "    <tr>\n",
              "      <th>2</th>\n",
              "      <td>165.0</td>\n",
              "      <td>368</td>\n",
              "      <td>4.0</td>\n",
              "      <td>0.375862</td>\n",
              "    </tr>\n",
              "    <tr>\n",
              "      <th>3</th>\n",
              "      <td>165.0</td>\n",
              "      <td>377</td>\n",
              "      <td>4.0</td>\n",
              "      <td>0.375862</td>\n",
              "    </tr>\n",
              "    <tr>\n",
              "      <th>4</th>\n",
              "      <td>165.0</td>\n",
              "      <td>441</td>\n",
              "      <td>3.0</td>\n",
              "      <td>-0.624138</td>\n",
              "    </tr>\n",
              "    <tr>\n",
              "      <th>5</th>\n",
              "      <td>165.0</td>\n",
              "      <td>480</td>\n",
              "      <td>4.0</td>\n",
              "      <td>0.375862</td>\n",
              "    </tr>\n",
              "    <tr>\n",
              "      <th>6</th>\n",
              "      <td>165.0</td>\n",
              "      <td>592</td>\n",
              "      <td>4.0</td>\n",
              "      <td>0.375862</td>\n",
              "    </tr>\n",
              "    <tr>\n",
              "      <th>7</th>\n",
              "      <td>165.0</td>\n",
              "      <td>858</td>\n",
              "      <td>3.0</td>\n",
              "      <td>-0.624138</td>\n",
              "    </tr>\n",
              "    <tr>\n",
              "      <th>8</th>\n",
              "      <td>165.0</td>\n",
              "      <td>908</td>\n",
              "      <td>4.0</td>\n",
              "      <td>0.375862</td>\n",
              "    </tr>\n",
              "    <tr>\n",
              "      <th>9</th>\n",
              "      <td>165.0</td>\n",
              "      <td>1127</td>\n",
              "      <td>4.0</td>\n",
              "      <td>0.375862</td>\n",
              "    </tr>\n",
              "    <tr>\n",
              "      <th>10</th>\n",
              "      <td>165.0</td>\n",
              "      <td>1196</td>\n",
              "      <td>4.0</td>\n",
              "      <td>0.375862</td>\n",
              "    </tr>\n",
              "    <tr>\n",
              "      <th>11</th>\n",
              "      <td>165.0</td>\n",
              "      <td>1197</td>\n",
              "      <td>5.0</td>\n",
              "      <td>1.375862</td>\n",
              "    </tr>\n",
              "    <tr>\n",
              "      <th>12</th>\n",
              "      <td>165.0</td>\n",
              "      <td>1198</td>\n",
              "      <td>5.0</td>\n",
              "      <td>1.375862</td>\n",
              "    </tr>\n",
              "    <tr>\n",
              "      <th>13</th>\n",
              "      <td>165.0</td>\n",
              "      <td>1210</td>\n",
              "      <td>3.0</td>\n",
              "      <td>-0.624138</td>\n",
              "    </tr>\n",
              "    <tr>\n",
              "      <th>14</th>\n",
              "      <td>165.0</td>\n",
              "      <td>1221</td>\n",
              "      <td>3.0</td>\n",
              "      <td>-0.624138</td>\n",
              "    </tr>\n",
              "  </tbody>\n",
              "</table>\n",
              "</div>"
            ],
            "text/plain": [
              "    users  movies  ratingsorig   ratings\n",
              "0   165.0     110          4.0  0.375862\n",
              "1   165.0     249          4.0  0.375862\n",
              "2   165.0     368          4.0  0.375862\n",
              "3   165.0     377          4.0  0.375862\n",
              "4   165.0     441          3.0 -0.624138\n",
              "5   165.0     480          4.0  0.375862\n",
              "6   165.0     592          4.0  0.375862\n",
              "7   165.0     858          3.0 -0.624138\n",
              "8   165.0     908          4.0  0.375862\n",
              "9   165.0    1127          4.0  0.375862\n",
              "10  165.0    1196          4.0  0.375862\n",
              "11  165.0    1197          5.0  1.375862\n",
              "12  165.0    1198          5.0  1.375862\n",
              "13  165.0    1210          3.0 -0.624138\n",
              "14  165.0    1221          3.0 -0.624138"
            ]
          },
          "metadata": {
            "tags": []
          },
          "execution_count": 6
        }
      ]
    },
    {
      "cell_type": "markdown",
      "metadata": {
        "id": "5-QSB0fHmCWY",
        "colab_type": "text"
      },
      "source": [
        "### Question 3\n",
        "\n",
        "The dataframes `Y_with_NaNs` and `Y` contain the same information but organised in a different way. Explain what is the difference. We have also included two columns for ratings in dataframe `Y`, `ratingsorig` and `ratings`. Explain\n",
        "the difference. "
      ]
    },
    {
      "cell_type": "markdown",
      "metadata": {
        "id": "MhlkdrhmmCWZ",
        "colab_type": "text"
      },
      "source": [
        "#### Question 3 Answer\n",
        "\n",
        "Whereas Y_with_NaNs has a column for each user and a row for each film, resulting in a large number of NaN values in the DataFrame, Y contains a row for each rating instance, including the relevant information about each rating (which user rated the film, which film was rated, the rating given etc.). This approach is slightly more compact as there's now no NaNs in the DataFrame.\n",
        "\n",
        "`ratingsorig` is the original rating given to the film by the user, whereas `ratings` represents the rating given, minus the mean of all ratings given, which shows whether the rating assigned to the film is below or above average."
      ]
    },
    {
      "cell_type": "markdown",
      "metadata": {
        "id": "UPrX6kBQmCWa",
        "colab_type": "text"
      },
      "source": [
        "## Measuring Similarity\n",
        "\n",
        "We now need a measure for determining the similarity between the item and the user: how close the user is sitting to the item in the room if you like. We are going to use the inner product between the vector representing the item and the vector representing the user. \n",
        "\n",
        "An inner product (or [dot product](http://en.wikipedia.org/wiki/Dot_product)) between two vectors $\\mathbf{a}$ and $\\mathbf{b}$ is written as $\\mathbf{a}\\cdot\\mathbf{b}$. Or in vector notation we sometimes write it as $\\mathbf{a}^\\top\\mathbf{b}$. An inner product is simply the sum of the products of each element of the vector,\n",
        "$$\n",
        "\\mathbf{a}^\\top\\mathbf{b} = \\sum_{i} a_i b_i\n",
        "$$\n",
        "The inner product can be seen as a measure of similarity. The inner product gives us the cosine of the angle between the two vectors multiplied by their length. The smaller the angle between two vectors the larger the inner product. \n",
        "$$\n",
        "\\mathbf{a}^\\top\\mathbf{b} = |\\mathbf{a}||\\mathbf{b}| \\cos(\\theta)\n",
        "$$\n",
        "where $\\theta$ is the angle between two vectors and $|\\mathbf{a}|$ and $|\\mathbf{b}|$ are the respective lengths of the two vectors.\n",
        "\n",
        "Since we want each user to be sitting near each item, then we want the inner product to be large for any two items which are rated highly by that user. We can do this by trying to force the inner product $\\mathbf{u}_i^\\top\\mathbf{v}_j$ to be similar to the rating given by the user, $y_{i,j}$. To ensure this we will use a least squares objective function for all user ratings."
      ]
    },
    {
      "cell_type": "markdown",
      "metadata": {
        "id": "NuauhQzYmCWb",
        "colab_type": "text"
      },
      "source": [
        "## Objective Function\n",
        "\n",
        "The error function (or objective function, or cost function) we will choose is known as 'sum of squares', we will aim to minimize the sum of squared squared error between the inner product of $\\mathbf{u}_i$ and $\\mathbf{v}_i$ and the observed score for the user/item pairing, given by $y_{i, j}$. \n",
        "\n",
        "The total objective function can be written as\n",
        "$$\n",
        "E(\\mathbf{U}, \\mathbf{V}) = \\sum_{i,j} s_{i,j} (y_{i,j} - \\mathbf{u}_i^\\top \\mathbf{v}_j)^2\n",
        "$$\n",
        "where $s_{i,j}$ is an *indicator* variable that is 1 if user $i$ has rated item $j$ and is zero otherwise. Here $\\mathbf{U}$ is the matrix made up of all the vectors $\\mathbf{u}$,\n",
        "$$\n",
        "\\mathbf{U} = \\begin{bmatrix} \\mathbf{u}_1 \\dots \\mathbf{u}_n\\end{bmatrix}^\\top\n",
        "$$\n",
        "where we note that $i$th *row* of $\\mathbf{U}$ contains the vector associated with the $i$th user and $n$ is the total number of users. This form of matrix is known as a *design matrix*. Similarly, we define the matrix\n",
        "$$\n",
        "\\mathbf{V} = \\begin{bmatrix} \\mathbf{v}_1 \\dots \\mathbf{v}_m\\end{bmatrix}^\\top\n",
        "$$\n",
        "where again the $j$th row of $\\mathbf{V}$ contains the vector associated with the $j$th item and $m$ is the total number of items in the data set.\n",
        "\n",
        "## Objective Optimization\n",
        "\n",
        "The idea is to mimimize this objective. A standard, simple, technique for minimizing an objective is *gradient descent* or *steepest descent*. In gradient descent we simply choose to update each parameter in the model by subtracting a multiple of the objective function's gradient with respect to the parameters. So for a parameter $u_{i,j}$ from the matrix $\\mathbf{U}$ we would have an update as follows:\n",
        "$$\n",
        "u_{k,\\ell} \\leftarrow u_{k,\\ell} - \\eta \\frac{\\text{d} E(\\mathbf{U}, \\mathbf{V})}{\\text{d}u_{k,\\ell}} \n",
        "$$\n",
        "where $\\eta$ (which is pronounced *eta* in English) is a Greek letter representing the *learning rate*.  \n",
        "\n",
        "We can compute the gradient of the objective function with respect to $u_{k,\\ell}$ as\n",
        "$$\n",
        "\\frac{\\text{d}E(\\mathbf{U}, \\mathbf{V})}{\\text{d}u_{k,\\ell}} = -2 \\sum_j s_{k,j}v_{j,\\ell}(y_{k, j} - \\mathbf{u}_k^\\top\\mathbf{v}_{j}). \n",
        "$$\n",
        "Similarly each parameter $v_{i,j}$ needs to be updated according to its gradient. \n"
      ]
    },
    {
      "cell_type": "markdown",
      "metadata": {
        "id": "teIGcjwrmCWc",
        "colab_type": "text"
      },
      "source": [
        "### Question 4\n",
        "\n",
        "What is the gradient of the objective function with respect to $v_{k, \\ell}$? Write your answer in the box below, and explain which differentiation techniques you used to get there. "
      ]
    },
    {
      "cell_type": "markdown",
      "metadata": {
        "id": "2CQuouTwmCWd",
        "colab_type": "text"
      },
      "source": [
        "#### Question 4 Answer\n",
        "\n",
        "\\begin{equation} \\frac{dE(\\mathbf{U, V})}{dv_{k,l}}=-2\\sum_j s_{i,k}u_{i,l}(y_{i,k}-\\mathbf{u}_i^T\\mathbf{v}_k) \\end{equation}\n",
        "<br>\n",
        "This is obtained by using the chain rule. The derviative of the outer expression is taken (giving the factor of 2 and removing the power of 2) and this is multiplied by the derivative of the expression within the brackets, which gives the factor of -1 and the factor of $u_{i,l}$.\n",
        "\n",
        "It is implied in the full equation that $j=k$, hence the sums over $j$ disappear. "
      ]
    },
    {
      "cell_type": "markdown",
      "metadata": {
        "id": "hwlDs2qSmCWh",
        "colab_type": "text"
      },
      "source": [
        "## Steepest Descent Algorithm\n",
        "\n",
        "In the steepest descent algorithm we aim to minimize the objective function by subtacting the gradient of the objective function from the parameters. \n",
        "\n",
        "### Initialisation\n",
        "\n",
        "To start with though, we need initial values for the matrix $\\mathbf{U}$ and the matrix $\\mathbf{V}$. Let's create them as `pandas` data frames and initialise them randomly with small values."
      ]
    },
    {
      "cell_type": "code",
      "metadata": {
        "id": "izhHFPkZmCWi",
        "colab_type": "code",
        "colab": {}
      },
      "source": [
        "q = 2 # the dimension of our map of the 'library'\n",
        "learn_rate = 0.01\n",
        "U = pd.DataFrame(np.random.normal(size=(nUsersInExample, q))*0.001, index=my_batch_users)\n",
        "V = pd.DataFrame(np.random.normal(size=(n_movies, q))*0.001, index=indexes_unique_movies)"
      ],
      "execution_count": 0,
      "outputs": []
    },
    {
      "cell_type": "markdown",
      "metadata": {
        "id": "bfCaOkH0mCWn",
        "colab_type": "text"
      },
      "source": [
        "Now that we have the initial values set, we can start the optimization. First we define a function for the gradient of the objective and the objective function itself."
      ]
    },
    {
      "cell_type": "code",
      "metadata": {
        "id": "4Q0HIxKkmCWo",
        "colab_type": "code",
        "colab": {}
      },
      "source": [
        "def objective_gradient(Y, U, V):\n",
        "    gU = pd.DataFrame(np.zeros((U.shape)), index=U.index)\n",
        "    gV = pd.DataFrame(np.zeros((V.shape)), index=V.index)\n",
        "    obj = 0.\n",
        "    nrows = Y.shape[0]\n",
        "    for i in range(nrows):\n",
        "        row = Y.iloc[i]\n",
        "        user = row['users']\n",
        "        film = row['movies']\n",
        "        rating = row['ratings']\n",
        "        prediction = np.dot(U.loc[user], V.loc[film]) # vTu\n",
        "        diff = prediction - rating # vTu - y\n",
        "        obj += diff*diff\n",
        "        gU.loc[user] += 2*diff*V.loc[film]\n",
        "        gV.loc[film] += 2*diff*U.loc[user]\n",
        "    return obj, gU, gV"
      ],
      "execution_count": 0,
      "outputs": []
    },
    {
      "cell_type": "markdown",
      "metadata": {
        "id": "AyhATjkgmCWs",
        "colab_type": "text"
      },
      "source": [
        "Now we can write our simple optimisation route. This allows us to observe the objective function as the optimization proceeds."
      ]
    },
    {
      "cell_type": "code",
      "metadata": {
        "id": "Q-quWBlRmCWt",
        "colab_type": "code",
        "outputId": "7d48d8d3-c0bf-44f8-8ed3-9fef6efb3102",
        "colab": {
          "base_uri": "https://localhost:8080/",
          "height": 357
        }
      },
      "source": [
        "iterations = 20\n",
        "for i in range(iterations):\n",
        "    obj, gU, gV = objective_gradient(Y, U, V)\n",
        "    print(\"Iteration\", i, \"Objective function: \", obj)\n",
        "    U -= learn_rate*gU\n",
        "    V -= learn_rate*gV    "
      ],
      "execution_count": 0,
      "outputs": [
        {
          "output_type": "stream",
          "text": [
            "Iteration 0 Objective function:  1159.1241491857415\n",
            "Iteration 1 Objective function:  1159.1240396476132\n",
            "Iteration 2 Objective function:  1159.123920339925\n",
            "Iteration 3 Objective function:  1159.1237484770427\n",
            "Iteration 4 Objective function:  1159.1234663500807\n",
            "Iteration 5 Objective function:  1159.122975818163\n",
            "Iteration 6 Objective function:  1159.1220982598068\n",
            "Iteration 7 Objective function:  1159.1205023520936\n",
            "Iteration 8 Objective function:  1159.11756940713\n",
            "Iteration 9 Objective function:  1159.1121402223268\n",
            "Iteration 10 Objective function:  1159.102037928917\n",
            "Iteration 11 Objective function:  1159.0831673821904\n",
            "Iteration 12 Objective function:  1159.0478135807055\n",
            "Iteration 13 Objective function:  1158.9814242533134\n",
            "Iteration 14 Objective function:  1158.8565230943102\n",
            "Iteration 15 Objective function:  1158.6211934838252\n",
            "Iteration 16 Objective function:  1158.1773030814165\n",
            "Iteration 17 Objective function:  1157.3394112480473\n",
            "Iteration 18 Objective function:  1155.7575718298222\n",
            "Iteration 19 Objective function:  1152.7736620450437\n"
          ],
          "name": "stdout"
        }
      ]
    },
    {
      "cell_type": "markdown",
      "metadata": {
        "id": "TkjhA4LZmCWw",
        "colab_type": "text"
      },
      "source": [
        "### Question 5\n",
        "\n",
        "What happens as you increase the number of iterations? What happens if you increase the learning rate?"
      ]
    },
    {
      "cell_type": "markdown",
      "metadata": {
        "id": "LD34bNuGmCWx",
        "colab_type": "text"
      },
      "source": [
        "#### Question 5 Answer\n",
        "\n",
        "With an increased learning rate, we see much larger jumps in the value of the objective function, as we are taking larger steps in the direction of the gradient.\n",
        "\n",
        "As we increase the number of iterations, we get closer to the optimal parameters as we are allowing the gradient descent algorithm to take more steps towards the global minimum. We know that this is happening as the value of the objective function is an order of magnitude lower by iteration 40 than it was at the start of the training process."
      ]
    },
    {
      "cell_type": "code",
      "metadata": {
        "id": "LVN0D58SmCWy",
        "colab_type": "code",
        "outputId": "15d8d10d-e9cb-46cd-9bd2-e44f252d874b",
        "colab": {
          "base_uri": "https://localhost:8080/",
          "height": 323
        }
      },
      "source": [
        "# Question 5 Code Answer\n",
        "\n",
        "print('10 iterations w/ LR increased up to 0.03\\n')\n",
        "\n",
        "q = 2 # the dimension of our map of the 'library'\n",
        "learn_rate = 0.03\n",
        "U = pd.DataFrame(np.random.normal(size=(nUsersInExample, q))*0.001, index=my_batch_users)\n",
        "V = pd.DataFrame(np.random.normal(size=(n_movies, q))*0.001, index=indexes_unique_movies)\n",
        "\n",
        "iterations = 10\n",
        "for i in range(iterations):\n",
        "    obj, gU, gV = objective_gradient(Y, U, V)\n",
        "    if i%2:\n",
        "        print(\"Iteration\", i, \"Objective function: \", obj)\n",
        "    U -= learn_rate*gU\n",
        "    V -= learn_rate*gV  \n",
        "    \n",
        "print('\\nIncreased no. of iterations w/ LR = 0.02:\\n')\n",
        "\n",
        "q = 2 # the dimension of our map of the 'library'\n",
        "learn_rate = 0.02\n",
        "U = pd.DataFrame(np.random.normal(size=(nUsersInExample, q))*0.001, index=my_batch_users)\n",
        "V = pd.DataFrame(np.random.normal(size=(n_movies, q))*0.001, index=indexes_unique_movies)\n",
        "\n",
        "iterations = 40\n",
        "for i in range(iterations):\n",
        "    obj, gU, gV = objective_gradient(Y, U, V)\n",
        "    if i%5 == 0:\n",
        "        print(\"Iteration\", i, \"Objective function: \", obj)\n",
        "    U -= learn_rate*gU\n",
        "    V -= learn_rate*gV  "
      ],
      "execution_count": 0,
      "outputs": [
        {
          "output_type": "stream",
          "text": [
            "10 iterations w/ LR increased up to 0.03\n",
            "\n",
            "Iteration 1 Objective function:  1159.1233198983316\n",
            "Iteration 3 Objective function:  1159.108601678499\n",
            "Iteration 5 Objective function:  1158.8255068290116\n",
            "Iteration 7 Objective function:  1153.3250701289116\n",
            "Iteration 9 Objective function:  1055.9211080629414\n",
            "\n",
            "Increased no. of iterations w/ LR = 0.02:\n",
            "\n",
            "Iteration 0 Objective function:  1159.1241761470026\n",
            "Iteration 5 Objective function:  1159.1156364076708\n",
            "Iteration 10 Objective function:  1156.936800867458\n",
            "Iteration 15 Objective function:  746.353863700044\n",
            "Iteration 20 Objective function:  361.126657550301\n",
            "Iteration 25 Objective function:  254.18489508539454\n",
            "Iteration 30 Objective function:  160.69823569914803\n",
            "Iteration 35 Objective function:  108.95270560171576\n"
          ],
          "name": "stdout"
        }
      ]
    },
    {
      "cell_type": "markdown",
      "metadata": {
        "id": "JnAm8hQZmCW1",
        "colab_type": "text"
      },
      "source": [
        "## Making Predictions\n",
        "\n",
        "Predictions can be made from the model of the appropriate rating for a given user, $i$, for a given film, $j$, by simply taking the inner product between their vectors $\\mathbf{u}_i$ and $\\mathbf{v}_j$. "
      ]
    },
    {
      "cell_type": "markdown",
      "metadata": {
        "id": "PH-IjzSpmCW2",
        "colab_type": "text"
      },
      "source": [
        "### Question 6\n",
        "\n",
        "Create a function that provides the prediction of the ratings for the users in the dataset. Is the quality of the predictions affected by the number of iterations or the learning rate? The function should receive `Y`, `U` and `V` and return the predictions and the absolute error between the predictions and the actual rating given by the users. The predictions and the absolute error should be added as additional columns to the dataframe `Y`."
      ]
    },
    {
      "cell_type": "code",
      "metadata": {
        "id": "vCDbrts3mCW3",
        "colab_type": "code",
        "outputId": "78901751-1495-4f50-febe-77c8a54af7b9",
        "colab": {
          "base_uri": "https://localhost:8080/",
          "height": 204
        }
      },
      "source": [
        "# Question 6 Code Answer\n",
        "\n",
        "pd.options.mode.chained_assignment = None  # default='warn'\n",
        "\n",
        "def prediction_error(Y, U, V):\n",
        "    Y['Model Prediction'] = np.nan\n",
        "    Y['Absolute Error'] = np.nan\n",
        "    for i in range(Y.shape[0]):\n",
        "        row = Y.iloc[i]\n",
        "        user = row['users']\n",
        "        film = row['movies']\n",
        "        rating = row['ratings']\n",
        "        row['Model Prediction'] = np.dot(U.loc[user], V.loc[film])\n",
        "        row['Absolute Error'] = abs(row['Model Prediction'] - rating)\n",
        "        Y.iloc[i] = row\n",
        "    return Y\n",
        "\n",
        "Y_preds = prediction_error(Y, U, V)\n",
        "Y_preds.head()"
      ],
      "execution_count": 0,
      "outputs": [
        {
          "output_type": "execute_result",
          "data": {
            "text/html": [
              "<div>\n",
              "<style scoped>\n",
              "    .dataframe tbody tr th:only-of-type {\n",
              "        vertical-align: middle;\n",
              "    }\n",
              "\n",
              "    .dataframe tbody tr th {\n",
              "        vertical-align: top;\n",
              "    }\n",
              "\n",
              "    .dataframe thead th {\n",
              "        text-align: right;\n",
              "    }\n",
              "</style>\n",
              "<table border=\"1\" class=\"dataframe\">\n",
              "  <thead>\n",
              "    <tr style=\"text-align: right;\">\n",
              "      <th></th>\n",
              "      <th>users</th>\n",
              "      <th>movies</th>\n",
              "      <th>ratingsorig</th>\n",
              "      <th>ratings</th>\n",
              "      <th>Model Prediction</th>\n",
              "      <th>Absolute Error</th>\n",
              "    </tr>\n",
              "  </thead>\n",
              "  <tbody>\n",
              "    <tr>\n",
              "      <th>0</th>\n",
              "      <td>165.0</td>\n",
              "      <td>110.0</td>\n",
              "      <td>4.0</td>\n",
              "      <td>0.375862</td>\n",
              "      <td>0.012057</td>\n",
              "      <td>0.363805</td>\n",
              "    </tr>\n",
              "    <tr>\n",
              "      <th>1</th>\n",
              "      <td>165.0</td>\n",
              "      <td>249.0</td>\n",
              "      <td>4.0</td>\n",
              "      <td>0.375862</td>\n",
              "      <td>0.295771</td>\n",
              "      <td>0.080091</td>\n",
              "    </tr>\n",
              "    <tr>\n",
              "      <th>2</th>\n",
              "      <td>165.0</td>\n",
              "      <td>368.0</td>\n",
              "      <td>4.0</td>\n",
              "      <td>0.375862</td>\n",
              "      <td>-0.169416</td>\n",
              "      <td>0.545278</td>\n",
              "    </tr>\n",
              "    <tr>\n",
              "      <th>3</th>\n",
              "      <td>165.0</td>\n",
              "      <td>377.0</td>\n",
              "      <td>4.0</td>\n",
              "      <td>0.375862</td>\n",
              "      <td>0.222492</td>\n",
              "      <td>0.153370</td>\n",
              "    </tr>\n",
              "    <tr>\n",
              "      <th>4</th>\n",
              "      <td>165.0</td>\n",
              "      <td>441.0</td>\n",
              "      <td>3.0</td>\n",
              "      <td>-0.624138</td>\n",
              "      <td>-0.493080</td>\n",
              "      <td>0.131058</td>\n",
              "    </tr>\n",
              "  </tbody>\n",
              "</table>\n",
              "</div>"
            ],
            "text/plain": [
              "   users  movies  ratingsorig   ratings  Model Prediction  Absolute Error\n",
              "0  165.0   110.0          4.0  0.375862          0.012057        0.363805\n",
              "1  165.0   249.0          4.0  0.375862          0.295771        0.080091\n",
              "2  165.0   368.0          4.0  0.375862         -0.169416        0.545278\n",
              "3  165.0   377.0          4.0  0.375862          0.222492        0.153370\n",
              "4  165.0   441.0          3.0 -0.624138         -0.493080        0.131058"
            ]
          },
          "metadata": {
            "tags": []
          },
          "execution_count": 11
        }
      ]
    },
    {
      "cell_type": "markdown",
      "metadata": {
        "id": "Pkx4aSNBmCW5",
        "colab_type": "text"
      },
      "source": [
        "## Stochastic Gradient Descent or Robbins Monroe Algorithm\n",
        "\n",
        "Stochastic gradient descent involves updating separating each gradient update according to each separate observation, rather than summing over them all. It is an approximate optimization method, but it has proven convergence under certain conditions and can be much faster in practice. It is used widely by internet companies for doing machine learning in practice. For example, Facebook's ad ranking algorithm uses stochastic gradient descent. "
      ]
    },
    {
      "cell_type": "markdown",
      "metadata": {
        "id": "VV4gBjv5mCW6",
        "colab_type": "text"
      },
      "source": [
        "### Question 7\n",
        "\n",
        "Create a stochastic gradient descent version of the algorithm. Monitor the objective function after every 1000 updates to ensure that it is decreasing. When you have finished, plot the movie map and the user map in two dimensions (you can use the columns of the matrices $\\mathbf{U}$ for the user map and the columns of $\\mathbf{V}$ for the movie map). Provide three observations about these maps.\n",
        "\n",
        "**Note -** This is a *truly* stochastic implementation of gradient descent, as we are choosing an example from the training set at random for each iteration. In practice, stochastic gradient descent is usually implemented by shuffling the dataset, and then cycling through the training set one instance at a time until all weights have been updated, then shuffling and starting again; this method ensures every instance is getting updated an equal amount of times so increases the rate of convergence and speeds up computation."
      ]
    },
    {
      "cell_type": "code",
      "metadata": {
        "id": "yd_l1JtkmCW7",
        "colab_type": "code",
        "outputId": "caa07783-2901-4f6e-c2a4-aa868da7613e",
        "colab": {
          "base_uri": "https://localhost:8080/",
          "height": 357
        }
      },
      "source": [
        "# Question 7 Code Answer\n",
        "\n",
        "q = 2 # the dimension of our map of the 'library'\n",
        "learn_rate = 0.03\n",
        "U = pd.DataFrame(np.random.normal(size=(nUsersInExample, q))*0.001, index=my_batch_users)\n",
        "V = pd.DataFrame(np.random.normal(size=(n_movies, q))*0.001, index=indexes_unique_movies)\n",
        "\n",
        "def stochastic_objective_gradient(Y, U, V):\n",
        "    gU = pd.DataFrame(np.zeros((U.shape)), index=U.index)\n",
        "    gV = pd.DataFrame(np.zeros((V.shape)), index=V.index)\n",
        "    rand_row = np.random.randint(Y.shape[0])\n",
        "    row = Y.iloc[rand_row] # randomly select a row from Y\n",
        "    user = row['users']\n",
        "    film = row['movies']\n",
        "    rating = row['ratings']\n",
        "    prediction = np.dot(U.loc[user], V.loc[film])\n",
        "    diff = prediction - rating\n",
        "    obj = diff*diff\n",
        "    gU.loc[user] += 2*diff*V.loc[film]\n",
        "    gV.loc[film] += 2*diff*U.loc[user]\n",
        "    U.loc[user] -= learn_rate*gU.loc[user]\n",
        "    V.loc[film] -= learn_rate*gV.loc[film]\n",
        "    return obj, gU, gV, U, V\n",
        "\n",
        "iterations = 20000\n",
        "for i in range(iterations):\n",
        "    obj, gU, gV, U, V = stochastic_objective_gradient(Y, U, V)\n",
        "    if i%1000 == 0:\n",
        "        overall_obj = 0\n",
        "        for j in range(Y.shape[0]):\n",
        "            row = Y.iloc[j]\n",
        "            rating = row['ratings']\n",
        "            user = row['users']\n",
        "            film = row['movies']\n",
        "            prediction = np.dot(U.loc[user], V.loc[film])\n",
        "            diff = prediction - rating\n",
        "            overall_obj += diff*diff\n",
        "        print(\"Iteration\", i, \"Objective function: \", overall_obj)"
      ],
      "execution_count": 0,
      "outputs": [
        {
          "output_type": "stream",
          "text": [
            "Iteration 0 Objective function:  1159.1242623691687\n",
            "Iteration 1000 Objective function:  1159.1239483577215\n",
            "Iteration 2000 Objective function:  1159.1231451707094\n",
            "Iteration 3000 Objective function:  1159.1203561538175\n",
            "Iteration 4000 Objective function:  1159.1054585888112\n",
            "Iteration 5000 Objective function:  1159.0274233083067\n",
            "Iteration 6000 Objective function:  1158.547768480931\n",
            "Iteration 7000 Objective function:  1154.0219998115483\n",
            "Iteration 8000 Objective function:  1124.0362764637136\n",
            "Iteration 9000 Objective function:  1013.7702941564578\n",
            "Iteration 10000 Objective function:  725.8256658702761\n",
            "Iteration 11000 Objective function:  522.482297850286\n",
            "Iteration 12000 Objective function:  395.28184302575715\n",
            "Iteration 13000 Objective function:  324.89369781866134\n",
            "Iteration 14000 Objective function:  259.97619080676503\n",
            "Iteration 15000 Objective function:  235.63594174927647\n",
            "Iteration 16000 Objective function:  218.06310651801732\n",
            "Iteration 17000 Objective function:  198.8403314367362\n",
            "Iteration 18000 Objective function:  181.30482804367279\n",
            "Iteration 19000 Objective function:  172.9400926903221\n"
          ],
          "name": "stdout"
        }
      ]
    },
    {
      "cell_type": "code",
      "metadata": {
        "id": "g8N8cJE4y5oJ",
        "colab_type": "code",
        "outputId": "23c716f6-240a-4f5a-98f1-6e9ffee9d9b6",
        "colab": {
          "base_uri": "https://localhost:8080/",
          "height": 545
        }
      },
      "source": [
        "import matplotlib.pyplot as plt\n",
        "\n",
        "plt.scatter(x=U.iloc[:, 0], y=U.iloc[:, 1])\n",
        "plt.title('User Map')\n",
        "plt.show()\n",
        "\n",
        "plt.scatter(x=V.iloc[:, 0], y=V.iloc[:, 1])\n",
        "plt.title('Film Map')\n",
        "plt.show()"
      ],
      "execution_count": 0,
      "outputs": [
        {
          "output_type": "display_data",
          "data": {
            "image/png": "[encoded data removed]",
            "text/plain": [
              "<Figure size 432x288 with 1 Axes>"
            ]
          },
          "metadata": {
            "tags": []
          }
        },
        {
          "output_type": "display_data",
          "data": {
            "image/png": "[encoded data removed]",
            "text/plain": [
              "<Figure size 432x288 with 1 Axes>"
            ]
          },
          "metadata": {
            "tags": []
          }
        }
      ]
    },
    {
      "cell_type": "markdown",
      "metadata": {
        "id": "10dh8EyyzyFT",
        "colab_type": "text"
      },
      "source": [
        "With the maps, we see that although it's difficult to say with a sample size of 10 users, the users are fairly spread out in feature space, whereas many of the films are clustered around zero. Also, the user vectors $(x_1, x_2)$ lie in the range $-3 < x_1 < 2$ and $-1 < x_2 < 3$ whereas the film vectors all lie within the range $-1 < x_1, x_2 < +1$. Finally, with the films, we do seem to see smaller subclusters of films, which likely denote titles within the same genre or series."
      ]
    },
    {
      "cell_type": "markdown",
      "metadata": {
        "id": "vYqyjbqdmCW-",
        "colab_type": "text"
      },
      "source": [
        "## Is Our Map Enough? Are Our Data Enough?\n",
        "\n",
        "Is two dimensions really enough to capture the complexity of humans and their artforms? Perhaps we need even more dimensions to capture that complexity. Extending our books analogy further, consider how we should place books that have a historical timeframe as well as some geographical location. Do we really want books from the 2nd World War to sit alongside books from the Roman Empire? Books on the American invasion of Sicily in 1943 are perhaps less related to books about Carthage than those that study the Jewish Revolt from 66-70 (in the Roman Province of Judaea). So books that relate to subjects which are closer in time should be stored together. However, a student of rebellion against empire may also be interested in the relationship between the Jewish Revolt of 66-70 and the Indian Rebellion of 1857, nearly 1800 years later. Whilst the technologies are different, the psychology of the people is shared: a rebellious nation angainst their imperial masters, triggered by misrule with a religious and cultural background. To capture such complexities we would need further dimensions in our latent representation. But are further dimensions justified by the amount of data we have? Can we really understand the facets of a film that only has at most three or four ratings?"
      ]
    },
    {
      "cell_type": "markdown",
      "metadata": {
        "id": "KDf_qIQtmCW_",
        "colab_type": "text"
      },
      "source": [
        "## Going Further\n",
        "\n",
        "If you want to take this model further then you'll need more data. You can use again the MovieLens 100k data but increasing the number of users (for example, for the Steepest Descent Algorithm you can do this by modifying the variable `nUsersInExample` that was set as 10 before)."
      ]
    },
    {
      "cell_type": "markdown",
      "metadata": {
        "id": "TcQf3nUDmCXA",
        "colab_type": "text"
      },
      "source": [
        "### Question 8\n",
        "\n",
        "Use stochastic gradient descent to make a movie map for the MovieLens 100k data. Plot the map of the movies when you are finished.\n",
        "\n",
        "Firstly, reusing the code from earlier to load in the data:"
      ]
    },
    {
      "cell_type": "code",
      "metadata": {
        "id": "bpK6HkTlmCXB",
        "colab_type": "code",
        "colab": {}
      },
      "source": [
        "# Code for question 8 here.\n",
        "\n",
        "YourStudentID = 999  # Include here the last three digits of your UCard number\n",
        "nUsersInExample = 200 # The maximum number of Users we're going to analyse at one time\n",
        "\n",
        "ratings = pd.read_csv(\"./ml-latest-small/ratings.csv\") \n",
        "\"\"\"\n",
        "ratings is a DataFrame with four columns: userId, movieId, rating and tags. We\n",
        "first want to identify how many unique users there are. We can use the unique \n",
        "method in pandas\n",
        "\"\"\"\n",
        "indexes_unique_users = ratings['userId'].unique()\n",
        "n_users = indexes_unique_users.shape[0]\n",
        "\"\"\" \n",
        "We randomly select 'nUsers' users with their ratings. We first fix the seed\n",
        "of the random generator to make sure that we always get the same 'nUsers'\n",
        "\"\"\"\n",
        "np.random.seed(YourStudentID)\n",
        "indexes_users = np.random.permutation(n_users)\n",
        "my_batch_users = indexes_users[0:nUsersInExample]\n",
        "\"\"\"\n",
        "We will use now the list of 'my_batch_users' to create a matrix Y. \n",
        "\"\"\"\n",
        "# We need to make a list of the movies that these users have watched\n",
        "list_movies_each_user = [[] for _ in range(nUsersInExample)]\n",
        "list_ratings_each_user = [[] for _ in range(nUsersInExample)]\n",
        "# Movies\n",
        "list_movies = ratings['movieId'][ratings['userId'] == my_batch_users[0]].values\n",
        "list_movies_each_user[0] = list_movies                    \n",
        "# Ratings                      \n",
        "list_ratings = ratings['rating'][ratings['userId'] == my_batch_users[0]].values\n",
        "list_ratings_each_user[0] = list_ratings\n",
        "# Users\n",
        "n_each_user = list_movies.shape[0]\n",
        "list_users = my_batch_users[0]*np.ones((1, n_each_user))\n",
        "\n",
        "for i in range(1, nUsersInExample):\n",
        "    # Movies\n",
        "    local_list_per_user_movies = ratings['movieId'][ratings['userId'] == my_batch_users[i]].values\n",
        "    list_movies_each_user[i] = local_list_per_user_movies\n",
        "    list_movies = np.append(list_movies,local_list_per_user_movies)\n",
        "    # Ratings                                 \n",
        "    local_list_per_user_ratings = ratings['rating'][ratings['userId'] == my_batch_users[i]].values\n",
        "    list_ratings_each_user[i] = local_list_per_user_ratings\n",
        "    list_ratings = np.append(list_ratings, local_list_per_user_ratings)  \n",
        "    # Users                                   \n",
        "    n_each_user = local_list_per_user_movies.shape[0]                                                                               \n",
        "    local_rep_user =  my_batch_users[i]*np.ones((1, n_each_user))    \n",
        "    list_users = np.append(list_users, local_rep_user)\n",
        "    \n",
        "# Let us first see how many unique movies have been rated\n",
        "indexes_unique_movies = np.unique(list_movies)\n",
        "n_movies = indexes_unique_movies.shape[0]\n",
        "# As it is expected no all users have rated all movies. We will build a matrix Y \n",
        "# with NaN inputs and fill according to the data for each user \n",
        "temp = np.empty((n_movies,nUsersInExample,))\n",
        "temp[:] = np.nan\n",
        "Y_with_NaNs = pd.DataFrame(temp)\n",
        "for i in range(nUsersInExample):\n",
        " local_movies = list_movies_each_user[i]\n",
        " ixs = np.in1d(indexes_unique_movies, local_movies)\n",
        " Y_with_NaNs.loc[ixs, i] = list_ratings_each_user[i]\n",
        "\n",
        "Y_with_NaNs.index = indexes_unique_movies.tolist()\n",
        "Y_with_NaNs.columns = my_batch_users.tolist()\n",
        "p_list_ratings = np.concatenate(list_ratings_each_user).ravel()\n",
        "p_list_ratings_original = p_list_ratings.tolist()\n",
        "mean_ratings_train = np.mean(p_list_ratings)\n",
        "p_list_ratings =  p_list_ratings - mean_ratings_train # remove the mean\n",
        "p_list_movies = np.concatenate(list_movies_each_user).ravel().tolist()\n",
        "p_list_users = list_users.tolist()\n",
        "Y = pd.DataFrame({'users': p_list_users, 'movies': p_list_movies, 'ratingsorig': p_list_ratings_original,'ratings':p_list_ratings.tolist()})"
      ],
      "execution_count": 0,
      "outputs": []
    },
    {
      "cell_type": "markdown",
      "metadata": {
        "id": "TD8AqUtk2_i0",
        "colab_type": "text"
      },
      "source": [
        "Now, we apply the stochastic gradient descent algorithm from earlier to the new data:"
      ]
    },
    {
      "cell_type": "code",
      "metadata": {
        "id": "oPMKVZgH2_uR",
        "colab_type": "code",
        "outputId": "8d76e211-00b5-4589-e785-043290f869fa",
        "colab": {
          "base_uri": "https://localhost:8080/",
          "height": 1000
        }
      },
      "source": [
        "q = 2 # the dimension of our map of the 'library'\n",
        "learn_rate = 0.05\n",
        "U = pd.DataFrame(np.random.normal(size=(nUsersInExample, q))*0.001, index=my_batch_users)\n",
        "V = pd.DataFrame(np.random.normal(size=(n_movies, q))*0.001, index=indexes_unique_movies)\n",
        "\n",
        "iterations = 200000\n",
        "for i in range(iterations):\n",
        "    obj, gU, gV, U, V = stochastic_objective_gradient(Y, U, V)\n",
        "    if i%1000 == 0:\n",
        "        overall_obj = 0\n",
        "        for j in range(Y.shape[0]):\n",
        "            row = Y.iloc[j]\n",
        "            rating = row['ratings']\n",
        "            user = row['users']\n",
        "            film = row['movies']\n",
        "            prediction = np.dot(U.loc[user], V.loc[film])\n",
        "            diff = prediction - rating\n",
        "            overall_obj += diff*diff\n",
        "        if overall_obj < 1000:\n",
        "            break\n",
        "        print(\"Iteration\", i, \"Objective function: \", overall_obj)"
      ],
      "execution_count": 0,
      "outputs": [
        {
          "output_type": "stream",
          "text": [
            "Iteration 0 Objective function:  33142.259675279536\n",
            "Iteration 1000 Objective function:  33142.25842384552\n",
            "Iteration 2000 Objective function:  33142.25775470078\n",
            "Iteration 3000 Objective function:  33142.25633667253\n",
            "Iteration 4000 Objective function:  33142.25462821924\n",
            "Iteration 5000 Objective function:  33142.25263769529\n",
            "Iteration 6000 Objective function:  33142.24979722175\n",
            "Iteration 7000 Objective function:  33142.245873206535\n",
            "Iteration 8000 Objective function:  33142.241046868876\n",
            "Iteration 9000 Objective function:  33142.23489716772\n",
            "Iteration 10000 Objective function:  33142.22680637346\n",
            "Iteration 11000 Objective function:  33142.21840790354\n",
            "Iteration 12000 Objective function:  33142.2023823844\n",
            "Iteration 13000 Objective function:  33142.18165353034\n",
            "Iteration 14000 Objective function:  33142.15520380117\n",
            "Iteration 15000 Objective function:  33142.124224818544\n",
            "Iteration 16000 Objective function:  33142.07796609285\n",
            "Iteration 17000 Objective function:  33142.01704580958\n",
            "Iteration 18000 Objective function:  33141.94090144312\n",
            "Iteration 19000 Objective function:  33141.831186639756\n",
            "Iteration 20000 Objective function:  33141.71266633023\n",
            "Iteration 21000 Objective function:  33141.52674879973\n",
            "Iteration 22000 Objective function:  33141.202547854366\n",
            "Iteration 23000 Objective function:  33140.82837828715\n",
            "Iteration 24000 Objective function:  33140.192199715646\n",
            "Iteration 25000 Objective function:  33139.46519772626\n",
            "Iteration 26000 Objective function:  33138.59718004322\n",
            "Iteration 27000 Objective function:  33137.63056502381\n",
            "Iteration 28000 Objective function:  33135.74839698564\n",
            "Iteration 29000 Objective function:  33133.349887310666\n",
            "Iteration 30000 Objective function:  33130.51929855186\n",
            "Iteration 31000 Objective function:  33125.61812648214\n",
            "Iteration 32000 Objective function:  33118.819449200375\n",
            "Iteration 33000 Objective function:  33109.35939250309\n",
            "Iteration 34000 Objective function:  33095.19222458917\n",
            "Iteration 35000 Objective function:  33073.7707734142\n",
            "Iteration 36000 Objective function:  33051.223692195854\n",
            "Iteration 37000 Objective function:  33019.266896030116\n",
            "Iteration 38000 Objective function:  32976.141525965904\n",
            "Iteration 39000 Objective function:  32903.56641852062\n",
            "Iteration 40000 Objective function:  32849.63401758448\n",
            "Iteration 41000 Objective function:  32746.120344664836\n",
            "Iteration 42000 Objective function:  32613.92309979931\n",
            "Iteration 43000 Objective function:  32465.03571243259\n",
            "Iteration 44000 Objective function:  32292.550468530808\n",
            "Iteration 45000 Objective function:  32002.89058834203\n",
            "Iteration 46000 Objective function:  31802.441657691616\n",
            "Iteration 47000 Objective function:  31532.96202870045\n",
            "Iteration 48000 Objective function:  31156.539527847195\n",
            "Iteration 49000 Objective function:  30810.50072489459\n",
            "Iteration 50000 Objective function:  30507.76889423895\n",
            "Iteration 51000 Objective function:  30097.485543618077\n",
            "Iteration 52000 Objective function:  29796.883510214142\n",
            "Iteration 53000 Objective function:  29485.45836868433\n",
            "Iteration 54000 Objective function:  29183.374680981335\n",
            "Iteration 55000 Objective function:  28950.999728994244\n",
            "Iteration 56000 Objective function:  28707.90501358674\n",
            "Iteration 57000 Objective function:  28438.931276484036\n",
            "Iteration 58000 Objective function:  28239.365694959666\n",
            "Iteration 59000 Objective function:  27985.127002976737\n",
            "Iteration 60000 Objective function:  27761.295631893532\n",
            "Iteration 61000 Objective function:  27586.387675953127\n",
            "Iteration 62000 Objective function:  27363.867442601168\n",
            "Iteration 63000 Objective function:  27208.54964212149\n",
            "Iteration 64000 Objective function:  26942.811643681776\n",
            "Iteration 65000 Objective function:  26929.9466249599\n",
            "Iteration 66000 Objective function:  26696.334512036476\n",
            "Iteration 67000 Objective function:  26468.61245385426\n",
            "Iteration 68000 Objective function:  26227.909932066144\n",
            "Iteration 69000 Objective function:  26038.33677465706\n",
            "Iteration 70000 Objective function:  25892.218718891418\n",
            "Iteration 71000 Objective function:  25679.87857379091\n",
            "Iteration 72000 Objective function:  25531.1446399801\n",
            "Iteration 73000 Objective function:  25505.560539332007\n",
            "Iteration 74000 Objective function:  25302.814400464562\n",
            "Iteration 75000 Objective function:  25175.114095642624\n",
            "Iteration 76000 Objective function:  25046.128523865824\n",
            "Iteration 77000 Objective function:  24975.475143702013\n",
            "Iteration 78000 Objective function:  24877.97310085363\n",
            "Iteration 79000 Objective function:  24715.39057501757\n",
            "Iteration 80000 Objective function:  24588.758578047797\n",
            "Iteration 81000 Objective function:  24494.253283059872\n",
            "Iteration 82000 Objective function:  24272.102596871056\n",
            "Iteration 83000 Objective function:  24262.709023970398\n",
            "Iteration 84000 Objective function:  24253.35957075058\n",
            "Iteration 85000 Objective function:  24063.884314063893\n",
            "Iteration 86000 Objective function:  23920.007915381815\n",
            "Iteration 87000 Objective function:  23778.160260167246\n",
            "Iteration 88000 Objective function:  23660.33837536951\n",
            "Iteration 89000 Objective function:  23612.624702154433\n",
            "Iteration 90000 Objective function:  23458.145058665752\n",
            "Iteration 91000 Objective function:  23340.279500205044\n",
            "Iteration 92000 Objective function:  23326.622158734834\n",
            "Iteration 93000 Objective function:  23128.649224760815\n",
            "Iteration 94000 Objective function:  23169.42820590041\n",
            "Iteration 95000 Objective function:  23045.213742266616\n",
            "Iteration 96000 Objective function:  22922.174465150772\n",
            "Iteration 97000 Objective function:  22729.291909243922\n",
            "Iteration 98000 Objective function:  22613.402410399412\n",
            "Iteration 99000 Objective function:  22588.88827749226\n",
            "Iteration 100000 Objective function:  22428.583356435116\n",
            "Iteration 101000 Objective function:  22420.126794846445\n",
            "Iteration 102000 Objective function:  22240.287661886254\n",
            "Iteration 103000 Objective function:  22169.336283293625\n",
            "Iteration 104000 Objective function:  22126.56640070068\n",
            "Iteration 105000 Objective function:  22047.49954447081\n",
            "Iteration 106000 Objective function:  22031.69776987111\n",
            "Iteration 107000 Objective function:  22015.001771967283\n",
            "Iteration 108000 Objective function:  21921.526212669953\n",
            "Iteration 109000 Objective function:  21860.1797884859\n",
            "Iteration 110000 Objective function:  21678.68191306641\n",
            "Iteration 111000 Objective function:  21581.323402264807\n",
            "Iteration 112000 Objective function:  21468.04419182135\n",
            "Iteration 113000 Objective function:  21326.486229527665\n",
            "Iteration 114000 Objective function:  21244.43879266933\n",
            "Iteration 115000 Objective function:  21092.778658271494\n",
            "Iteration 116000 Objective function:  21040.964193866865\n",
            "Iteration 117000 Objective function:  21051.78244883475\n",
            "Iteration 118000 Objective function:  20881.51986468099\n",
            "Iteration 119000 Objective function:  20841.591895699225\n",
            "Iteration 120000 Objective function:  20808.460519264732\n",
            "Iteration 121000 Objective function:  20777.518162052027\n",
            "Iteration 122000 Objective function:  20657.443074760613\n",
            "Iteration 123000 Objective function:  20683.836254763304\n",
            "Iteration 124000 Objective function:  20603.70295231955\n",
            "Iteration 125000 Objective function:  20589.868870974955\n",
            "Iteration 126000 Objective function:  20478.642011713207\n",
            "Iteration 127000 Objective function:  20477.7211028971\n",
            "Iteration 128000 Objective function:  20354.187817334114\n",
            "Iteration 129000 Objective function:  20392.677006186226\n",
            "Iteration 130000 Objective function:  20307.0397736823\n",
            "Iteration 131000 Objective function:  20207.62308896759\n",
            "Iteration 132000 Objective function:  20184.369136906687\n",
            "Iteration 133000 Objective function:  20069.42041266197\n",
            "Iteration 134000 Objective function:  20122.736681596456\n",
            "Iteration 135000 Objective function:  20108.103728613296\n",
            "Iteration 136000 Objective function:  20106.48978160276\n",
            "Iteration 137000 Objective function:  19906.48568772885\n",
            "Iteration 138000 Objective function:  19797.53086175106\n",
            "Iteration 139000 Objective function:  19772.59710896085\n",
            "Iteration 140000 Objective function:  19702.03667377533\n",
            "Iteration 141000 Objective function:  19717.917363246623\n",
            "Iteration 142000 Objective function:  19688.454085630055\n",
            "Iteration 143000 Objective function:  19657.73696102875\n",
            "Iteration 144000 Objective function:  19626.6201280365\n",
            "Iteration 145000 Objective function:  19600.700142940597\n",
            "Iteration 146000 Objective function:  19464.69724698319\n",
            "Iteration 147000 Objective function:  19492.30905962928\n",
            "Iteration 148000 Objective function:  19391.96612071275\n",
            "Iteration 149000 Objective function:  19329.536466007426\n",
            "Iteration 150000 Objective function:  19344.2530998425\n",
            "Iteration 151000 Objective function:  19220.033516971667\n",
            "Iteration 152000 Objective function:  19129.170460113597\n",
            "Iteration 153000 Objective function:  19270.947585410388\n",
            "Iteration 154000 Objective function:  19204.45605374886\n",
            "Iteration 155000 Objective function:  19209.789740627355\n",
            "Iteration 156000 Objective function:  19100.714897925132\n",
            "Iteration 157000 Objective function:  19110.182455497237\n",
            "Iteration 158000 Objective function:  18989.3042012662\n",
            "Iteration 159000 Objective function:  19010.21217667684\n",
            "Iteration 160000 Objective function:  18870.68414610124\n",
            "Iteration 161000 Objective function:  18943.56902233525\n",
            "Iteration 162000 Objective function:  18795.81654094236\n",
            "Iteration 163000 Objective function:  18898.78107308903\n",
            "Iteration 164000 Objective function:  18912.082773899627\n",
            "Iteration 165000 Objective function:  18773.344900788183\n",
            "Iteration 166000 Objective function:  18809.05201405524\n",
            "Iteration 167000 Objective function:  18780.87181661502\n",
            "Iteration 168000 Objective function:  18701.89511816324\n",
            "Iteration 169000 Objective function:  18682.107063731226\n",
            "Iteration 170000 Objective function:  18601.869367785635\n",
            "Iteration 171000 Objective function:  18543.37844141674\n",
            "Iteration 172000 Objective function:  18584.705823896966\n",
            "Iteration 173000 Objective function:  18530.609251556845\n",
            "Iteration 174000 Objective function:  18564.992818874136\n",
            "Iteration 175000 Objective function:  18487.62089554314\n",
            "Iteration 176000 Objective function:  18467.94297301186\n",
            "Iteration 177000 Objective function:  18452.549651814577\n",
            "Iteration 178000 Objective function:  18471.888650200795\n",
            "Iteration 179000 Objective function:  18446.608604513844\n",
            "Iteration 180000 Objective function:  18448.403778012915\n",
            "Iteration 181000 Objective function:  18498.647120908117\n",
            "Iteration 182000 Objective function:  18445.993011840554\n",
            "Iteration 183000 Objective function:  18388.900023360286\n",
            "Iteration 184000 Objective function:  18398.004728122185\n",
            "Iteration 185000 Objective function:  18355.21970782399\n",
            "Iteration 186000 Objective function:  18283.76088118169\n",
            "Iteration 187000 Objective function:  18351.28166389665\n",
            "Iteration 188000 Objective function:  18244.394075458673\n",
            "Iteration 189000 Objective function:  18241.923745326254\n",
            "Iteration 190000 Objective function:  18168.541009836743\n",
            "Iteration 191000 Objective function:  18116.20860166469\n",
            "Iteration 192000 Objective function:  18146.11436782929\n",
            "Iteration 193000 Objective function:  18179.753253501443\n",
            "Iteration 194000 Objective function:  18218.273642610544\n",
            "Iteration 195000 Objective function:  18226.420224538317\n",
            "Iteration 196000 Objective function:  18260.04262620024\n",
            "Iteration 197000 Objective function:  18221.384726263004\n",
            "Iteration 198000 Objective function:  18296.995353521987\n",
            "Iteration 199000 Objective function:  18317.143620399558\n"
          ],
          "name": "stdout"
        }
      ]
    },
    {
      "cell_type": "markdown",
      "metadata": {
        "id": "HDXVDbeF3SGF",
        "colab_type": "text"
      },
      "source": [
        "And once again, we can now plot the results:"
      ]
    },
    {
      "cell_type": "code",
      "metadata": {
        "id": "BNu8J7pG3UJg",
        "colab_type": "code",
        "outputId": "6ef98619-b3b5-4522-d512-0b16c45bf7ca",
        "colab": {
          "base_uri": "https://localhost:8080/",
          "height": 545
        }
      },
      "source": [
        "plt.scatter(x=U.iloc[:, 0], y=U.iloc[:, 1])\n",
        "plt.title('User Map')\n",
        "plt.show()\n",
        "\n",
        "plt.scatter(x=V.iloc[:, 0], y=V.iloc[:, 1], alpha=0.2)\n",
        "plt.title('Film Map')\n",
        "plt.show()"
      ],
      "execution_count": 0,
      "outputs": [
        {
          "output_type": "display_data",
          "data": {
            "image/png": "[encoded data removed]",
            "text/plain": [
              "<Figure size 432x288 with 1 Axes>"
            ]
          },
          "metadata": {
            "tags": []
          }
        },
        {
          "output_type": "display_data",
          "data": {
            "image/png": "[encoded data removed]",
            "text/plain": [
              "<Figure size 432x288 with 1 Axes>"
            ]
          },
          "metadata": {
            "tags": []
          }
        }
      ]
    }
  ]
}