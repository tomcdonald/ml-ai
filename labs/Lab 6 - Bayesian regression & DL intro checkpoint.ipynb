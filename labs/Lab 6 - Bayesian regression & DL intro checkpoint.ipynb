{
  "nbformat": 4,
  "nbformat_minor": 0,
  "metadata": {
    "kernelspec": {
      "display_name": "Python 3",
      "language": "python",
      "name": "python3"
    },
    "language_info": {
      "codemirror_mode": {
        "name": "ipython",
        "version": 3
      },
      "file_extension": ".py",
      "mimetype": "text/x-python",
      "name": "python",
      "nbconvert_exporter": "python",
      "pygments_lexer": "ipython3",
      "version": "3.7.3"
    },
    "colab": {
      "name": "Copy of Lab 6 - Bayesian regression & DL intro-checkpoint.ipynb",
      "provenance": [],
      "collapsed_sections": [],
      "include_colab_link": true
    }
  },
  "cells": [
    {
      "cell_type": "markdown",
      "metadata": {
        "id": "view-in-github",
        "colab_type": "text"
      },
      "source": [
        "<a href=\"https://colab.research.google.com/github/tomcdonald/ml-ai/blob/master/labs/Lab%206%20-%20Bayesian%20regression%20%26%20DL%20intro%20checkpoint.ipynb\" target=\"_parent\"><img src=\"https://colab.research.google.com/assets/colab-badge.svg\" alt=\"Open In Colab\"/></a>"
      ]
    },
    {
      "cell_type": "markdown",
      "metadata": {
        "id": "EPhZcUi6Lf_b",
        "colab_type": "text"
      },
      "source": [
        "# Lab 6: Bayesian Regression & PyTorch\n",
        "## A: *Bayesian Treatment of Linear Regression* \n",
        "## B: *Linear Regression with PyTorch*\n",
        "\n",
        "### [Haiping Lu](http://staffwww.dcs.shef.ac.uk/people/H.Lu/) -  COM4509/6509 MLAI2019\n",
        "\n",
        "### Part 6A: modified in Nov 2019 based on slides by Neil Lawrence [MLAI2015](http://inverseprobability.com/mlai2015/)\n",
        "### Part 6B: based on the [SimplyDeep](https://github.com/haipinglu/SimplyDeep/) project I recently started"
      ]
    },
    {
      "cell_type": "markdown",
      "metadata": {
        "id": "dAZ-4fdiLf_f",
        "colab_type": "text"
      },
      "source": [
        "$$\\newcommand{\\inputScalar}{x}\n",
        "\\newcommand{\\lengthScale}{\\ell}\n",
        "\\newcommand{\\mappingVector}{\\mathbf{w}}\n",
        "\\newcommand{\\gaussianDist}[3]{\\mathcal{N}\\left(#1|#2,#3\\right)}\n",
        "\\newcommand{\\gaussianSamp}[2]{\\mathcal{N}\\left(#1,#2\\right)}\n",
        "\\newcommand{\\zerosVector}{\\mathbf{0}}\n",
        "\\newcommand{\\eye}{\\mathbf{I}}\n",
        "\\newcommand{\\dataStd}{\\sigma}\n",
        "\\newcommand{\\dataScalar}{y}\n",
        "\\newcommand{\\dataVector}{\\mathbf{y}}\n",
        "\\newcommand{\\dataMatrix}{\\mathbf{Y}}\n",
        "\\newcommand{\\noiseScalar}{\\epsilon}\n",
        "\\newcommand{\\noiseVector}{\\mathbf{\\epsilon}}\n",
        "\\newcommand{\\noiseMatrix}{\\mathbf{\\Epsilon}}\n",
        "\\newcommand{\\inputVector}{\\mathbf{x}}\n",
        "\\newcommand{\\kernelMatrix}{\\mathbf{K}}\n",
        "\\newcommand{\\basisMatrix}{\\mathbf{\\Phi}}\n",
        "\\newcommand{\\basisVector}{\\mathbf{\\phi}}\n",
        "\\newcommand{\\basisScalar}{\\phi}\n",
        "\\newcommand{\\expSamp}[1]{\\left<#1\\right>}\n",
        "\\newcommand{\\expDist}[2]{\\left<#1\\right>_{#2}}\n",
        "\\newcommand{\\covarianceMatrix}{\\mathbf{C}}\n",
        "\\newcommand{\\numData}{n}\n",
        "\\newcommand{\\mappingScalar}{w}\n",
        "\\newcommand{\\mappingFunctionScalar}{f}\n",
        "\\newcommand{\\mappingFunctionVector}{\\mathbf{f}}\n",
        "\\newcommand{\\meanVector}{\\boldsymbol{\\mu}}\n",
        "\\newcommand{\\meanScalar}{\\mu}$$"
      ]
    },
    {
      "cell_type": "markdown",
      "metadata": {
        "id": "3TifjvBsLf_h",
        "colab_type": "text"
      },
      "source": [
        "# Part A: Bayesian Regression"
      ]
    },
    {
      "cell_type": "markdown",
      "metadata": {
        "id": "qqXJF-8VLf_i",
        "colab_type": "text"
      },
      "source": [
        "## A1. The Bayesian Approach\n",
        "\n",
        "The aim of this notebook is to study Bayesian approaches to regression. In the Bayesian approach we define a *prior* density over our parameters, $m$ and $c$ or more generally $\\mathbf{w}$. This prior distribution gives us a range of expected values for our parameter *before* we have seen the data. The objective in Bayesian inference is to then compute the *posterior* density which is the effect on the density of having observed the data. \n",
        "\n",
        "In standard probability notation we write the **prior distribution** as,\n",
        "$$p(\\mathbf{w}),$$\n",
        "so it is the *marginal* distribution for the parameters, i.e. the distribution we have for the parameters without any knowledge about the data. \n",
        "\n",
        "The **posterior distribution** is written as,\n",
        "$$p(\\mathbf{w}|\\mathbf{y}, \\mathbf{X}).$$\n",
        "So the posterior distribution is the *conditional* distribution for the parameters given the data (which in this case consists of pairs of observations including response variables (or targets), $y_i$, and covariates (or inputs) $\\mathbf{x}_i$, where we are allowing the inputs to be multivariate. \n",
        "\n",
        "The posterior is recovered from the prior using *Bayes' rule*. Which is simply a rewriting of the product rule. We can recover Bayes rule as follows. The product rule of probability tells us that the joint distribution is given as the product of the conditional and the marginal. Dropping the inputs from our conditioning for the moment we have,\n",
        "$$p(\\mathbf{w}, \\mathbf{y})=p(\\mathbf{y}|\\mathbf{w})p(\\mathbf{w}),$$\n",
        "where we see we have related the joint density to the prior density and the **likelihood** from our previous investigation of regression,\n",
        "$$p(\\mathbf{y}|\\mathbf{w}) = \\prod_{i=1}^n\\mathcal{N}(y_i | \\mathbf{w}^\\top \\mathbf{x}_i, \\sigma^2)$$\n",
        "which arises from the assumption that our observation is given by\n",
        "$$y_i = \\mathbf{w}^\\top \\mathbf{x}_i + \\epsilon_i.$$\n",
        "In other words this is the Gaussian likelihood we have been fitting by minimizing the sum of squares. Have a look at Session 3 notebook as a reminder.\n",
        "\n",
        "We've introduce the likelihood, but we don't have  relationship with the posterior, however, the product rule can also be written in the following way\n",
        "$$p(\\mathbf{w}, \\mathbf{y}) = p(\\mathbf{w}|\\mathbf{y})p(\\mathbf{y}),$$\n",
        "where here we have simply used the opposite conditioning. We've already introduced the *posterior* density above. This is the density that represents our belief about the parameters *after* observing the data. This is combined with the **marginal likelihood**, sometimes also known as the evidence. It is the marginal likelihood, because it is the original likelihood of the data with the parameters marginalised, $p(\\mathbf{y})$. Here it's conditioned on nothing, but in practice you should always remember that everything here is conditioned on things like model choice: which set of basis functions. Because it's a regression problem, its also conditioned on the inputs. Using the equality between the two different forms of the joint density  we recover\n",
        "$$p(\\mathbf{w}|\\mathbf{y}) = \\frac{p(\\mathbf{y}|\\mathbf{w})p(\\mathbf{w})}{p(\\mathbf{y})}$$\n",
        "where we divided both sides by $p(\\mathbf{y})$ to recover this result. Let's re-introduce the conditioning on the input locations (or covariates), $\\mathbf{X}$ to write the full form of Bayes' rule for the regression problem. \n",
        "$$p(\\mathbf{w}|\\mathbf{y}, \\mathbf{X}) = \\frac{p(\\mathbf{y}|\\mathbf{w}, \\mathbf{X})p(\\mathbf{w})}{p(\\mathbf{y}|\\mathbf{X})}$$\n",
        "where the posterior density for the parameters given the data is $p(\\mathbf{w}|\\mathbf{y}, \\mathbf{X})$, the marginal likelihood is $p(\\mathbf{y}|\\mathbf{X})$, the prior density is $p(\\mathbf{w})$ and our original regression likelihood is given by $p(\\mathbf{y}|\\mathbf{w}, \\mathbf{X})$. It turns out that to compute the posterior the only things we need to do are define the prior and the likelihood. The other term on the right hand side can be computed by *the sum rule*. It is one of the key equations of Bayesian inference, the expectation of the likelihood under the prior, this process is known as marginalisation,\n",
        "$$\n",
        "p(\\mathbf{y}|\\mathbf{X}) = \\int p(\\mathbf{y}|\\mathbf{w},\\mathbf{X})p(\\mathbf{w}) \\text{d}\\mathbf{w}\n",
        "$$\n",
        "The term marginalisation nicely interprets the description of the probability as the *marginal likelihood*, because it somewhat has the implication that the variable name has been removed, and (perhaps) written in the margin. Marginalisation of a variable goes from a likelihood where the variable is in place, to a new likelihood where **all possible values** of that variable (under the prior) have been **considered and weighted** in the integral. \n",
        "\n",
        "This implies that **all we need for specifying our model is to define the likelihood and the prior**. We already have our likelihood from our earlier discussion, so our focus now turns to the prior density.\n",
        "\n"
      ]
    },
    {
      "cell_type": "markdown",
      "metadata": {
        "id": "fPrSDTMOLf_k",
        "colab_type": "text"
      },
      "source": [
        "## A2. The Prior Density and How to Sample from It\n",
        "\n",
        "Let's assume that the prior density is given by a zero mean Gaussian, which is independent across each of the parameters, \n",
        "$$\\mappingVector \\sim \\gaussianSamp{\\zerosVector}{\\alpha \\eye}$$\n",
        "In other words, we are assuming, for the prior, that each element of the parameters vector, $\\mappingScalar_i$, was drawn from a Gaussian density as follows\n",
        "$$\\mappingScalar_i \\sim \\gaussianSamp{0}{\\alpha}$$\n",
        "\n",
        "Let's start by assigning the parameter of the prior distribution, which is the variance of the prior distribution, $\\alpha$."
      ]
    },
    {
      "cell_type": "code",
      "metadata": {
        "id": "_tkVGJ1aLf_n",
        "colab_type": "code",
        "colab": {}
      },
      "source": [
        "# set prior variance on w\n",
        "alpha = 4.\n",
        "# set the order of the polynomial basis set\n",
        "order = 5\n",
        "# set the noise variance\n",
        "sigma2 = 0.01"
      ],
      "execution_count": 0,
      "outputs": []
    },
    {
      "cell_type": "markdown",
      "metadata": {
        "id": "tO-ASbdELf_s",
        "colab_type": "text"
      },
      "source": [
        "### Generating samples from the model\n",
        "\n",
        "A very important aspect of probabilistic modelling is to *sample* from your model to see what type of assumptions you are making about your data. In this case that involves a two stage process.\n",
        "\n",
        "1. **Sample a candiate parameter vector from the prior.**\n",
        "2. **Place the candidate parameter vector in the likelihood and sample functions conditiond on that candidate vector.**\n",
        "3. **Repeat to try and characterise the type of functions you are generating.**\n",
        "\n",
        "Given a prior variance (as defined above) we can now  sample from the prior distribution and combine with a basis set to see what assumptions we are making about the functions *a priori* (i.e. before we've seen the data). \n",
        "\n",
        "### Prepare the data and specify the model\n",
        "Firstly we compute the basis function matrix. We will do it both for our training data, and for a range of prediction locations (`x_pred`). "
      ]
    },
    {
      "cell_type": "code",
      "metadata": {
        "id": "hIUmlw04Lf_t",
        "colab_type": "code",
        "colab": {}
      },
      "source": [
        "import numpy as np\n",
        "\n",
        "x = np.array([[1896.], [1900.], [1904.], [1908.], [1912.], [1920.], [1924.],\n",
        "              [1928.], [1932.], [1936.], [1948.], [1952.], [1956.], [1960.],\n",
        "              [1964.], [1968.], [1972.], [1976.], [1980.], [1984.], [1988.],\n",
        "              [1992.], [1996.], [2000.], [2004.], [2008.], [2012.]])\n",
        "\n",
        "y = np.array([[4.47083333], [4.46472926], [5.22208333], [4.15467867],\n",
        "              [3.90331675], [3.56951267], [3.82454477], [3.62483707],\n",
        "              [3.59284275], [3.53880792], [3.67010309], [3.39029111],\n",
        "              [3.43642612], [3.20583007], [3.13275665], [3.32819844],\n",
        "              [3.13583758], [3.0789588 ], [3.10581822], [3.06552909],\n",
        "              [3.09357349], [3.16111704], [3.14255244], [3.08527867],\n",
        "              [3.10265829], [2.99877553], [3.03392977]])\n",
        "\n",
        "num_data = x.shape[0]\n",
        "num_pred_data = 100 # how many points to use for plotting predictions\n",
        "x_pred = np.linspace(1890, 2016, num_pred_data)[:, None] # input locations for predictions"
      ],
      "execution_count": 0,
      "outputs": []
    },
    {
      "cell_type": "markdown",
      "metadata": {
        "id": "nPorkTCELf_x",
        "colab_type": "text"
      },
      "source": [
        "now let's build the basis matrices. We define the polynomial basis as follows."
      ]
    },
    {
      "cell_type": "code",
      "metadata": {
        "id": "fsGiwqNyLf_z",
        "colab_type": "code",
        "colab": {}
      },
      "source": [
        "def polynomial(x, degree, loc, scale):\n",
        "    degrees = np.arange(degree+1)\n",
        "    return ((x-loc)/scale)**degrees"
      ],
      "execution_count": 0,
      "outputs": []
    },
    {
      "cell_type": "code",
      "metadata": {
        "id": "jF9r-gJCLf_3",
        "colab_type": "code",
        "colab": {}
      },
      "source": [
        "loc = 1950.\n",
        "scale = 1.\n",
        "degree = 5. \n",
        "Phi_pred = polynomial(x_pred, degree=degree, loc=loc, scale=scale)\n",
        "Phi = polynomial(x, degree=degree, loc=loc, scale=scale)\n"
      ],
      "execution_count": 0,
      "outputs": []
    },
    {
      "cell_type": "markdown",
      "metadata": {
        "id": "Fn5tISZQLf_6",
        "colab_type": "text"
      },
      "source": [
        "### Scaling Gaussian-distributed Variables\n",
        "\n",
        "Now we will sample from the prior to produce a vector $\\mappingVector$ and use it to plot a function which is representative of our belief *before* we fit the data. To do this we are going to use the properties of the Gaussian density and obtain a sample from a **standard normal** (mean=0, variance=1) using the function `np.random.normal`.\n",
        "\n",
        "First, let's consider the case where we have one data point and one feature in our basis set. In otherwords $\\mappingFunctionVector$ would be a scalar, $\\mappingVector$ would be a scalar and $\\basisMatrix$ would be a scalar. In this case we have \n",
        "\n",
        "$$\\mappingFunctionScalar = \\basisScalar \\mappingScalar$$\n",
        "\n",
        "If $\\mappingScalar$ is drawn from a normal density, \n",
        "\n",
        "$$\\mappingScalar \\sim \\gaussianSamp{\\meanScalar_\\mappingScalar}{c_\\mappingScalar}$$\n",
        "\n",
        "and $\\basisScalar$ is a scalar value which we are given, then properties of the Gaussian density tell us that \n",
        "\n",
        "$$\\basisScalar \\mappingScalar \\sim \\gaussianSamp{\\basisScalar\\meanScalar_\\mappingScalar}{\\basisScalar^2c_\\mappingScalar}$$\n",
        "\n",
        "Let's test this out numerically. First we will draw 200 samples from a standard normal,"
      ]
    },
    {
      "cell_type": "code",
      "metadata": {
        "id": "SMj7K0emLf_8",
        "colab_type": "code",
        "colab": {}
      },
      "source": [
        "w_vec = np.random.normal(size=200)"
      ],
      "execution_count": 0,
      "outputs": []
    },
    {
      "cell_type": "markdown",
      "metadata": {
        "id": "Cc0oxJu1LgAA",
        "colab_type": "text"
      },
      "source": [
        "We can compute the mean of these samples and their variance"
      ]
    },
    {
      "cell_type": "code",
      "metadata": {
        "id": "WZAdqrnSLgAB",
        "colab_type": "code",
        "outputId": "61316c21-dc66-48fb-f5b3-479ab02f5665",
        "colab": {}
      },
      "source": [
        "print('w sample mean is ', w_vec.mean())\n",
        "print('w sample variance is ', w_vec.var())"
      ],
      "execution_count": 0,
      "outputs": [
        {
          "output_type": "stream",
          "text": [
            "w sample mean is  0.003233670915804141\n",
            "w sample variance is  0.9562770726322617\n"
          ],
          "name": "stdout"
        }
      ]
    },
    {
      "cell_type": "markdown",
      "metadata": {
        "id": "3DTRqjClLgAI",
        "colab_type": "text"
      },
      "source": [
        "These are close to zero (the mean) and one (the variance) as you'd expect. Now compute the mean and variance of the scaled version,"
      ]
    },
    {
      "cell_type": "code",
      "metadata": {
        "id": "TV27HYLALgAJ",
        "colab_type": "code",
        "outputId": "952edc7f-91a0-4edc-e4c3-f875f003fc40",
        "colab": {}
      },
      "source": [
        "phi = 7\n",
        "f_vec = phi*w_vec\n",
        "print('True mean should be phi*0 = 0.')\n",
        "print('True variance should be phi*phi*1 = ', phi*phi)\n",
        "print('f sample mean is ', f_vec.mean())\n",
        "print('f sample variance is ', f_vec.var())"
      ],
      "execution_count": 0,
      "outputs": [
        {
          "output_type": "stream",
          "text": [
            "True mean should be phi*0 = 0.\n",
            "True variance should be phi*phi*1 =  49\n",
            "f sample mean is  0.022635696410628903\n",
            "f sample variance is  46.857576558980824\n"
          ],
          "name": "stdout"
        }
      ]
    },
    {
      "cell_type": "markdown",
      "metadata": {
        "id": "oWlABcGZLgAO",
        "colab_type": "text"
      },
      "source": [
        "If you increase the number of samples then you will see that the sample mean and the sample variance begin to converge towards the true mean and the true variance. Obviously adding an offset to a sample from `np.random.normal` will change the mean. So if you want to sample from a Gaussian with mean `mu` and standard deviation `sigma` one way of doing it is to sample from the standard normal and scale and shift the result, so to sample a set of $\\mappingScalar$ from a Gaussian with mean $\\meanScalar$ and variance $\\alpha$,\n",
        "\n",
        "$$w \\sim \\gaussianSamp{\\meanScalar}{\\alpha}$$\n",
        "\n",
        "We can simply scale and offset samples from the *standard normal*."
      ]
    },
    {
      "cell_type": "code",
      "metadata": {
        "id": "ynw3ggruLgAP",
        "colab_type": "code",
        "outputId": "3eba9870-9aba-4e5b-b9fc-01cd158a2975",
        "colab": {}
      },
      "source": [
        "mu = 4 # mean of the distribution\n",
        "alpha = 2 # variance of the distribution\n",
        "w_vec = np.random.normal(size=200)*np.sqrt(alpha) + mu\n",
        "print('w sample mean is ', w_vec.mean())\n",
        "print('w sample variance is ', w_vec.var())"
      ],
      "execution_count": 0,
      "outputs": [
        {
          "output_type": "stream",
          "text": [
            "w sample mean is  4.157256491061218\n",
            "w sample variance is  2.107088740424375\n"
          ],
          "name": "stdout"
        }
      ]
    },
    {
      "cell_type": "markdown",
      "metadata": {
        "id": "BYnM-p_TLgAS",
        "colab_type": "text"
      },
      "source": [
        "Here the `np.sqrt` is necesssary because we need to multiply by the standard deviation and we specified the variance as `alpha`. So scaling and offsetting a Gaussian distributed variable keeps the variable Gaussian, but it effects the mean and variance of the resulting variable. \n",
        "\n",
        "To get an idea of the overal shape of the resulting distribution, let's do the same thing with a histogram of the results. "
      ]
    },
    {
      "cell_type": "code",
      "metadata": {
        "id": "P2cjT6PjLgAU",
        "colab_type": "code",
        "outputId": "8a3550e6-fe1f-4b95-eb90-ba55458a5ff4",
        "colab": {}
      },
      "source": [
        "# First the standard normal\n",
        "import matplotlib.pyplot as plt\n",
        "%matplotlib inline\n",
        "z_vec = np.random.normal(size=1000) # by convention, in statistics, z is often used to denote samples from the standard normal\n",
        "w_vec = z_vec*np.sqrt(alpha) + mu\n",
        "# plot normalized histogram of w, and then normalized histogram of z on top\n",
        "plt.hist(w_vec, bins=30, density=True)\n",
        "plt.hist(z_vec, bins=30, density=True)\n",
        "plt.legend(('$w$', '$z$'))"
      ],
      "execution_count": 0,
      "outputs": [
        {
          "output_type": "execute_result",
          "data": {
            "text/plain": [
              "<matplotlib.legend.Legend at 0x7f352a7033c8>"
            ]
          },
          "metadata": {
            "tags": []
          },
          "execution_count": 9
        },
        {
          "output_type": "display_data",
          "data": {
            "image/png": "[encoded data removed]",
            "text/plain": [
              "<Figure size 432x288 with 1 Axes>"
            ]
          },
          "metadata": {
            "tags": [],
            "needs_background": "light"
          }
        }
      ]
    },
    {
      "cell_type": "code",
      "metadata": {
        "id": "VXVCiSAULgAZ",
        "colab_type": "code",
        "outputId": "b9187f5c-b1bc-4024-d667-74be13b9c1f9",
        "colab": {}
      },
      "source": [
        "z_vec = np.random.normal(size=100000) # by convention, in statistics, z is often used to denote samples from the standard normal\n",
        "w_vec = z_vec*np.sqrt(alpha) + mu\n",
        "# plot normalized histogram of w, and then normalized histogram of z on top\n",
        "plt.hist(w_vec, bins=30, density=True)\n",
        "plt.hist(z_vec, bins=30, density=True)\n",
        "plt.legend(('$w$', '$z$'))"
      ],
      "execution_count": 0,
      "outputs": [
        {
          "output_type": "execute_result",
          "data": {
            "text/plain": [
              "<matplotlib.legend.Legend at 0x7f353b1cefd0>"
            ]
          },
          "metadata": {
            "tags": []
          },
          "execution_count": 10
        },
        {
          "output_type": "display_data",
          "data": {
            "image/png": "[encoded data removed]",
            "text/plain": [
              "<Figure size 432x288 with 1 Axes>"
            ]
          },
          "metadata": {
            "tags": [],
            "needs_background": "light"
          }
        }
      ]
    },
    {
      "cell_type": "markdown",
      "metadata": {
        "id": "q1woHK33LgAc",
        "colab_type": "text"
      },
      "source": [
        "Now **re-run** this histogram with 100,000 samples and check that the both histograms look qualitatively Gaussian.\n",
        "\n",
        "### Sampling from the Prior by scaling a standard Gaussian\n",
        "\n",
        "Let's use this way of constructing samples from a Gaussian to check what functions look like *a priori*. The process will be as follows. First, we sample a random vector of $K$ dimensional from `np.random.normal`. Then we scale it by $\\sqrt{\\alpha}$ to obtain a prior sample of $\\mappingVector$.  "
      ]
    },
    {
      "cell_type": "code",
      "metadata": {
        "id": "xxgJoEt-LgAd",
        "colab_type": "code",
        "outputId": "e8d73971-7d65-4b66-c936-b619067b6cee",
        "colab": {}
      },
      "source": [
        "K = int(degree) + 1\n",
        "z_vec = np.random.normal(size=K)\n",
        "w_sample = z_vec*np.sqrt(alpha)\n",
        "print(w_sample)"
      ],
      "execution_count": 0,
      "outputs": [
        {
          "output_type": "stream",
          "text": [
            "[ 2.02188444 -1.08519172  2.15535424  1.73341418  0.20988146  0.43324288]\n"
          ],
          "name": "stdout"
        }
      ]
    },
    {
      "cell_type": "markdown",
      "metadata": {
        "id": "uIBWRsbkLgAg",
        "colab_type": "text"
      },
      "source": [
        "Now we can combine our sample from the prior with the basis functions to create a function,"
      ]
    },
    {
      "cell_type": "code",
      "metadata": {
        "id": "fAjxZg6_LgAh",
        "colab_type": "code",
        "outputId": "38b8d13b-bdbd-4c19-e670-434b90a75141",
        "colab": {}
      },
      "source": [
        "f_sample = np.dot(Phi_pred,w_sample)\n",
        "plt.plot(x_pred.flatten(), f_sample.flatten(), 'r-')"
      ],
      "execution_count": 0,
      "outputs": [
        {
          "output_type": "execute_result",
          "data": {
            "text/plain": [
              "[<matplotlib.lines.Line2D at 0x7f352a2ebda0>]"
            ]
          },
          "metadata": {
            "tags": []
          },
          "execution_count": 12
        },
        {
          "output_type": "display_data",
          "data": {
            "image/png": "[encoded data removed]",
            "text/plain": [
              "<Figure size 432x288 with 1 Axes>"
            ]
          },
          "metadata": {
            "tags": [],
            "needs_background": "light"
          }
        }
      ]
    },
    {
      "cell_type": "markdown",
      "metadata": {
        "id": "wL4rVqnMLgAl",
        "colab_type": "text"
      },
      "source": [
        "This shows the recurring problem with the polynomial basis. Our prior allows relatively large coefficients for the basis associated with high polynomial degrees. Because we are operating with input values of around 2000, this leads to output functions of very high values. The fix we have used for this before is to rescale our data before we apply the polynomial basis to it. Above, we set the scale of the basis to 1. Here let's set it to 100 and try again."
      ]
    },
    {
      "cell_type": "code",
      "metadata": {
        "id": "r4pCQR72LgAm",
        "colab_type": "code",
        "colab": {}
      },
      "source": [
        "scale = 100.\n",
        "Phi_pred = polynomial(x_pred, degree=degree, loc=loc, scale=scale)\n",
        "Phi = polynomial(x, degree=degree, loc=loc, scale=scale)"
      ],
      "execution_count": 0,
      "outputs": []
    },
    {
      "cell_type": "markdown",
      "metadata": {
        "id": "F43TGdSvLgAr",
        "colab_type": "text"
      },
      "source": [
        "Now we need to recompute the basis functions from above, "
      ]
    },
    {
      "cell_type": "code",
      "metadata": {
        "id": "LwlJQ6xhLgAr",
        "colab_type": "code",
        "outputId": "9ef2d640-c46a-49e8-9515-dc4110bb792f",
        "colab": {}
      },
      "source": [
        "f_sample = np.dot(Phi_pred,w_sample)\n",
        "plt.plot(x_pred.flatten(), f_sample.flatten(), 'r-')"
      ],
      "execution_count": 0,
      "outputs": [
        {
          "output_type": "execute_result",
          "data": {
            "text/plain": [
              "[<matplotlib.lines.Line2D at 0x7f352a54da90>]"
            ]
          },
          "metadata": {
            "tags": []
          },
          "execution_count": 14
        },
        {
          "output_type": "display_data",
          "data": {
            "image/png": "[encoded data removed]",
            "text/plain": [
              "<Figure size 432x288 with 1 Axes>"
            ]
          },
          "metadata": {
            "tags": [],
            "needs_background": "light"
          }
        }
      ]
    },
    {
      "cell_type": "markdown",
      "metadata": {
        "id": "B7bu_pbYLgAv",
        "colab_type": "text"
      },
      "source": [
        "Now let's loop through some samples and plot various functions as samples from this system,"
      ]
    },
    {
      "cell_type": "code",
      "metadata": {
        "id": "R1ly2FC4LgAw",
        "colab_type": "code",
        "outputId": "e4795278-9981-436d-8f83-845f4b59052b",
        "colab": {}
      },
      "source": [
        "num_samples = 10\n",
        "K = int(degree)+1\n",
        "for i in range(num_samples):\n",
        "    z_vec = np.random.normal(size=K)\n",
        "    w_sample = z_vec*np.sqrt(alpha)\n",
        "    f_sample = np.dot(Phi_pred,w_sample)\n",
        "    plt.plot(x_pred.flatten(), f_sample.flatten())\n"
      ],
      "execution_count": 0,
      "outputs": [
        {
          "output_type": "display_data",
          "data": {
            "image/png": "[encoded data removed]",
            "text/plain": [
              "<Figure size 432x288 with 1 Axes>"
            ]
          },
          "metadata": {
            "tags": [],
            "needs_background": "light"
          }
        }
      ]
    },
    {
      "cell_type": "markdown",
      "metadata": {
        "id": "7TGrIsISLgA1",
        "colab_type": "text"
      },
      "source": [
        "### Next: predicting the output \n",
        "\n",
        "The predictions for the mean output can now be computed. We want the **expected value of the predictions under the posterior distribution**. In matrix form, the predictions can be computed as\n",
        "\n",
        "$$\\mathbf{f} = \\basisMatrix \\mappingVector.$$\n",
        "\n",
        "This involves a matrix multiplication between a fixed matrix $\\basisMatrix$ and a vector $\\mappingVector$ that is drawn from a distribution. Because $\\mappingVector$ is drawn from a distribution, this imples that $\\mappingFunctionVector$ should also be drawn from a distribution. There are two distributions we are interested in though. We have just been sampling from the *prior* distribution to see what sort of functions we get *before* looking at the data. In Bayesian inference, we need to **compute the posterior distribution and sample from that density**."
      ]
    },
    {
      "cell_type": "markdown",
      "metadata": {
        "id": "IkcpsaMrLgA6",
        "colab_type": "text"
      },
      "source": [
        "## A3. Bayesian Inference\n",
        "The process of Bayesian inference involves combining the prior, $p(\\mappingVector)$ with the likelihood, $p(\\dataVector|\\inputVector, \\mappingVector)$ to form the posterior, $p(\\mappingVector | \\dataVector, \\inputVector)$ through Bayes' rule,\n",
        "\n",
        "$$p(\\mappingVector|\\dataVector, \\inputVector) = \\frac{p(\\dataVector|\\inputVector, \\mappingVector)p(\\mappingVector)}{p(\\dataVector)}$$\n",
        "\n",
        "We've looked at the samples for our function $\\mappingFunctionVector = \\basisMatrix\\mappingVector$, which forms the mean of the Gaussian likelihood, under the prior distribution, i.e. we've sampled from $p(\\mappingVector)$ and multiplied the result by the basis matrix. With the Baye's rule above, we can sample from the posterior density, $p(\\mappingVector|\\dataVector, \\inputVector)$, and check that the new samples fit do correspond to the data, i.e. we can check that the updated distribution includes information from the data set. "
      ]
    },
    {
      "cell_type": "markdown",
      "metadata": {
        "id": "76iw8dlfLgA_",
        "colab_type": "text"
      },
      "source": [
        "### Bayesian Inference in the Univariate Case\n",
        "\n",
        "\n",
        "#### Prior Distribution\n",
        "\n",
        "Let's consider only one model parameter $c$. For linear regression, consider a Gaussian prior on the intercept:\n",
        "    $$c \\sim \\mathcal{N}(0, \\alpha_1)$$"
      ]
    },
    {
      "cell_type": "markdown",
      "metadata": {
        "id": "FKYfj4SVLgBB",
        "colab_type": "text"
      },
      "source": [
        "#### Stages to Derivation of the Posterior\n",
        "\n",
        "-   Multiply likelihood by prior\n",
        "\n",
        "    -   They are \"exponentiated quadratics\", the answer is always also\n",
        "        an exponentiated quadratic because\n",
        "        $$\\exp(a^2)\\exp(b^2) = \\exp(a^2 + b^2)$$\n",
        "\n",
        "-   Complete the square to get the resulting density in the form of\n",
        "    a Gaussian.\n",
        "\n",
        "-   Recognise the mean and (co)variance of the Gaussian. This is the\n",
        "    estimate of the posterior."
      ]
    },
    {
      "cell_type": "markdown",
      "metadata": {
        "id": "yfxyolJQLgBE",
        "colab_type": "text"
      },
      "source": [
        "#### Main Trick\n",
        "\n",
        "$$p(c) = \\frac{1}{\\sqrt{2\\pi\\alpha_1}} \\exp\\left(-\\frac{1}{2\\alpha_1}c^2\\right)$$\n",
        "$$p(\\mathbf{y}|\\mathbf{x}, c, m, \\sigma^2) = \\frac{1}{\\left(2\\pi\\sigma^2\\right)^{\\frac{n}{2}}} \\exp\\left(-\\frac{1}{2\\sigma^2}\\sum_{i=1}^n(y_i - mx_i - c)^2\\right)$$"
      ]
    },
    {
      "cell_type": "markdown",
      "metadata": {
        "id": "RAhehopCLgBF",
        "colab_type": "text"
      },
      "source": [
        "$$p(c| \\mathbf{y}, \\mathbf{x}, m, \\sigma^2) = \\frac{p(\\mathbf{y}|\\mathbf{x}, c, m, \\sigma^2)p(c)}{p(\\mathbf{y}|\\mathbf{x}, m, \\sigma^2)}$$\n",
        "\n",
        "$$p(c| \\mathbf{y}, \\mathbf{x}, m, \\sigma^2) =  \\frac{p(\\mathbf{y}|\\mathbf{x}, c, m, \\sigma^2)p(c)}{\\int p(\\mathbf{y}|\\mathbf{x}, c, m, \\sigma^2)p(c) \\text{d} c}$$"
      ]
    },
    {
      "cell_type": "markdown",
      "metadata": {
        "id": "txlKNpAkLgBI",
        "colab_type": "text"
      },
      "source": [
        "$$p(c| \\mathbf{y}, \\mathbf{x}, m, \\sigma^2) \\propto  p(\\mathbf{y}|\\mathbf{x}, c, m, \\sigma^2)p(c)$$\n",
        "\n",
        "$$\\begin{aligned}\n",
        "    \\log p(c | \\mathbf{y}, \\mathbf{x}, m, \\sigma^2) =&-\\frac{1}{2\\sigma^2} \\sum_{i=1}^n(y_i-c - mx_i)^2-\\frac{1}{2\\alpha_1} c^2 + \\text{const}\\\\\n",
        "     = &-\\frac{1}{2\\sigma^2}\\sum_{i=1}^n(y_i-mx_i)^2 -\\left(\\frac{n}{2\\sigma^2} + \\frac{1}{2\\alpha_1}\\right)c^2\\\\\n",
        "    & + c\\frac{\\sum_{i=1}^n(y_i-mx_i)}{\\sigma^2},\n",
        "  \\end{aligned}$$"
      ]
    },
    {
      "cell_type": "markdown",
      "metadata": {
        "id": "W2jIp5dJLgBK",
        "colab_type": "text"
      },
      "source": [
        "complete the square of the quadratic form to obtain\n",
        "$$\\log p(c | \\mathbf{y}, \\mathbf{x}, m, \\sigma^2) = -\\frac{1}{2\\tau^2}(c - \\mu)^2 +\\text{const},$$\n",
        "where $\\tau^2 = \\left(n\\sigma^{-2} +\\alpha_1^{-1}\\right)^{-1}$\n",
        "and\n",
        "$\\mu = \\frac{\\tau^2}{\\sigma^2} \\sum_{i=1}^n(y_i-mx_i)$.\n"
      ]
    },
    {
      "cell_type": "markdown",
      "metadata": {
        "id": "qsMsIPW3LgBL",
        "colab_type": "text"
      },
      "source": [
        "### Multivariate Bayesian Inference \n",
        "\n"
      ]
    },
    {
      "cell_type": "markdown",
      "metadata": {
        "id": "6fH03gk3LgBO",
        "colab_type": "text"
      },
      "source": [
        "Compute the posterior distribution for multivariate $\\mappingVector$, i.e., the posterior mean and *covariance*. This distribution is also Gaussian,\n",
        "\n",
        "$$p(\\mappingVector | \\dataVector, \\inputVector, \\dataStd^2) = \\mathcal{N}\\left(\\mappingVector|\\meanVector_\\mappingScalar, \\covarianceMatrix_\\mappingScalar\\right)$$\n",
        "\n",
        "with covariance, $\\covarianceMatrix_\\mappingScalar$, given by\n",
        "\n",
        "$$\\covarianceMatrix_\\mappingScalar = \\left(\\dataStd^{-2}\\basisMatrix^\\top \\basisMatrix + \\alpha^{-1} \\eye\\right)^{-1}$$ \n",
        "\n",
        "whilst the mean is given by\n",
        "\n",
        "$$\\meanVector_\\mappingScalar = \\covarianceMatrix_\\mappingScalar \\dataStd^{-2}\\basisMatrix^\\top \\dataVector$$\n",
        "\n",
        "Let's compute the posterior covariance and mean, then we'll sample from these densities to have a look at the posterior belief about $\\mappingVector$ once the data has been accounted for. \n"
      ]
    },
    {
      "cell_type": "markdown",
      "metadata": {
        "id": "a3JL0bd5LgBP",
        "colab_type": "text"
      },
      "source": [
        "### Question 1\n",
        "\n",
        "Compute the covariance for $\\mathbf{w}$ given the training data (using the formulae above) and call the resulting variable `w_cov`. Compute the mean for $\\mathbf{w}$ given the training data (using the formulae above) and call the resulting variable `w_mean`. Assume that $\\sigma^2 = 0.01$"
      ]
    },
    {
      "cell_type": "code",
      "metadata": {
        "id": "HhyCEJR7LgBQ",
        "colab_type": "code",
        "colab": {}
      },
      "source": [
        "# Question 1 Answer Code\n",
        "# Write code for you answer to this question in this box\n",
        "sigma2 = 0.01\n",
        "w_cov = np.linalg.inv((sigma2**-1)*np.dot(Phi.T, Phi) + (alpha**-1)*np.identity(K))\n",
        "w_mean = np.dot(w_cov, (sigma2**-1)*np.dot(Phi.T, y))"
      ],
      "execution_count": 0,
      "outputs": []
    },
    {
      "cell_type": "markdown",
      "metadata": {
        "id": "J0HmaWWkLgBT",
        "colab_type": "text"
      },
      "source": [
        "### Sampling from the Posterior\n",
        "\n",
        "Earlier, we were able to sample the prior values for the mean *independently* from a Gaussian using `np.random.normal` and scaling the result. However, observing the data *correlates* the parameters. Recall this from the first lab where we had a correlation between the offset, $c$ and the slope $m$ which caused such problems with the coordinate ascent algorithm. We need to sample from a *correlated* Gaussian. For this we can use `np.random.multivariate_normal`."
      ]
    },
    {
      "cell_type": "code",
      "metadata": {
        "id": "_0vAypRmLgBU",
        "colab_type": "code",
        "outputId": "93958533-5e56-41a0-df21-10ea0ef52ebc",
        "colab": {}
      },
      "source": [
        "w_sample = np.random.multivariate_normal(w_mean.flatten(), w_cov)\n",
        "f_sample = np.dot(Phi_pred,w_sample)\n",
        "plt.plot(x_pred.flatten(), f_sample.flatten(), 'r-')\n",
        "plt.plot(x, y, 'rx') # plot data to show fit."
      ],
      "execution_count": 0,
      "outputs": [
        {
          "output_type": "execute_result",
          "data": {
            "text/plain": [
              "[<matplotlib.lines.Line2D at 0x7f35292a40f0>]"
            ]
          },
          "metadata": {
            "tags": []
          },
          "execution_count": 37
        },
        {
          "output_type": "display_data",
          "data": {
            "image/png": "[encoded data removed]",
            "text/plain": [
              "<Figure size 432x288 with 1 Axes>"
            ]
          },
          "metadata": {
            "tags": [],
            "needs_background": "light"
          }
        }
      ]
    },
    {
      "cell_type": "markdown",
      "metadata": {
        "id": "TCpLmpQJLgBX",
        "colab_type": "text"
      },
      "source": [
        "Now let's sample several functions and plot them all to see how the predictions fluctuate."
      ]
    },
    {
      "cell_type": "code",
      "metadata": {
        "id": "YFDQGdJ3LgBa",
        "colab_type": "code",
        "outputId": "923ae96f-6b07-407e-ffa1-63dedf9aa053",
        "colab": {}
      },
      "source": [
        "for i in range(num_samples):\n",
        "    w_sample = np.random.multivariate_normal(w_mean.flatten(), w_cov)\n",
        "    f_sample = np.dot(Phi_pred,w_sample)\n",
        "    plt.plot(x_pred.flatten(), f_sample.flatten())\n",
        "plt.plot(x, y, 'rx') # plot data to show fit."
      ],
      "execution_count": 0,
      "outputs": [
        {
          "output_type": "execute_result",
          "data": {
            "text/plain": [
              "[<matplotlib.lines.Line2D at 0x7f35292ce7f0>]"
            ]
          },
          "metadata": {
            "tags": []
          },
          "execution_count": 38
        },
        {
          "output_type": "display_data",
          "data": {
            "image/png": "[encoded data removed]",
            "text/plain": [
              "<Figure size 432x288 with 1 Axes>"
            ]
          },
          "metadata": {
            "tags": [],
            "needs_background": "light"
          }
        }
      ]
    },
    {
      "cell_type": "markdown",
      "metadata": {
        "id": "kknBLLeHLgBg",
        "colab_type": "text"
      },
      "source": [
        "This gives us an idea of what our predictions are. These are the predictions that are consistent with data and our prior. Try plotting different numbers of predictions. You can also try plotting beyond the range of where the data is and see what the functions do there. \n",
        "\n",
        "Rather than sampling from the posterior each time to compute our predictions, it might be better if we just summarised the predictions by the expected value of the output funciton, $f(x)$, for any particular input. If we can get formulae for this we don't need to sample the values of $f(x)$ we might be able to compute the distribution directly. Fortunately, in the Gaussian case, we can use properties of multivariate Gaussians to compute both the mean and the variance of these samples.\n",
        "\n",
        "### Properties of Gaussian Variables\n",
        "\n",
        "Gaussian variables have very particular properties, that many other densities don't exhibit. Perhaps foremost amoungst them is that the sum of any Gaussian distributed set of random variables also turns out to be Gaussian distributed. This property is much rarer than you might expect.\n",
        "\n",
        "#### Sum of Gaussian-distributed Variables\n",
        "\n",
        "The sum of Gaussian random variables is also Gaussian, so if we have a random variable $y_i$ drawn from a Gaussian density with mean $\\meanScalar_i$ and variance $\\dataStd^2_i$, \n",
        "\n",
        "$$y_i \\sim \\gaussianSamp{\\meanScalar_i}{\\dataStd^2_i}$$\n",
        "\n",
        "Then the sum of $K$ independently sampled values of $y_i$ will be drawn from a Gaussian with mean $\\sum_{i=1}^K \\mu_i$ and variance $\\sum_{i=1}^K \\dataStd_i^2$,\n",
        "\n",
        "\n",
        "$$\\sum_{i=1}^K y_i \\sim \\gaussianSamp{\\sum_{i=1}^K \\meanScalar_i}{\\sum_{i=1}^K \\dataStd_i^2}.$$\n",
        "\n",
        "Let's try that experimentally. First let's generate a vector of samples from a standard normal distribution, $z \\sim \\gaussianSamp{0}{1}$,  then we will scale and offset them, then keep adding them into a vector `y_vec`.\n",
        "\n",
        "#### Sampling from Gaussians and Summing Up"
      ]
    },
    {
      "cell_type": "code",
      "metadata": {
        "id": "4c29RXAbLgBh",
        "colab_type": "code",
        "outputId": "6d217944-577c-4d8c-95e3-19d1b6d8f9d2",
        "colab": {}
      },
      "source": [
        "K = 10 # how many Gaussians to add.\n",
        "num_samples = 1000 # how many samples to have in y_vec\n",
        "mus = np.linspace(0, 5, K) # mean values generated linearly spaced between 0 and 5\n",
        "sigmas = np.linspace(0.5, 2, K) # sigmas generated linearly spaced between 0.5 and 2\n",
        "y_vec = np.zeros(num_samples)\n",
        "for mu, sigma in zip(mus, sigmas):\n",
        "    z_vec = np.random.normal(size=num_samples) # z is from standard normal\n",
        "    y_vec += z_vec*sigma + mu # add to y z*sigma + mu\n",
        "\n",
        "# now y_vec is the sum of each scaled and off set z.\n",
        "print('Sample mean is ', y_vec.mean(), ' and sample variance is ', y_vec.var())\n",
        "print('True mean should be ', mus.sum())\n",
        "print('True variance should be ', (sigmas**2).sum(), ' standard deviation ', np.sqrt((sigmas**2).sum())) "
      ],
      "execution_count": 0,
      "outputs": [
        {
          "output_type": "stream",
          "text": [
            "Sample mean is  25.121147854472447  and sample variance is  17.706668993922293\n",
            "True mean should be  25.0\n",
            "True variance should be  17.916666666666664  standard deviation  4.232808366400098\n"
          ],
          "name": "stdout"
        }
      ]
    },
    {
      "cell_type": "markdown",
      "metadata": {
        "id": "qJmTDn7BLgBk",
        "colab_type": "text"
      },
      "source": [
        "Of course, we can histogram `y_vec` as well."
      ]
    },
    {
      "cell_type": "code",
      "metadata": {
        "id": "E1W7v8SOLgBl",
        "colab_type": "code",
        "outputId": "ab2a60d3-cd94-45bc-b9c6-3f71232f622f",
        "colab": {}
      },
      "source": [
        "plt.hist(y_vec, bins=30, density=True)\n",
        "plt.legend('$y$')\n",
        "plt.show()"
      ],
      "execution_count": 0,
      "outputs": [
        {
          "output_type": "display_data",
          "data": {
            "image/png": "[encoded data removed]",
            "text/plain": [
              "<Figure size 432x288 with 1 Axes>"
            ]
          },
          "metadata": {
            "tags": [],
            "needs_background": "light"
          }
        }
      ]
    },
    {
      "cell_type": "markdown",
      "metadata": {
        "id": "77RPmOuzLgBp",
        "colab_type": "text"
      },
      "source": [
        "### Matrix Multiplication of Gaussian Variables\n",
        "\n",
        "We are interested in what our model is saying about the sort of functions we are observing. The fact that summing of Gaussian variables leads to new Gaussian variables, and scaling of Gaussian variables *also* leads to Gaussian variables means that matrix multiplication (which is just a series of sums and scales) also leads to Gaussian densities. Matrix multiplication is just adding and scaling together, in the formula, $\\mappingFunctionVector = \\basisMatrix \\mappingVector$ we can extract the first element from $\\mappingFunctionVector$ as\n",
        "\n",
        "$$\\mappingFunctionScalar_i = \\basisVector_i^\\top \\mappingVector$$\n",
        "\n",
        "where $\\basisVector$ is a column vector from the $i$th row of $\\basisMatrix$ and $\\mappingFunctionScalar_i$ is the $i$th element of $\\mappingFunctionVector$. This vector inner product itself merely implies that \n",
        "\n",
        "$$\\mappingFunctionScalar_i = \\sum_{j=1}^K \\mappingScalar_j \\basisScalar_{i, j}$$\n",
        "\n",
        "and if we now say that $\\mappingScalar_i$ is Gaussian distributed, then because a scaled Gaussian is also Gaussian, and because a sum of Gaussians is also Gaussian, we know that $\\mappingFunctionScalar_i$ is also Gaussian distributed. It merely remains to work out its mean and covariance. The results are below and the derviations follow. For those interested, the derivations are  available [here](https://nbviewer.jupyter.org/github/lawrennd/mlai2015/blob/master/week6.ipynb).\n",
        "\n",
        "The expectation under the prior is given by\n",
        "\n",
        "$$\\expDist{\\mappingFunctionVector}{\\gaussianDist{\\mappingVector}{\\zerosVector}{\\alpha\\eye}} = \\zerosVector$$\n",
        "\n",
        "and the covariance is \n",
        "\n",
        "$$\\text{cov}\\left(\\mappingFunctionVector\\right)_{\\gaussianDist{\\mappingVector}{\\zerosVector}{\\alpha \\eye}} = \\alpha \\basisMatrix \\basisMatrix^\\top$$\n",
        "\n",
        "\n",
        "### Compute the Marginal Likelihood\n",
        "\n",
        "Since our observed output, $\\dataVector$, is given by a noise corrupted variation of $\\mappingFunctionVector$, the final distribution for $\\dataVector$ is given as \n",
        "\n",
        "$$\\dataVector = \\mappingFunctionVector + \\noiseVector$$\n",
        "\n",
        "where the noise, $\\noiseVector$, is sampled from a Gaussian density: $\\noiseVector \\sim \\gaussianSamp{\\zerosVector}{\\dataStd^2\\eye}$. So, in other words, we are taking a Gaussian distributed random value $\\mappingFunctionVector$,\n",
        "\n",
        "$$\\mappingFunctionVector \\sim \\gaussianSamp{\\zerosVector}{\\alpha\\basisMatrix\\basisMatrix^\\top}$$\n",
        "\n",
        "and adding to it another Gaussian distributed value, $\\noiseVector \\sim \\gaussianSamp{\\zerosVector}{\\dataStd^2\\eye}$, to form our data observations, $\\dataVector$. Once again the sum of two (multivariate) Gaussian distributed variables is also Gaussian, with a mean given by the sum of the means (both zero in this case) and the covariance given by the sum of the covariances. So we now have that the marginal likelihood for the data, $p(\\dataVector)$ is given by\n",
        "\n",
        "$$p(\\dataVector) = \\gaussianDist{\\dataVector}{\\zerosVector}{\\alpha \\basisMatrix \\basisMatrix^\\top + \\dataStd^2\\eye}$$\n",
        "\n",
        "This is our *implicit* assumption for $\\dataVector$ given our prior assumption for $\\mappingVector$.\n",
        "\n",
        "### Computing the Mean and Error Bars of the Functions\n",
        "\n",
        "These ideas together, now allow us to compute the mean and error bars of the predictions. The mean prediction, before corrupting by noise is given by,\n",
        "$$\n",
        "\\mathbf{f} = \\boldsymbol{\\Phi}\\mathbf{w}\n",
        "$$\n",
        "in matrix form. This gives you enough information to compute the predictive mean. "
      ]
    },
    {
      "cell_type": "markdown",
      "metadata": {
        "id": "G06dpoAvLgBr",
        "colab_type": "text"
      },
      "source": [
        "### Question 2\n",
        "\n",
        "Compute the predictive mean for the function at all the values of the basis function given by `Phi_pred`. Call the vector of predictions `f_pred_mean`. Plot the predictions alongside the data. We can also compute what the training error was. Use the output from your model to compute the predictive mean, and then compute the sum of squares error of that predictive mean.\n",
        "$$\n",
        "E = \\sum_{i=1}^n (y_i - \\langle f_i\\rangle)^2\n",
        "$$\n",
        "where $\\langle f_i\\rangle$ is the expected output of the model at point $x_i$."
      ]
    },
    {
      "cell_type": "code",
      "metadata": {
        "id": "KVvDsip0LgBs",
        "colab_type": "code",
        "outputId": "1365e60b-cc74-446a-9ab6-0882dca8a823",
        "colab": {}
      },
      "source": [
        "# Question 2 Answer Code\n",
        "# Write code for you answer to this question in this box\n",
        "\n",
        "# compute mean under posterior density\n",
        "f_pred_mean = np.dot(Phi_pred, w_mean)\n",
        "\n",
        "# plot the predictions\n",
        "plt.plot(x_pred, f_pred_mean)\n",
        "plt.plot(x, y, 'rx')\n",
        "\n",
        "# compute mean at the training data and sum of squares error\n",
        "f_mean = np.dot(Phi, w_mean)\n",
        "sum_squares = ((y - f_mean)**2).sum() \n",
        "print('The error is: ', sum_squares)"
      ],
      "execution_count": 0,
      "outputs": [
        {
          "output_type": "stream",
          "text": [
            "The error is:  1.0836499553847927\n"
          ],
          "name": "stdout"
        },
        {
          "output_type": "display_data",
          "data": {
            "image/png": "[encoded data removed]",
            "text/plain": [
              "<Figure size 432x288 with 1 Axes>"
            ]
          },
          "metadata": {
            "tags": [],
            "needs_background": "light"
          }
        }
      ]
    },
    {
      "cell_type": "markdown",
      "metadata": {
        "id": "_Jb-UVIpLgBx",
        "colab_type": "text"
      },
      "source": [
        "### Computing Error Bars\n",
        "\n",
        "Finally, we can compute error bars for the predictions. The error bars are the standard deviations of the predictions for $\\mappingFunctionVector=\\basisMatrix\\mappingVector$ under the posterior density for $\\mappingVector$. The standard deviations of these predictions can be found from the variance of the prediction at each point. Those variances are the diagonal entries of the covariance matrix. We've already computed the form of the covariance under Gaussian expectations (see the derivations [here](https://nbviewer.jupyter.org/github/lawrennd/mlai2015/blob/master/week6.ipynb)), \n",
        "\n",
        "$$\\text{cov}\\left(\\mappingFunctionVector\\right)_{\\gaussianDist{\\mappingVector}{\\meanVector}{\\covarianceMatrix}} = \\basisMatrix\\covarianceMatrix \\basisMatrix^\\top$$\n",
        "\n",
        "which under the posterior density is given by\n",
        "\n",
        "$$\\text{cov}\\left(\\mappingFunctionVector\\right)_{\\gaussianDist{\\mappingVector}{\\meanVector_w}{\\covarianceMatrix_w}} = \\basisMatrix\\covarianceMatrix_w \\basisMatrix^\\top$$"
      ]
    },
    {
      "cell_type": "markdown",
      "metadata": {
        "id": "yTfM8xdgLgBy",
        "colab_type": "text"
      },
      "source": [
        "###  Question 3\n",
        "\n",
        "The error bars are given by computing the standard deviation of the predictions, $f$. For a given prediction $f_i$ the variance is $\\text{var}(f_i) = \\langle f_i^2\\rangle - \\langle f_i \\rangle^2$. This is given by the diagonal element of the covariance of $\\mathbf{f}$,\n",
        "$$\n",
        "\\text{var}(f_i) = \\boldsymbol{\\phi}_{i, :}^\\top \\mathbf{C}_w \\boldsymbol{\\phi}_{i, :}\n",
        "$$\n",
        "where $\\boldsymbol{\\phi}_{i, :}$ is the basis vector associated with the input location, $\\mathbf{x}_i$.\n",
        "\n",
        "Plot the mean function and the error bars for your basis."
      ]
    },
    {
      "cell_type": "code",
      "metadata": {
        "id": "lepiIlNiLgBz",
        "colab_type": "code",
        "outputId": "886d4c95-f42e-4ea0-d8f5-06a3fd49f68c",
        "colab": {}
      },
      "source": [
        "# Question 3 Answer Code\n",
        "# Write code for you answer to this question in this box\n",
        "\n",
        "# Compute variance at function values\n",
        "f_pred_var = np.diagonal(np.dot(Phi_pred.T, np.dot(Phi_pred, w_cov))).reshape(-1, 1)\n",
        "f_pred_std = np.sqrt(f_pred_var)\n",
        "\n",
        "# plot the mean and error bars at 2 standard deviations above and below the mean\n",
        "f_pred_err = (np.dot(Phi_pred, w_mean + (2*f_pred_std)) - f_pred_mean).flatten()\n",
        "\n",
        "plt.plot(x_pred, f_pred_mean)\n",
        "plt.errorbar(x_pred, f_pred_mean, yerr = f_pred_err)\n",
        "plt.plot(x, y, 'rx')\n",
        "plt.show()"
      ],
      "execution_count": 0,
      "outputs": [
        {
          "output_type": "display_data",
          "data": {
            "image/png": "[encoded data removed]",
            "text/plain": [
              "<Figure size 432x288 with 1 Axes>"
            ]
          },
          "metadata": {
            "tags": [],
            "needs_background": "light"
          }
        }
      ]
    },
    {
      "cell_type": "markdown",
      "metadata": {
        "id": "DZ-NmrMlLgB2",
        "colab_type": "text"
      },
      "source": [
        "# Part B: Linear Regression with PyTorch"
      ]
    },
    {
      "cell_type": "markdown",
      "metadata": {
        "id": "WkAKLqRdLgB3",
        "colab_type": "text"
      },
      "source": [
        "\n",
        "## Objective\n",
        "\n",
        "* To perform linear regression using PyTorch for understanding the link between linear models and neural networks.\n",
        "\n",
        "**Suggested reading**: \n",
        "* What is PyTorch from [PyTorch tutorial](https://pytorch.org/tutorials/beginner/blitz/tensor_tutorial.html#sphx-glr-beginner-blitz-tensor-tutorial-py)\n",
        "\n",
        "#### Assumptions: basic python programming and [Anaconda](https://anaconda.org/) installed.\n",
        "\n"
      ]
    },
    {
      "cell_type": "markdown",
      "metadata": {
        "id": "YuG1TvyeLgB4",
        "colab_type": "text"
      },
      "source": [
        "## Why\n",
        "\n",
        "[Linear regression](https://en.wikipedia.org/wiki/Linear_regression) is a fundamental problem in statistics and machine learning. Using PyTorch, a deep learing library, to do linear regression will help bridge simple linear models with complex neural networks.\n",
        "\n",
        "## B1. PyTorch Installation and Basics\n",
        "\n",
        "#### Install [PyTorch](https://github.com/pytorch/pytorch) via [Anaconda](https://anaconda.org/)\n",
        "`conda install -c pytorch pytorch`\n",
        "\n",
        "When you are asked whether to proceed, say `y`\n",
        "\n",
        "#### Install [torchvision](https://github.com/pytorch/vision)\n",
        "`conda install -c pytorch torchvision`\n",
        "\n",
        "When you are asked whether to proceed, say `y`"
      ]
    },
    {
      "cell_type": "markdown",
      "metadata": {
        "id": "1-shiedFLgB7",
        "colab_type": "text"
      },
      "source": [
        "Optional: Go over the first two modules of [PyTorch tutorial](https://pytorch.org/tutorials/beginner/blitz/tensor_tutorial.html#sphx-glr-beginner-blitz-tensor-tutorial-py), *What is PyTorch* and *Autograd*"
      ]
    },
    {
      "cell_type": "markdown",
      "metadata": {
        "id": "Z5JKxCNoLgB9",
        "colab_type": "text"
      },
      "source": [
        "### Tensor\n",
        "`torch.Tensor` is \n",
        "a multidimensional array data structure (array). You may check out the full list of [tensor types](http://pytorch.org/docs/master/tensors.html) and various [tensor operations](https://pytorch.org/docs/stable/torch.html).\n"
      ]
    },
    {
      "cell_type": "markdown",
      "metadata": {
        "id": "XfVBP-PrLgB-",
        "colab_type": "text"
      },
      "source": [
        "### Computational Graph\n",
        "A computation graph defines/visualises a sequence of operations to go from input to model output. \n",
        "\n",
        "Consider a linear regression model $\\hat y = Wx + b$, where $x$ is our input, $W$ is a weight matrix, $b$ is a bias, and $\\hat y$ is the predicted output. As a computation graph, this looks like:\n",
        "\n",
        "![Linear Regression Computation Graph](https://imgur.com/IcBhTjS.png)"
      ]
    },
    {
      "cell_type": "markdown",
      "metadata": {
        "id": "j104BE-KLgB_",
        "colab_type": "text"
      },
      "source": [
        "PyTorch dynamically build the computational graph, for example\n",
        "![DynamicGraph.gif](https://raw.githubusercontent.com/pytorch/pytorch/master/docs/source/_static/img/dynamic_graph.gif)"
      ]
    },
    {
      "cell_type": "markdown",
      "metadata": {
        "id": "46-pVe3aLgCC",
        "colab_type": "text"
      },
      "source": [
        "## B2. Linear Regression using PyTorch"
      ]
    },
    {
      "cell_type": "markdown",
      "metadata": {
        "id": "ZS-wfDYTLgCD",
        "colab_type": "text"
      },
      "source": [
        "Let us start right away with implementing linear regression in PyTorch to study PyTorch concepts closely. This part follows the [PyTorch Linear regression example](https://github.com/pytorch/examples/tree/master/regression) that trains a **single fully-connected layer** to fit a 4th degree polynomial.\n",
        "\n",
        "### A synthetic linear regression problem\n",
        "\n",
        "* Generate model parameters, weight and bias. The weight vector and bias are both tensors, 1D and 0D, respectively. "
      ]
    },
    {
      "cell_type": "code",
      "metadata": {
        "id": "pxCAJvWPLgCE",
        "colab_type": "code",
        "colab": {}
      },
      "source": [
        "import torch\n",
        "import torch.nn.functional as F\n",
        "\n",
        "POLY_DEGREE = 4\n",
        "W_target = torch.randn(POLY_DEGREE, 1) * 5\n",
        "b_target = torch.randn(1) * 5"
      ],
      "execution_count": 0,
      "outputs": []
    },
    {
      "cell_type": "code",
      "metadata": {
        "id": "mXuRK3qULgCK",
        "colab_type": "code",
        "colab": {
          "base_uri": "https://localhost:8080/",
          "height": 105
        },
        "outputId": "e49e2e0b-2c95-4898-bc48-e3c01256972b"
      },
      "source": [
        "print(W_target)\n",
        "print(b_target)"
      ],
      "execution_count": 2,
      "outputs": [
        {
          "output_type": "stream",
          "text": [
            "tensor([[-7.5400],\n",
            "        [ 0.6627],\n",
            "        [ 8.0111],\n",
            "        [10.3839]])\n",
            "tensor([3.1970])\n"
          ],
          "name": "stdout"
        }
      ]
    },
    {
      "cell_type": "markdown",
      "metadata": {
        "id": "_cq2E45JLgCR",
        "colab_type": "text"
      },
      "source": [
        "* Next, define a number of functions to generate the input (variables) and output (target/response). "
      ]
    },
    {
      "cell_type": "code",
      "metadata": {
        "id": "nuBBrU0yLgCT",
        "colab_type": "code",
        "colab": {}
      },
      "source": [
        "def make_features(x):\n",
        "    \"\"\"Builds features i.e. a matrix with columns [x, x^2, x^3, x^4].\"\"\"\n",
        "    x = x.unsqueeze(1)\n",
        "    return torch.cat([x ** i for i in range(1, POLY_DEGREE+1)], 1)\n",
        "\n",
        "def f(x):\n",
        "    \"\"\"Approximated function.\"\"\"\n",
        "    return x.mm(W_target) + b_target.item()\n",
        "\n",
        "def poly_desc(W, b):\n",
        "    \"\"\"Creates a string description of a polynomial.\"\"\"\n",
        "    result = 'y = '\n",
        "    for i, w in enumerate(W):\n",
        "        result += '{:+.2f} x^{} '.format(w, len(W) - i)\n",
        "    result += '{:+.2f}'.format(b[0])\n",
        "    return result\n",
        "\n",
        "def get_batch(batch_size=32):\n",
        "    \"\"\"Builds a batch i.e. (x, f(x)) pair.\"\"\"\n",
        "    random = torch.randn(batch_size)\n",
        "    x = make_features(random)\n",
        "    y = f(x)\n",
        "    return x, y"
      ],
      "execution_count": 0,
      "outputs": []
    },
    {
      "cell_type": "markdown",
      "metadata": {
        "id": "A-zfX5-YLgCX",
        "colab_type": "text"
      },
      "source": [
        "* Define a simple(st) neural network, which is a **single fully connected** (FC) layer. See [`torch.nn.Linear`](https://pytorch.org/docs/master/nn.html#torch.nn.Linear)"
      ]
    },
    {
      "cell_type": "code",
      "metadata": {
        "id": "eRl2yNfGLgCY",
        "colab_type": "code",
        "colab": {
          "base_uri": "https://localhost:8080/",
          "height": 34
        },
        "outputId": "e9a7292d-5c25-4286-b5de-8137955ec4af"
      },
      "source": [
        "fc = torch.nn.Linear(W_target.size(0), 1)\n",
        "print(fc)"
      ],
      "execution_count": 4,
      "outputs": [
        {
          "output_type": "stream",
          "text": [
            "Linear(in_features=4, out_features=1, bias=True)\n"
          ],
          "name": "stdout"
        }
      ]
    },
    {
      "cell_type": "markdown",
      "metadata": {
        "id": "yzQUfpeOLgCb",
        "colab_type": "text"
      },
      "source": [
        "    This is a *network* with four input units, one output unit, with a bias term.\n",
        "    \n",
        "* Now generate the data. Let us try to get five pairs of (x,y) first to inspect.\n"
      ]
    },
    {
      "cell_type": "code",
      "metadata": {
        "id": "QxY8TLImLgCc",
        "colab_type": "code",
        "colab": {
          "base_uri": "https://localhost:8080/",
          "height": 194
        },
        "outputId": "51d7a0bb-3e7b-477a-956b-8a5fa1f2a80f"
      },
      "source": [
        "sample_x, sample_y = get_batch(5)\n",
        "print(sample_x)\n",
        "print(sample_y)"
      ],
      "execution_count": 5,
      "outputs": [
        {
          "output_type": "stream",
          "text": [
            "tensor([[ 0.5027,  0.2528,  0.1271,  0.0639],\n",
            "        [ 0.9927,  0.9854,  0.9782,  0.9711],\n",
            "        [ 1.6659,  2.7753,  4.6234,  7.7022],\n",
            "        [-1.0341,  1.0694, -1.1058,  1.1436],\n",
            "        [-0.7557,  0.5710, -0.4315,  0.3261]])\n",
            "tensor([[  1.2552],\n",
            "        [ 14.2853],\n",
            "        [109.4921],\n",
            "        [ 14.7184],\n",
            "        [  9.2022]])\n"
          ],
          "name": "stdout"
        }
      ]
    },
    {
      "cell_type": "markdown",
      "metadata": {
        "id": "EGObH3y5LgCg",
        "colab_type": "text"
      },
      "source": [
        "    Take a look at the FC layer weights (randomly initialised)"
      ]
    },
    {
      "cell_type": "code",
      "metadata": {
        "id": "5vAxFtnxLgCh",
        "colab_type": "code",
        "colab": {
          "base_uri": "https://localhost:8080/",
          "height": 52
        },
        "outputId": "b419d3c9-a2ef-4aab-aca0-b1d8a5da9f96"
      },
      "source": [
        "print(fc.weight)"
      ],
      "execution_count": 6,
      "outputs": [
        {
          "output_type": "stream",
          "text": [
            "Parameter containing:\n",
            "tensor([[ 0.4878,  0.4332, -0.1485,  0.3994]], requires_grad=True)\n"
          ],
          "name": "stdout"
        }
      ]
    },
    {
      "cell_type": "markdown",
      "metadata": {
        "id": "d-yEWVYcLgCp",
        "colab_type": "text"
      },
      "source": [
        "    Reset the gradients to zero, perform a forward pass to get prediction, and compute the loss"
      ]
    },
    {
      "cell_type": "code",
      "metadata": {
        "id": "4cWNXYjXLgCq",
        "colab_type": "code",
        "colab": {
          "base_uri": "https://localhost:8080/",
          "height": 34
        },
        "outputId": "3b33dc5a-0f7a-443e-985d-5c4c14c8c3ec"
      },
      "source": [
        "fc.zero_grad()\n",
        "output = F.smooth_l1_loss(fc(sample_x), sample_y)\n",
        "loss = output.item()\n",
        "print(loss)"
      ],
      "execution_count": 7,
      "outputs": [
        {
          "output_type": "stream",
          "text": [
            "27.876012802124023\n"
          ],
          "name": "stdout"
        }
      ]
    },
    {
      "cell_type": "markdown",
      "metadata": {
        "id": "PRKHolHlLgCt",
        "colab_type": "text"
      },
      "source": [
        "    Random did not give a good prediction. Let us do a backpropagation and update model parameters with gradients."
      ]
    },
    {
      "cell_type": "code",
      "metadata": {
        "id": "6tAx8gE0LgCu",
        "colab_type": "code",
        "colab": {}
      },
      "source": [
        "output.backward() \n",
        "for param in fc.parameters():  \n",
        "    param.data.add_(-0.1 * param.grad.data)"
      ],
      "execution_count": 0,
      "outputs": []
    },
    {
      "cell_type": "markdown",
      "metadata": {
        "id": "GuRrAGWLLgCy",
        "colab_type": "text"
      },
      "source": [
        "    Check the updated weights and respective loss"
      ]
    },
    {
      "cell_type": "code",
      "metadata": {
        "id": "M2nY7MQdLgCy",
        "colab_type": "code",
        "colab": {
          "base_uri": "https://localhost:8080/",
          "height": 70
        },
        "outputId": "8d523978-07fd-45d6-b8ca-caaa477966e2"
      },
      "source": [
        "print(fc.weight)\n",
        "output = F.smooth_l1_loss(fc(sample_x), sample_y)\n",
        "loss = output.item()\n",
        "print(loss)"
      ],
      "execution_count": 9,
      "outputs": [
        {
          "output_type": "stream",
          "text": [
            "Parameter containing:\n",
            "tensor([[ 0.5131,  0.5452, -0.0652,  0.6032]], requires_grad=True)\n",
            "27.169986724853516\n"
          ],
          "name": "stdout"
        }
      ]
    },
    {
      "cell_type": "markdown",
      "metadata": {
        "id": "M7qRhVVBLgC1",
        "colab_type": "text"
      },
      "source": [
        "   * Now keep feeding more data until the loss is small enough. "
      ]
    },
    {
      "cell_type": "code",
      "metadata": {
        "id": "57kzJUxILgC2",
        "colab_type": "code",
        "colab": {}
      },
      "source": [
        "from itertools import count\n",
        "for batch_idx in count(1):\n",
        "    # Get data\n",
        "    batch_x, batch_y = get_batch()\n",
        "\n",
        "    # Reset gradients\n",
        "    fc.zero_grad()\n",
        "\n",
        "    # Forward pass\n",
        "    output = F.smooth_l1_loss(fc(batch_x), batch_y)\n",
        "    loss = output.item()\n",
        "\n",
        "    # Backward pass\n",
        "    output.backward()\n",
        "\n",
        "    # Apply gradients\n",
        "    for param in fc.parameters():\n",
        "        param.data.add_(-0.1 * param.grad.data)\n",
        "\n",
        "    # Stop criterion\n",
        "    if loss < 1e-3:\n",
        "        break\n"
      ],
      "execution_count": 0,
      "outputs": []
    },
    {
      "cell_type": "code",
      "metadata": {
        "id": "FfChrm7uLgC5",
        "colab_type": "code",
        "colab": {
          "base_uri": "https://localhost:8080/",
          "height": 70
        },
        "outputId": "d340ea6d-8067-4654-e3f6-b591b2864681"
      },
      "source": [
        "print('Loss: {:.6f} after {} batches'.format(loss, batch_idx))\n",
        "print('==> Learned function:\\t' + poly_desc(fc.weight.view(-1), fc.bias))\n",
        "print('==> Actual function:\\t' + poly_desc(W_target.view(-1), b_target))"
      ],
      "execution_count": 11,
      "outputs": [
        {
          "output_type": "stream",
          "text": [
            "Loss: 0.000822 after 600 batches\n",
            "==> Learned function:\ty = -7.46 x^4 +0.70 x^3 +7.98 x^2 +10.37 x^1 +3.19\n",
            "==> Actual function:\ty = -7.54 x^4 +0.66 x^3 +8.01 x^2 +10.38 x^1 +3.20\n"
          ],
          "name": "stdout"
        }
      ]
    },
    {
      "cell_type": "markdown",
      "metadata": {
        "id": "vViEnAtBLgC8",
        "colab_type": "text"
      },
      "source": [
        "## B3. Exercises\n",
        "\n",
        "\n",
        "* Change the [loss function](https://pytorch.org/docs/stable/nn.html#loss-functions) to different choices and compare the results.\n",
        "  \n",
        "* Formulate another regression problem and solve it using `torch.nn`\n",
        "* Compare the `torch.nn` solution against the closed-form solution\n",
        "* Explore any other variations that you can think of to learn more\n",
        "\n",
        "\n",
        "# Acknowledgement\n",
        "Some part of this notebook is taken from the following sources\n",
        "\n",
        "* [PyTorch tutorial from CSE446, University of Washington](https://courses.cs.washington.edu/courses/cse446/18wi/sections/section7/446_pytorch_tutorial.html)"
      ]
    }
  ]
}